{
  "nbformat": 4,
  "nbformat_minor": 0,
  "metadata": {
    "colab": {
      "name": "Text Analytics Homework 02.ipynb",
      "version": "0.3.2",
      "provenance": [],
      "collapsed_sections": [
        "sok4j_soMir7",
        "8ET3Sh6OuqMK",
        "1-nNuurERyfg",
        "Tqu4hF007nHt",
        "2SX-SoYWW0Zi",
        "-s4g1qgcejxu",
        "b1F_NSGmL3dm",
        "st8eC42xOhoO",
        "_DFk9bzqv5v3",
        "XteDH6IuX1aF",
        "PE5g4AKAd3fS",
        "qIzuaGz-eYDR",
        "B0FNIwCw2HWX",
        "cYA0e_MjKQsq",
        "Qy4QfQSx_w4V",
        "RFZdcrTxeLe8",
        "2Yi5IRm8eUW0",
        "MGwz4UKl1jCA",
        "cWL-F5MUfc7S",
        "zGwl2AtKxgbs",
        "694WiMzpxyT7",
        "T7hVamKn3cHl",
        "T_NWbTQ83i88",
        "xCPZlema37zJ",
        "_J8ChuBi4LEn",
        "jIzG6-Vi5b9J",
        "G9IeKO_V7pX9",
        "Tg4wuYHU9Wj2",
        "bPfpAuET-scp",
        "4E4gALH-BbBJ",
        "oHNfcDTBE0Zp",
        "afOm3-MITN68",
        "P8waLiP-Tgq2",
        "LrOaz3fNTkog",
        "93mBaYYjTnjU",
        "S86SfcNwTsfz",
        "Fd9_bCJzatf9",
        "9D3YU9LTTxGx",
        "GBTvXfmYcj2W",
        "DFk9TAwT47Ff",
        "wPfa4_pM5CCE",
        "S6BCPZin5w_v",
        "jY0_9S7E_WvE",
        "A98fS2ing053",
        "EL6Wzs6DhTxj",
        "uw3GWxRwA9bH",
        "RTnzsQ-oSHGB",
        "o9sjpyifOCxi",
        "PVTJrDgeAH9U",
        "KFv9K0ESPl3V",
        "6QNV-PtlOVqL",
        "v7-fArReoNLU",
        "6OMdqptoqyn1",
        "62NhcknNuDr3",
        "Lp0EWyv10Y8k",
        "013Y8WuAVwmD",
        "pobDdzuWVz6f",
        "J28-j0DXOfkW"
      ],
      "toc_visible": true
    },
    "kernelspec": {
      "name": "python3",
      "display_name": "Python 3"
    },
    "accelerator": "GPU"
  },
  "cells": [
    {
      "metadata": {
        "id": "LVzVT3js_-fn",
        "colab_type": "toc"
      },
      "cell_type": "markdown",
      "source": [
        ">[0 Imports & helper functions](#scrollTo=sok4j_soMir7)\n",
        "\n",
        ">[1 (BASIC) Data preprocessing](#scrollTo=RrlUPWjzQDU6)\n",
        "\n",
        ">>[1.1 Loading of raw data](#scrollTo=j9bGeP56-Ukx)\n",
        "\n",
        ">>[1.2 Decoding of accented characters](#scrollTo=8ET3Sh6OuqMK)\n",
        "\n",
        ">>[1.3 Tokenization](#scrollTo=1-nNuurERyfg)\n",
        "\n",
        ">>[1.4 Decapitalization](#scrollTo=Tqu4hF007nHt)\n",
        "\n",
        ">>[1.5 Expanding contractions](#scrollTo=2SX-SoYWW0Zi)\n",
        "\n",
        ">>[1.6 Removing posessive apostrophes](#scrollTo=-s4g1qgcejxu)\n",
        "\n",
        ">>[1.7 Combining the proprocessing techniques](#scrollTo=b1F_NSGmL3dm)\n",
        "\n",
        ">>[1.8 Saving (basic) preprocessed dataframes](#scrollTo=st8eC42xOhoO)\n",
        "\n",
        ">[2 (ADVANCED) Data preprocessing](#scrollTo=_DFk9bzqv5v3)\n",
        "\n",
        ">>[2.0 Efficiency](#scrollTo=XteDH6IuX1aF)\n",
        "\n",
        ">>[2.1 Stopword removal](#scrollTo=PE5g4AKAd3fS)\n",
        "\n",
        ">>[2.2 Lemmatization](#scrollTo=qIzuaGz-eYDR)\n",
        "\n",
        ">>[2.3 Removal/replacement of numbers](#scrollTo=B0FNIwCw2HWX)\n",
        "\n",
        ">>[2.4 Noun tokenisation:](#scrollTo=cYA0e_MjKQsq)\n",
        "\n",
        ">>[2.5 Count & TF-IDF matrix to DF](#scrollTo=Qy4QfQSx_w4V)\n",
        "\n",
        ">>[2.6 Count](#scrollTo=RFZdcrTxeLe8)\n",
        "\n",
        ">>[2.7 TF-IDF](#scrollTo=2Yi5IRm8eUW0)\n",
        "\n",
        ">[3 Data exploration](#scrollTo=xB1nKz1x7yOE)\n",
        "\n",
        ">>>>[Getting the Distribution of Classes](#scrollTo=MGwz4UKl1jCA)\n",
        "\n",
        ">>>[3.1 Tokenization](#scrollTo=cWL-F5MUfc7S)\n",
        "\n",
        ">>>[3.2 WordCloud Visualization](#scrollTo=B_i0U4i0flbc)\n",
        "\n",
        ">>>[3.3 Word Frequency](#scrollTo=7EQrswoRf0Nc)\n",
        "\n",
        ">>>[3.4 N-Grams](#scrollTo=mn_ZCTvj69Ss)\n",
        "\n",
        ">>>>[N-grams Plotting Function](#scrollTo=-PC_hjXJZpV9)\n",
        "\n",
        ">>>>[N-Grams Function](#scrollTo=hACiHNUyZ0zF)\n",
        "\n",
        ">>>>[Bi-Grams](#scrollTo=gA0tZgpQZ7Vj)\n",
        "\n",
        ">>>>[Tri-Grams](#scrollTo=vzu9ZsxWaC8f)\n",
        "\n",
        ">>>[3.5 Clustering](#scrollTo=zGwl2AtKxgbs)\n",
        "\n",
        ">>>>[Tf-Idf clustering functions](#scrollTo=694WiMzpxyT7)\n",
        "\n",
        ">>>>[Tf-idf Cosine Similarity](#scrollTo=T7hVamKn3cHl)\n",
        "\n",
        ">>>>[Tf-idf Euclidean distance](#scrollTo=T_NWbTQ83i88)\n",
        "\n",
        ">>>>[Tf-Idf Manhattan distance](#scrollTo=xCPZlema37zJ)\n",
        "\n",
        ">>>>[Cosine Similarity using count vector](#scrollTo=_J8ChuBi4LEn)\n",
        "\n",
        ">>>>[Conclusion](#scrollTo=jIzG6-Vi5b9J)\n",
        "\n",
        ">[4 Defining framework & workflow for model evaluation](#scrollTo=G9IeKO_V7pX9)\n",
        "\n",
        ">>[4.1 Loading preprocessing and splitting data](#scrollTo=Tg4wuYHU9Wj2)\n",
        "\n",
        ">>[4.2 Automatic hyperparameter search using crossvalidation](#scrollTo=bPfpAuET-scp)\n",
        "\n",
        ">>[4.3 Final scoring of model](#scrollTo=4E4gALH-BbBJ)\n",
        "\n",
        ">[5 Example model wrapper](#scrollTo=oHNfcDTBE0Zp)\n",
        "\n",
        ">>[5.1 Definition of a model/wrapper](#scrollTo=afOm3-MITN68)\n",
        "\n",
        ">>>[5.1.1 __init__(...)](#scrollTo=P8waLiP-Tgq2)\n",
        "\n",
        ">>>[5.1.2 fit(...)](#scrollTo=LrOaz3fNTkog)\n",
        "\n",
        ">>>[5.1.3 predict(...)](#scrollTo=93mBaYYjTnjU)\n",
        "\n",
        ">>>[5.1.4 predict_proba(...)](#scrollTo=S86SfcNwTsfz)\n",
        "\n",
        ">>>[5.1.5 (OPTIONAL) transform(...)](#scrollTo=Fd9_bCJzatf9)\n",
        "\n",
        ">>[5.2 Example implementation](#scrollTo=9D3YU9LTTxGx)\n",
        "\n",
        ">>[5.3 Example use](#scrollTo=GBTvXfmYcj2W)\n",
        "\n",
        ">[6 Models](#scrollTo=GphPNssejX9g)\n",
        "\n",
        ">>[6.1 MultinomialNB](#scrollTo=DFk9TAwT47Ff)\n",
        "\n",
        ">>>[6.1.1 Model definition](#scrollTo=wPfa4_pM5CCE)\n",
        "\n",
        ">>>[6.1.2 Model tuning & evaluation](#scrollTo=S6BCPZin5w_v)\n",
        "\n",
        ">>[6.2 DecisionTreeClassifier](#scrollTo=jY0_9S7E_WvE)\n",
        "\n",
        ">>>[6.2.1 Model definition](#scrollTo=A98fS2ing053)\n",
        "\n",
        ">>>[6.2.2 Model tuning & evaluation](#scrollTo=EL6Wzs6DhTxj)\n",
        "\n",
        ">>[6.3 RandomForestClassifier](#scrollTo=uw3GWxRwA9bH)\n",
        "\n",
        ">>>[6.3.1 Model definition](#scrollTo=RTnzsQ-oSHGB)\n",
        "\n",
        ">>>[6.3.2 Model tuning & evaluation](#scrollTo=o9sjpyifOCxi)\n",
        "\n",
        ">>[6.3 ExtraTreesClassifier](#scrollTo=PVTJrDgeAH9U)\n",
        "\n",
        ">>>[6.3.1 Model Defenition](#scrollTo=KFv9K0ESPl3V)\n",
        "\n",
        ">>>>[6.3.1.2 Model tuning & evaluation](#scrollTo=6QNV-PtlOVqL)\n",
        "\n",
        ">>[6.4 Support Vector Machine](#scrollTo=v7-fArReoNLU)\n",
        "\n",
        ">>>[6.4.1 Model definition](#scrollTo=6OMdqptoqyn1)\n",
        "\n",
        ">>>[6.4.2 Model tunning & evaluation](#scrollTo=62NhcknNuDr3)\n",
        "\n",
        ">>[6.5 SimpleDenseNN](#scrollTo=Lp0EWyv10Y8k)\n",
        "\n",
        ">>>[6.5.1 Model definition](#scrollTo=013Y8WuAVwmD)\n",
        "\n",
        ">>>[6.5.2 Model tuning & evaluation](#scrollTo=pobDdzuWVz6f)\n",
        "\n",
        ">>[6.6 K Nearest Neighbours](#scrollTo=uocnGrUt8xwR)\n",
        "\n",
        ">>>[6.6.1 Model Definition](#scrollTo=E-7PTJwC9YYo)\n",
        "\n",
        ">>>[6.6.2 Model tuning & evaluation](#scrollTo=LCJRPl9nBd7G)\n",
        "\n",
        ">>[6.7 Logistical Regression](#scrollTo=J28-j0DXOfkW)\n",
        "\n",
        ">>>[6.7.1 Model Definition](#scrollTo=b9bBRuB4OhpZ)\n",
        "\n",
        ">>>[6.7.2 Model Tuning and Eevaluation](#scrollTo=m50nv5rBOlXx)\n",
        "\n",
        ">[7 Global evaluation](#scrollTo=_Q-eQfMI3xSX)\n",
        "\n",
        ">>[7.1 Ensemble classifier](#scrollTo=qtQGbI0XI6su)\n",
        "\n",
        ">>[7.2 Evaluation of results](#scrollTo=bLUx8onz5B9S)\n",
        "\n",
        ">>[7.3 Final predictions](#scrollTo=CWMCCMJf_V-4)\n",
        "\n"
      ]
    },
    {
      "metadata": {
        "id": "sok4j_soMir7",
        "colab_type": "text"
      },
      "cell_type": "markdown",
      "source": [
        "# 0 Imports & helper functions\n"
      ]
    },
    {
      "metadata": {
        "id": "2JSffDSUI4iC",
        "colab_type": "text"
      },
      "cell_type": "markdown",
      "source": [
        "Here we import all the necessary packages.\n",
        "We do this using the import key word and the name of the package we will be using.\n",
        "We do this so that all imports are accessible to all functions from the point onwards."
      ]
    },
    {
      "metadata": {
        "id": "zAyR06r9FkHf",
        "colab_type": "code",
        "outputId": "f2eece8f-4a33-408f-fb79-32426e88a1f8",
        "colab": {
          "base_uri": "https://localhost:8080/",
          "height": 496
        }
      },
      "cell_type": "code",
      "source": [
        "!pip install unidecode\n",
        "!pip install scikit-plot\n",
        "!pip install wordcloud"
      ],
      "execution_count": 0,
      "outputs": [
        {
          "output_type": "stream",
          "text": [
            "Collecting unidecode\n",
            "\u001b[?25l  Downloading https://files.pythonhosted.org/packages/31/39/53096f9217b057cb049fe872b7fc7ce799a1a89b76cf917d9639e7a558b5/Unidecode-1.0.23-py2.py3-none-any.whl (237kB)\n",
            "\u001b[K    100% |████████████████████████████████| 245kB 5.3MB/s \n",
            "\u001b[?25hInstalling collected packages: unidecode\n",
            "Successfully installed unidecode-1.0.23\n",
            "Collecting scikit-plot\n",
            "  Downloading https://files.pythonhosted.org/packages/7c/47/32520e259340c140a4ad27c1b97050dd3254fdc517b1d59974d47037510e/scikit_plot-0.3.7-py3-none-any.whl\n",
            "Requirement already satisfied: matplotlib>=1.4.0 in /usr/local/lib/python3.6/dist-packages (from scikit-plot) (2.1.2)\n",
            "Requirement already satisfied: joblib>=0.10 in /usr/local/lib/python3.6/dist-packages (from scikit-plot) (0.13.0)\n",
            "Requirement already satisfied: scikit-learn>=0.18 in /usr/local/lib/python3.6/dist-packages (from scikit-plot) (0.19.2)\n",
            "Requirement already satisfied: scipy>=0.9 in /usr/local/lib/python3.6/dist-packages (from scikit-plot) (1.1.0)\n",
            "Requirement already satisfied: numpy>=1.7.1 in /usr/local/lib/python3.6/dist-packages (from matplotlib>=1.4.0->scikit-plot) (1.14.6)\n",
            "Requirement already satisfied: pyparsing!=2.0.4,!=2.1.2,!=2.1.6,>=2.0.1 in /usr/local/lib/python3.6/dist-packages (from matplotlib>=1.4.0->scikit-plot) (2.3.0)\n",
            "Requirement already satisfied: python-dateutil>=2.1 in /usr/local/lib/python3.6/dist-packages (from matplotlib>=1.4.0->scikit-plot) (2.5.3)\n",
            "Requirement already satisfied: six>=1.10 in /usr/local/lib/python3.6/dist-packages (from matplotlib>=1.4.0->scikit-plot) (1.11.0)\n",
            "Requirement already satisfied: cycler>=0.10 in /usr/local/lib/python3.6/dist-packages (from matplotlib>=1.4.0->scikit-plot) (0.10.0)\n",
            "Requirement already satisfied: pytz in /usr/local/lib/python3.6/dist-packages (from matplotlib>=1.4.0->scikit-plot) (2018.7)\n",
            "Installing collected packages: scikit-plot\n",
            "Successfully installed scikit-plot-0.3.7\n",
            "Collecting wordcloud\n",
            "\u001b[?25l  Downloading https://files.pythonhosted.org/packages/ae/af/849edf14d573eba9c8082db898ff0d090428d9485371cc4fe21a66717ad2/wordcloud-1.5.0-cp36-cp36m-manylinux1_x86_64.whl (361kB)\n",
            "\u001b[K    100% |████████████████████████████████| 368kB 5.8MB/s \n",
            "\u001b[?25hRequirement already satisfied: pillow in /usr/local/lib/python3.6/dist-packages (from wordcloud) (4.0.0)\n",
            "Requirement already satisfied: numpy>=1.6.1 in /usr/local/lib/python3.6/dist-packages (from wordcloud) (1.14.6)\n",
            "Requirement already satisfied: olefile in /usr/local/lib/python3.6/dist-packages (from pillow->wordcloud) (0.46)\n",
            "Installing collected packages: wordcloud\n",
            "Successfully installed wordcloud-1.5.0\n"
          ],
          "name": "stdout"
        }
      ]
    },
    {
      "metadata": {
        "id": "qJVCmJsBtmzf",
        "colab_type": "code",
        "outputId": "76a4fab2-96e4-48f5-a1f2-dd8d673e6413",
        "colab": {
          "base_uri": "https://localhost:8080/",
          "height": 194
        }
      },
      "cell_type": "code",
      "source": [
        "import pandas as pd\n",
        "from nltk.tokenize import RegexpTokenizer\n",
        "from nltk.corpus import stopwords\n",
        "from nltk.corpus import wordnet\n",
        "from nltk import pos_tag\n",
        "import nltk\n",
        "nltk.download('punkt')\n",
        "nltk.download('stopwords')\n",
        "nltk.download('averaged_perceptron_tagger')\n",
        "nltk.download('wordnet')\n",
        "import unidecode\n",
        "from nltk.stem import WordNetLemmatizer\n",
        "from sklearn.base import BaseEstimator, ClassifierMixin\n",
        "from sklearn.model_selection import train_test_split, StratifiedKFold, GridSearchCV, RandomizedSearchCV, cross_val_score, KFold\n",
        "from sklearn.feature_extraction.text import TfidfVectorizer, CountVectorizer\n",
        "from sklearn.decomposition import TruncatedSVD, PCA\n",
        "from sklearn import preprocessing\n",
        "from sklearn.naive_bayes import MultinomialNB, BernoulliNB\n",
        "from sklearn.neighbors import KNeighborsClassifier\n",
        "from sklearn import svm\n",
        "from sklearn import cluster\n",
        "from sklearn.svm import SVC\n",
        "from sklearn.discriminant_analysis import QuadraticDiscriminantAnalysis\n",
        "from sklearn.svm import LinearSVC\n",
        "from sklearn.metrics import confusion_matrix, accuracy_score, precision_score, recall_score, f1_score, classification_report, roc_auc_score\n",
        "from sklearn.preprocessing import label_binarize\n",
        "from sklearn.tree import DecisionTreeClassifier, DecisionTreeRegressor\n",
        "from sklearn.ensemble import RandomForestClassifier, ExtraTreesClassifier\n",
        "from sklearn.linear_model import LogisticRegression\n",
        "from sklearn.metrics.pairwise import cosine_similarity, euclidean_distances, manhattan_distances\n",
        "from wordcloud import WordCloud\n",
        "import matplotlib.pyplot as plt\n",
        "import scikitplot as skplt\n",
        "from keras.utils import to_categorical\n",
        "from keras.models import Sequential\n",
        "from keras.optimizers import SGD\n",
        "from keras.layers.core import Dense,Activation\n",
        "from keras.callbacks import EarlyStopping, ModelCheckpoint\n",
        "import matplotlib.pyplot as plt\n",
        "import numpy as np\n",
        "import re\n",
        "import collections \n",
        "from collections import Counter\n",
        "from nltk import ngrams\n",
        "import itertools\n",
        "import time\n",
        "from ast import literal_eval\n",
        "from scipy.cluster.hierarchy import ward, dendrogram, linkage, median, centroid\n",
        "import warnings\n",
        "warnings.filterwarnings('ignore')"
      ],
      "execution_count": 0,
      "outputs": [
        {
          "output_type": "stream",
          "text": [
            "[nltk_data] Downloading package punkt to /root/nltk_data...\n",
            "[nltk_data]   Unzipping tokenizers/punkt.zip.\n",
            "[nltk_data] Downloading package stopwords to /root/nltk_data...\n",
            "[nltk_data]   Unzipping corpora/stopwords.zip.\n",
            "[nltk_data] Downloading package averaged_perceptron_tagger to\n",
            "[nltk_data]     /root/nltk_data...\n",
            "[nltk_data]   Unzipping taggers/averaged_perceptron_tagger.zip.\n",
            "[nltk_data] Downloading package wordnet to /root/nltk_data...\n",
            "[nltk_data]   Unzipping corpora/wordnet.zip.\n"
          ],
          "name": "stdout"
        },
        {
          "output_type": "stream",
          "text": [
            "Using TensorFlow backend.\n"
          ],
          "name": "stderr"
        }
      ]
    },
    {
      "metadata": {
        "id": "0aJ5haZ7xq4i",
        "colab_type": "code",
        "colab": {}
      },
      "cell_type": "code",
      "source": [
        "# small helper function for formatting time\n",
        "def f_time(time):\n",
        "  return '(' + str(np.round(time, 2))+ 's)'"
      ],
      "execution_count": 0,
      "outputs": []
    },
    {
      "metadata": {
        "id": "RrlUPWjzQDU6",
        "colab_type": "text"
      },
      "cell_type": "markdown",
      "source": [
        "# 1 (BASIC) Data preprocessing"
      ]
    },
    {
      "metadata": {
        "id": "rlLGLBJ03mtB",
        "colab_type": "text"
      },
      "cell_type": "markdown",
      "source": [
        "In this section we use the pandas library to initally read in the training dataset using the ^ symbol as the seperator. File preprocessing is the act of transforming this raw data into data that we can use for the classification task.\n",
        "\n",
        "In the following we present and test all basic functions used for processing in this notebook. All of these are defined in this section to provide consistent, simple, unit-tested preprocessing for further use. \n",
        "\n",
        "Basic preprocessing includes:\n",
        "* [X] loading raw data\n",
        "* [X] decoding of accented characters\n",
        "* [X] tokenization\n",
        "* [X] decapitalisation\n",
        "* [X] expanding contractions\n",
        "* [X] removing posessive apostrophes\n",
        "* [X] aggregate of the above"
      ]
    },
    {
      "metadata": {
        "id": "j9bGeP56-Ukx",
        "colab_type": "text"
      },
      "cell_type": "markdown",
      "source": [
        "## 1.1 Loading of raw data"
      ]
    },
    {
      "metadata": {
        "id": "iBCkZCEYhGfP",
        "colab_type": "text"
      },
      "cell_type": "markdown",
      "source": [
        "Here we load the raw training and production data-set."
      ]
    },
    {
      "metadata": {
        "id": "HNS3bZLSPy9N",
        "colab_type": "code",
        "colab": {}
      },
      "cell_type": "code",
      "source": [
        "def load_raw_train():\n",
        "  return pd.read_csv(\"./trainingset.csv\",sep='^',header=0).reset_index()\n",
        "\n",
        "def load_raw_prod():\n",
        "  return pd.read_csv(\"./testdata.csv\",sep='^',header=0).reset_index()"
      ],
      "execution_count": 0,
      "outputs": []
    },
    {
      "metadata": {
        "id": "He1YnpN1-dWt",
        "colab_type": "text"
      },
      "cell_type": "markdown",
      "source": [
        "**Test**\n",
        "\n",
        "Here we load the raw data, print length, dtypes and head for inspection."
      ]
    },
    {
      "metadata": {
        "id": "L7LBpXqz_Vy0",
        "colab_type": "code",
        "outputId": "ee2a12b6-c1cb-4b9e-c67b-9854f7f413a8",
        "colab": {
          "base_uri": "https://localhost:8080/",
          "height": 585
        }
      },
      "cell_type": "code",
      "source": [
        "print('----------------TRAINING----------------')\n",
        "df = load_raw_train()\n",
        "print('ROWS: ' + str(len(df)) + '\\n')\n",
        "print('TYPES:\\n' + str(df.dtypes) + '\\n')\n",
        "print('HEAD:\\n' + str(df.head())+ '\\n')\n",
        "del(df)\n",
        "\n",
        "print('----------------PRODUCTION----------------')\n",
        "df = load_raw_prod()\n",
        "print('ROWS: ' + str(len(df)) + '\\n')\n",
        "print('TYPES:\\n' + str(df.dtypes) + '\\n')\n",
        "print('HEAD:\\n' + str(df.head()))\n",
        "del(df)\n"
      ],
      "execution_count": 0,
      "outputs": [
        {
          "output_type": "stream",
          "text": [
            "----------------TRAINING----------------\n",
            "ROWS: 1557\n",
            "\n",
            "TYPES:\n",
            "index        int64\n",
            "content     object\n",
            "category    object\n",
            "dtype: object\n",
            "\n",
            "HEAD:\n",
            "   index                                            content       category\n",
            "0      0  French boss to leave EADS The French co-head o...       business\n",
            "1      1  Gamers could drive high-definition TV, films, ...           tech\n",
            "2      2  Stalemate in pension strike talks Talks aimed ...       politics\n",
            "3      3  Johnny and Denise lose Passport Johnny Vaughan...  entertainment\n",
            "4      4  Tautou 'to star in Da Vinci film' French actre...  entertainment\n",
            "\n",
            "----------------PRODUCTION----------------\n",
            "ROWS: 668\n",
            "\n",
            "TYPES:\n",
            "index       int64\n",
            "content    object\n",
            "dtype: object\n",
            "\n",
            "HEAD:\n",
            "   index                                            content\n",
            "0      0  Eminem secret gig venue revealed Rapper Eminem...\n",
            "1      1  Munster Cup tie switched to Spain Munster's He...\n",
            "2      2  Eastwood's Baby scoops top Oscars Clint Eastwo...\n",
            "3      3  Spears seeks aborted tour payment Singer Britn...\n",
            "4      4  Gadget show heralds MP3 Christmas Partners of ...\n"
          ],
          "name": "stdout"
        }
      ]
    },
    {
      "metadata": {
        "id": "8ET3Sh6OuqMK",
        "colab_type": "text"
      },
      "cell_type": "markdown",
      "source": [
        "## 1.2 Decoding of accented characters"
      ]
    },
    {
      "metadata": {
        "id": "ym1RPRXLhJKp",
        "colab_type": "text"
      },
      "cell_type": "markdown",
      "source": [
        "Here we define a function to decode accented characters from a body of text using the unicode library. This will change accented letters such as 'é' to 'e'. \n",
        "\n",
        "This is useful in cases such as \"Cafe vs. Café\" where the two spellings, only differing by accent, have the same meaning."
      ]
    },
    {
      "metadata": {
        "id": "O8vF_mDzuqaK",
        "colab_type": "code",
        "colab": {}
      },
      "cell_type": "code",
      "source": [
        "def decode_content(content: str):\n",
        "    unaccented_string = unidecode.unidecode(content)\n",
        "    return unaccented_string"
      ],
      "execution_count": 0,
      "outputs": []
    },
    {
      "metadata": {
        "id": "0SRPH9O-AaMQ",
        "colab_type": "text"
      },
      "cell_type": "markdown",
      "source": [
        "**Test**\n",
        "\n",
        "Here we apply the decode_content function to the example from above. We check that the return of our function equals the word without accent."
      ]
    },
    {
      "metadata": {
        "id": "SDUqAX5yyV_P",
        "colab_type": "code",
        "outputId": "19748b31-3f9d-44b4-ef4d-f081ee9ce38f",
        "colab": {
          "base_uri": "https://localhost:8080/",
          "height": 34
        }
      },
      "cell_type": "code",
      "source": [
        "'Cafe' == decode_content('Café')"
      ],
      "execution_count": 0,
      "outputs": [
        {
          "output_type": "execute_result",
          "data": {
            "text/plain": [
              "True"
            ]
          },
          "metadata": {
            "tags": []
          },
          "execution_count": 8
        }
      ]
    },
    {
      "metadata": {
        "id": "1-nNuurERyfg",
        "colab_type": "text"
      },
      "cell_type": "markdown",
      "source": [
        "## 1.3 Tokenization"
      ]
    },
    {
      "metadata": {
        "id": "ospKvAb4hLn0",
        "colab_type": "text"
      },
      "cell_type": "markdown",
      "source": [
        "Tokenization is the process of splitting the text into tokens. We perform tokenizations as it allows the computer to interact with unstructured data.\n",
        "This is a very important step as we can further refine and filter this list of tokens. \n",
        "\n",
        "Here we use the nltk regex tokenizer function in order to tokenize our content. \n",
        "The regex expressions filters text for single words. Additionally, we add another expression, which accepts words joined by hyphens and apostrophes (e.g. e-mail, vice-president's). This tokenizer will also remove any punctuation. While preserving currency symbols, numbers, and units."
      ]
    },
    {
      "metadata": {
        "id": "V6WhX6GbRy3A",
        "colab_type": "code",
        "colab": {}
      },
      "cell_type": "code",
      "source": [
        "def tokenize_content(content: str):\n",
        "  tokenizer = RegexpTokenizer(\"[a-zA-Z]+[\\w+'-]*[a-zA-Z]+|(?<=\\s)[$£€]?\\d+[,.\\d]*\\w*|[$£€]\")\n",
        "  # [a-zA-Z]+[\\w+'-]*[a-zA-Z]+|(?<=\\s)[$£€]?\\d+[,.\\d]*\\w*|[$£€]\n",
        "  # {           1            }|{            2            }{ 3 }\n",
        "  # 1: words with dahses and apostrophes on inside (not leading or trailing)\n",
        "  # 2: numbers with arbitrary commas and dots, can have leading currency symbol and trailing word\n",
        "  # 3: currency symbols\n",
        "  return tokenizer.tokenize(content)"
      ],
      "execution_count": 0,
      "outputs": []
    },
    {
      "metadata": {
        "id": "iAcSNkA23iYk",
        "colab_type": "text"
      },
      "cell_type": "markdown",
      "source": [
        "**Test**\n",
        "\n",
        "Here we apply the function to a test sentence to check different cases."
      ]
    },
    {
      "metadata": {
        "id": "1rQw_D-bzVMz",
        "colab_type": "code",
        "outputId": "bcd0502f-3a91-4641-a2ac-6da77a80c5bd",
        "colab": {
          "base_uri": "https://localhost:8080/",
          "height": 34
        }
      },
      "cell_type": "code",
      "source": [
        "tokenize_content(\"Jimmy's high-school's football team - was 'really' weird!\")"
      ],
      "execution_count": 0,
      "outputs": [
        {
          "output_type": "execute_result",
          "data": {
            "text/plain": [
              "[\"Jimmy's\", \"high-school's\", 'football', 'team', 'was', 'really', 'weird']"
            ]
          },
          "metadata": {
            "tags": []
          },
          "execution_count": 10
        }
      ]
    },
    {
      "metadata": {
        "id": "wq38x_dluRG5",
        "colab_type": "code",
        "outputId": "f34ef150-42a8-425f-e85e-662e5dbc5228",
        "colab": {
          "base_uri": "https://localhost:8080/",
          "height": 34
        }
      },
      "cell_type": "code",
      "source": [
        "tokenize_content(\"Jimmy won $100.0 in the 2,000m race\")"
      ],
      "execution_count": 0,
      "outputs": [
        {
          "output_type": "execute_result",
          "data": {
            "text/plain": [
              "['Jimmy', 'won', '$100.0', 'in', 'the', '2,000m', 'race']"
            ]
          },
          "metadata": {
            "tags": []
          },
          "execution_count": 11
        }
      ]
    },
    {
      "metadata": {
        "id": "Tqu4hF007nHt",
        "colab_type": "text"
      },
      "cell_type": "markdown",
      "source": [
        "## 1.4 Decapitalization"
      ]
    },
    {
      "metadata": {
        "id": "Cou1MWNehXfq",
        "colab_type": "text"
      },
      "cell_type": "markdown",
      "source": [
        "Decapitalization is needed, as words at the beginning of a sentence are usually capitalized while having the same meaning as their uncapitalized counterpart. Precautions must be taken, as not all words (e.g. acronyms) should be decapitalized: The meaning of 'US' is different from 'us'. In addition 'I' is always capitalized in the english language."
      ]
    },
    {
      "metadata": {
        "id": "F3WKCWPkI2yf",
        "colab_type": "code",
        "colab": {}
      },
      "cell_type": "code",
      "source": [
        "def decap_word(word: str):\n",
        "  return word.lower() if (not word.isupper() and len(word) > 1) else word\n",
        "\n",
        "def decap_tokens(token_list):\n",
        "  return [decap_word(word) for word in token_list]"
      ],
      "execution_count": 0,
      "outputs": []
    },
    {
      "metadata": {
        "id": "Fb-4gU1cJpoq",
        "colab_type": "text"
      },
      "cell_type": "markdown",
      "source": [
        "**Test**\n",
        "\n",
        "Here we apply the function to a list containig example words to check different cases."
      ]
    },
    {
      "metadata": {
        "id": "ARUaDVU2Jy9Q",
        "colab_type": "code",
        "outputId": "9d754d78-064a-49f7-8065-e5ae0d0a23a6",
        "colab": {
          "base_uri": "https://localhost:8080/",
          "height": 34
        }
      },
      "cell_type": "code",
      "source": [
        "decap_tokens(['The', 'test', 'US', 'us', 'I'])"
      ],
      "execution_count": 0,
      "outputs": [
        {
          "output_type": "execute_result",
          "data": {
            "text/plain": [
              "['the', 'test', 'US', 'us', 'I']"
            ]
          },
          "metadata": {
            "tags": []
          },
          "execution_count": 13
        }
      ]
    },
    {
      "metadata": {
        "id": "2SX-SoYWW0Zi",
        "colab_type": "text"
      },
      "cell_type": "markdown",
      "source": [
        "## 1.5 Expanding contractions"
      ]
    },
    {
      "metadata": {
        "id": "8hKt00abhPFk",
        "colab_type": "text"
      },
      "cell_type": "markdown",
      "source": [
        "Expanding contractions is necessary, as it limits the total amount of tokens and makes the text more machine readable. Tokens like \"they're\" were previously different from the individual appearances of \"they\" and \"are\". This step solves this problem by replacing common contractions."
      ]
    },
    {
      "metadata": {
        "id": "KoL7jlEEXMDh",
        "colab_type": "text"
      },
      "cell_type": "markdown",
      "source": [
        "**Contraction dictionary**\n",
        "\n",
        "Srouce: [Stackoverflow](https://stackoverflow.com/questions/19790188/expanding-english-language-contractions-in-python)"
      ]
    },
    {
      "metadata": {
        "id": "lktF8FONXOac",
        "colab_type": "code",
        "colab": {}
      },
      "cell_type": "code",
      "source": [
        "cont_dict = {\"ain't\": \"am not\",\"aren't\": \"are not\",\"can't\": \"cannot\",\"can't've\": \"cannot have\",\n",
        "  \"'cause\": \"because\",\"could've\": \"could have\",\"couldn't\": \"could not\",\"couldn't've\": \"could not have\",\n",
        "  \"didn't\": \"did not\",\"doesn't\": \"does not\",\"don't\": \"do not\",\"hadn't\": \"had not\",\"hadn't've\": \"had not have\",\n",
        "  \"hasn't\": \"has not\",\"haven't\": \"have not\",\"he'd\": \"he would\",\"he'd've\": \"he would have\",\"he'll\": \"he will\",\n",
        "  \"he'll've\": \"he will have\",\"he's\": \"he is\",\"how'd\": \"how did\",\"how'd'y\": \"how do you\",\"how'll\": \"how will\",\n",
        "  \"how's\": \"how is\",\"I'd\": \"I would\",\"I'd've\": \"I would have\",\"I'll\": \"I will\",\"I'll've\": \"I will have\",\n",
        "  \"I'm\": \"I am\",\"I've\": \"I have\",\"isn't\": \"is not\",\"it'd\": \"it had\",\"it'd've\": \"it would have\",\"it'll\": \"it will\",\n",
        "  \"it'll've\": \"it will have\",\"it's\": \"it is\",\"let's\": \"let us\",\"ma'am\": \"madam\",\"mayn't\": \"may not\",\n",
        "  \"might've\": \"might have\",\"mightn't\": \"might not\",\"mightn't've\": \"might not have\",\"must've\": \"must have\",\n",
        "  \"mustn't\": \"must not\",\"mustn't've\": \"must not have\",\"needn't\": \"need not\",\"needn't've\": \"need not have\",\n",
        "  \"o'clock\": \"of the clock\",\"oughtn't\": \"ought not\",\"oughtn't've\": \"ought not have\",\"shan't\": \"shall not\",\n",
        "  \"sha'n't\": \"shall not\",\"shan't've\": \"shall not have\",\"she'd\": \"she would\",\"she'd've\": \"she would have\",\n",
        "  \"she'll\": \"she will\",\"she'll've\": \"she will have\",\"she's\": \"she is\",\"should've\": \"should have\",\n",
        "  \"shouldn't\": \"should not\",\"shouldn't've\": \"should not have\",\"so've\": \"so have\",\"so's\": \"so is\",\n",
        "  \"that'd\": \"that would\",\"that'd've\": \"that would have\",\"that's\": \"that is\",\"there'd\": \"there had\",\n",
        "  \"there'd've\": \"there would have\",\"there's\": \"there is\",\"they'd\": \"they would\",\"they'd've\": \"they would have\",\n",
        "  \"they'll\": \"they will\",\"they'll've\": \"they will have\",\"they're\": \"they are\",\"they've\": \"they have\",\n",
        "  \"to've\": \"to have\",\"wasn't\": \"was not\",\"we'd\": \"we had\",\"we'd've\": \"we would have\",\"we'll\": \"we will\",\n",
        "  \"we'll've\": \"we will have\",\"we're\": \"we are\",\"we've\": \"we have\",\"weren't\": \"were not\",\"what'll\": \"what will\",\n",
        "  \"what'll've\": \"what will have\",\"what're\": \"what are\",\"what's\": \"what is\",\"what've\": \"what have\",\n",
        "  \"when's\": \"when is\",\"when've\": \"when have\",\"where'd\": \"where did\",\"where's\": \"where is\",\n",
        "  \"where've\": \"where have\",\"who'll\": \"who will\",\"who'll've\": \"who will have\",\"who's\": \"who is\",\n",
        "  \"who've\": \"who have\",\"why's\": \"why is\",\"why've\": \"why have\",\"will've\": \"will have\",\n",
        "  \"won't\": \"will not\",\"won't've\": \"will not have\",\"would've\": \"would have\",\"wouldn't\": \"would not\",\n",
        "  \"wouldn't've\": \"would not have\",\"y'all\": \"you all\",\"y'alls\": \"you alls\",\"y'all'd\": \"you all would\",\n",
        "  \"y'all'd've\": \"you all would have\",\"y'all're\": \"you all are\",\"y'all've\": \"you all have\",\"you'd\": \"you had\",\n",
        "  \"you'd've\": \"you would have\",\"you'll\": \"you you will\",\"you'll've\": \"you you will have\",\"you're\": \"you are\",\n",
        "  \"you've\": \"you have\"\n",
        "}"
      ],
      "execution_count": 0,
      "outputs": []
    },
    {
      "metadata": {
        "id": "FXFMoMvHXRcX",
        "colab_type": "text"
      },
      "cell_type": "markdown",
      "source": [
        "**Function & Test**"
      ]
    },
    {
      "metadata": {
        "id": "PUhsazGPW4Fu",
        "colab_type": "code",
        "colab": {}
      },
      "cell_type": "code",
      "source": [
        "def replace_cont(match):\n",
        "  return cont_dict[match.group(0)]\n",
        "\n",
        "def expand_word(word: str):\n",
        "  cont_re = re.compile('(%s)' % '|'.join(cont_dict.keys()))\n",
        "  return cont_re.sub(replace_cont, word).split(' ')\n",
        "  \n",
        "def expand_tokens(token_list):\n",
        "  token_lists = [expand_word(word) for word in token_list]\n",
        "  return list(itertools.chain.from_iterable(token_lists))"
      ],
      "execution_count": 0,
      "outputs": []
    },
    {
      "metadata": {
        "id": "gONqlNYaYr52",
        "colab_type": "text"
      },
      "cell_type": "markdown",
      "source": [
        "Here we test a simple example."
      ]
    },
    {
      "metadata": {
        "id": "R3RfxOctYvuM",
        "colab_type": "code",
        "outputId": "f44562f6-1b7b-4be5-8adf-ad4642d01ca7",
        "colab": {
          "base_uri": "https://localhost:8080/",
          "height": 34
        }
      },
      "cell_type": "code",
      "source": [
        "expand_tokens([\"they're\", \"chasing\", \"their\", \"team's\", \"quarterback\"])\n"
      ],
      "execution_count": 0,
      "outputs": [
        {
          "output_type": "execute_result",
          "data": {
            "text/plain": [
              "['they', 'are', 'chasing', 'their', \"team's\", 'quarterback']"
            ]
          },
          "metadata": {
            "tags": []
          },
          "execution_count": 16
        }
      ]
    },
    {
      "metadata": {
        "id": "-s4g1qgcejxu",
        "colab_type": "text"
      },
      "cell_type": "markdown",
      "source": [
        "## 1.6 Removing posessive apostrophes"
      ]
    },
    {
      "metadata": {
        "id": "TJ2paJ9NhU0e",
        "colab_type": "text"
      },
      "cell_type": "markdown",
      "source": [
        "Once all contractions are removed, the only apostrophes left are the ones that indicate posession, i.e. (their) \"team's\" (mascot). These are sometimes useful to remove aswell, as the overall meaning \"team\" is often more important than the posessive nature."
      ]
    },
    {
      "metadata": {
        "id": "XRzUtlblfbRo",
        "colab_type": "code",
        "colab": {}
      },
      "cell_type": "code",
      "source": [
        "def remove_poss_apos(token_list):\n",
        "  return [word.split(\"'\")[0] for word in token_list]"
      ],
      "execution_count": 0,
      "outputs": []
    },
    {
      "metadata": {
        "id": "f4KGDGXTfpJS",
        "colab_type": "text"
      },
      "cell_type": "markdown",
      "source": [
        "**Test**\n",
        "\n",
        "Here we test the funcion with some example words."
      ]
    },
    {
      "metadata": {
        "id": "MfdJgOCFfurn",
        "colab_type": "code",
        "outputId": "35d352bb-7a99-4237-8a5e-516a7de0fd87",
        "colab": {
          "base_uri": "https://localhost:8080/",
          "height": 34
        }
      },
      "cell_type": "code",
      "source": [
        "remove_poss_apos([\"they're\", \"chasing\", \"their\", \"team's\", \"quarterback\"])"
      ],
      "execution_count": 0,
      "outputs": [
        {
          "output_type": "execute_result",
          "data": {
            "text/plain": [
              "['they', 'chasing', 'their', 'team', 'quarterback']"
            ]
          },
          "metadata": {
            "tags": []
          },
          "execution_count": 18
        }
      ]
    },
    {
      "metadata": {
        "id": "nwRZGZegf0qL",
        "colab_type": "text"
      },
      "cell_type": "markdown",
      "source": [
        "Note how it worked, but the 're was removed from \"they're\". This is not a problem though, as we will expand contractions before this function is called."
      ]
    },
    {
      "metadata": {
        "id": "b1F_NSGmL3dm",
        "colab_type": "text"
      },
      "cell_type": "markdown",
      "source": [
        "## 1.7 Combining the proprocessing techniques\n",
        "\n",
        "Here we combine the previously mentioned preprocessing techniques, as they will be used for every model we build. Further preprocessing functions will be described below but no aggregate function will be defined for them."
      ]
    },
    {
      "metadata": {
        "id": "7Ca3xvpyMAv8",
        "colab_type": "code",
        "colab": {}
      },
      "cell_type": "code",
      "source": [
        "def basic_preprocessing(raw_data):  \n",
        "  processed_data = pd.DataFrame()\n",
        "  processed_data['content'] = (raw_data['content']\n",
        "      .apply(decode_content)\n",
        "      .apply(tokenize_content)\n",
        "      .apply(decap_tokens)\n",
        "      .apply(expand_tokens)\n",
        "      .apply(remove_poss_apos)\n",
        "  )\n",
        "  if 'category' in raw_data.columns:\n",
        "    processed_data['category'] = raw_data['category']\n",
        "  return processed_data.reset_index()"
      ],
      "execution_count": 0,
      "outputs": []
    },
    {
      "metadata": {
        "id": "9_yQzXaEqBli",
        "colab_type": "text"
      },
      "cell_type": "markdown",
      "source": [
        "**Test**\n",
        "\n",
        "Here we test our aggregate preprocessing by applying it to some of the test data."
      ]
    },
    {
      "metadata": {
        "id": "9RGNzshCqJl0",
        "colab_type": "code",
        "outputId": "9b9f3ff7-8387-4a35-caa5-c8a53bd8f01d",
        "colab": {
          "base_uri": "https://localhost:8080/",
          "height": 285
        }
      },
      "cell_type": "code",
      "source": [
        "raw_data = load_raw_train()\n",
        "preprocessed_data = basic_preprocessing(raw_data)\n",
        "\n",
        "print('----------------RAW DATA----------------')\n",
        "print(raw_data.head())\n",
        "print('----------------PREPROCESSED DATA----------------')\n",
        "print(preprocessed_data.head())\n",
        "\n",
        "del(raw_data)\n",
        "del(preprocessed_data)"
      ],
      "execution_count": 0,
      "outputs": [
        {
          "output_type": "stream",
          "text": [
            "----------------RAW DATA----------------\n",
            "   index                                            content       category\n",
            "0      0  French boss to leave EADS The French co-head o...       business\n",
            "1      1  Gamers could drive high-definition TV, films, ...           tech\n",
            "2      2  Stalemate in pension strike talks Talks aimed ...       politics\n",
            "3      3  Johnny and Denise lose Passport Johnny Vaughan...  entertainment\n",
            "4      4  Tautou 'to star in Da Vinci film' French actre...  entertainment\n",
            "----------------PREPROCESSED DATA----------------\n",
            "   index                                            content       category\n",
            "0      0  [french, boss, to, leave, EADS, the, french, c...       business\n",
            "1      1  [gamers, could, drive, high-definition, TV, fi...           tech\n",
            "2      2  [stalemate, in, pension, strike, talks, talks,...       politics\n",
            "3      3  [johnny, and, denise, lose, passport, johnny, ...  entertainment\n",
            "4      4  [tautou, to, star, in, da, vinci, film, french...  entertainment\n"
          ],
          "name": "stdout"
        }
      ]
    },
    {
      "metadata": {
        "id": "st8eC42xOhoO",
        "colab_type": "text"
      },
      "cell_type": "markdown",
      "source": [
        "## 1.8 Saving (basic) preprocessed dataframes\n",
        "\n",
        "As applying basic preprocessing takes quite some time, we will save the dataframe and provide a function to simply load it in the future. This will save time when repeatedly loading and preprocessing the same dataframes."
      ]
    },
    {
      "metadata": {
        "id": "yiLEllYtO1qt",
        "colab_type": "code",
        "colab": {}
      },
      "cell_type": "code",
      "source": [
        "# saving\n",
        "preprocessed_train = basic_preprocessing(load_raw_train())\n",
        "preprocessed_train.to_csv(\"preprocessed_train.csv\", index=False)\n",
        "\n",
        "preprocessed_prod = basic_preprocessing(load_raw_prod())\n",
        "preprocessed_prod.to_csv(\"preprocessed_prod.csv\", index=False)\n"
      ],
      "execution_count": 0,
      "outputs": []
    },
    {
      "metadata": {
        "id": "YTLvu9bZO_g1",
        "colab_type": "code",
        "colab": {}
      },
      "cell_type": "code",
      "source": [
        "# loading functions\n",
        "def load_preprocessed_train():\n",
        "  preprocessed_df = pd.read_csv(\"preprocessed_train.csv\")\n",
        "  preprocessed_df['content'] = preprocessed_df['content'].apply(literal_eval)\n",
        "  return preprocessed_df\n",
        "\n",
        "def load_preprocessed_prod():\n",
        "  preprocessed_df = pd.read_csv(\"preprocessed_prod.csv\")\n",
        "  preprocessed_df['content'] = preprocessed_df['content'].apply(literal_eval)\n",
        "  return preprocessed_df"
      ],
      "execution_count": 0,
      "outputs": []
    },
    {
      "metadata": {
        "id": "Cjzelj9GQ4-W",
        "colab_type": "text"
      },
      "cell_type": "markdown",
      "source": [
        "**Test**\n",
        "\n",
        "Here we test if it works by checking if the preprocessed dataframe is equal to one loaded with the function defined above."
      ]
    },
    {
      "metadata": {
        "id": "aBxsYmkWPIAj",
        "colab_type": "code",
        "outputId": "9b1c33c0-2a4b-4aa9-d97a-56429df211a9",
        "colab": {
          "base_uri": "https://localhost:8080/",
          "height": 54
        }
      },
      "cell_type": "code",
      "source": [
        "preprocessed_train.equals(load_preprocessed_train())"
      ],
      "execution_count": 0,
      "outputs": [
        {
          "output_type": "execute_result",
          "data": {
            "text/plain": [
              "True"
            ]
          },
          "metadata": {
            "tags": []
          },
          "execution_count": 23
        }
      ]
    },
    {
      "metadata": {
        "id": "SHUGJU2fPLKU",
        "colab_type": "code",
        "outputId": "ae5e347c-3339-4246-d6ae-0fd320212446",
        "colab": {
          "base_uri": "https://localhost:8080/",
          "height": 54
        }
      },
      "cell_type": "code",
      "source": [
        "preprocessed_prod.equals(load_preprocessed_prod())"
      ],
      "execution_count": 0,
      "outputs": [
        {
          "output_type": "execute_result",
          "data": {
            "text/plain": [
              "True"
            ]
          },
          "metadata": {
            "tags": []
          },
          "execution_count": 24
        }
      ]
    },
    {
      "metadata": {
        "id": "WkR2TOxXRH_L",
        "colab_type": "text"
      },
      "cell_type": "markdown",
      "source": [
        "**Time**"
      ]
    },
    {
      "metadata": {
        "id": "5DMYKF3qRJ-X",
        "colab_type": "code",
        "outputId": "3cd840c7-7140-424f-c1f5-4543385624f0",
        "colab": {
          "base_uri": "https://localhost:8080/",
          "height": 107
        }
      },
      "cell_type": "code",
      "source": [
        "print(\"Time to load raw & apply basic preprocessing:\")\n",
        "%timeit basic_preprocessing(load_raw_train())\n",
        "print(\"Time to load preprocessed:\")\n",
        "%timeit load_preprocessed_train()\n"
      ],
      "execution_count": 0,
      "outputs": [
        {
          "output_type": "stream",
          "text": [
            "Time to load raw & apply basic preprocessing:\n",
            "1 loop, best of 3: 5.71 s per loop\n",
            "Time to load preprocessed:\n",
            "1 loop, best of 3: 1.01 s per loop\n"
          ],
          "name": "stdout"
        }
      ]
    },
    {
      "metadata": {
        "id": "_DFk9bzqv5v3",
        "colab_type": "text"
      },
      "cell_type": "markdown",
      "source": [
        "# 2 (ADVANCED) Data preprocessing"
      ]
    },
    {
      "metadata": {
        "id": "Fi3_GjlS3eBu",
        "colab_type": "text"
      },
      "cell_type": "markdown",
      "source": [
        "In this section we will describe and implement further preprocessing steps such as filtering and transformation:\n",
        "\n",
        "* [X] removal of stopwords\n",
        "* [X] removal/replacement of numbers\n",
        "* [X] lemmatization\n",
        "* [X] filtering by noun tokens\n",
        "* [X] vectorization through counting\n",
        "* [X] vectorization through tfidf df\n",
        "* [  ] vectorization through word2vec\n",
        "\n",
        "Here we want to note, that the methods defined in the vecorization functions will not be used as such, as our models require a more fine grained control of the settings of these vectorizers. However, since the way in which they are used stays the same, we still provide functions and explanations here, to make later code more understandable."
      ]
    },
    {
      "metadata": {
        "id": "XteDH6IuX1aF",
        "colab_type": "text"
      },
      "cell_type": "markdown",
      "source": [
        "## 2.0 Efficiency\n",
        "As a lot of the methods used here are really slow when applied to columns in our dataframe, we use a dictionary approach. Here we create lookup tables once in the beginning and are then able to use those to create dictionaries/lookup sets. For this purpose, we first compute the set of all tokens to later precalcutate dictionaries from."
      ]
    },
    {
      "metadata": {
        "id": "m0aojkYgYoLs",
        "colab_type": "code",
        "colab": {}
      },
      "cell_type": "code",
      "source": [
        "token_set = set()\n",
        "# add training set\n",
        "for token_list in load_preprocessed_train()['content']:\n",
        "  token_set.update(token_list)\n",
        "# add production set\n",
        "for token_list in load_preprocessed_prod()['content']:\n",
        "  token_set.update(token_list)\n",
        "# placeholder we later use for numbers\n",
        "token_set.update({'<NUMBER>'})"
      ],
      "execution_count": 0,
      "outputs": []
    },
    {
      "metadata": {
        "id": "uHgedLvkaSCp",
        "colab_type": "code",
        "outputId": "e4e1772a-c7e4-4d3e-a4de-f35bfdb6d287",
        "colab": {
          "base_uri": "https://localhost:8080/",
          "height": 232
        }
      },
      "cell_type": "code",
      "source": [
        "print('Num words:',len(token_set))\n",
        "list(token_set)[:10]"
      ],
      "execution_count": 0,
      "outputs": [
        {
          "output_type": "stream",
          "text": [
            "Num words: 33396\n"
          ],
          "name": "stdout"
        },
        {
          "output_type": "execute_result",
          "data": {
            "text/plain": [
              "['blocked',\n",
              " 'USATF',\n",
              " 'ravencraft',\n",
              " 'exhibited',\n",
              " 'advantages',\n",
              " 'lawyer',\n",
              " 'authorise',\n",
              " 'ragtime',\n",
              " 'blue',\n",
              " 'tambone']"
            ]
          },
          "metadata": {
            "tags": []
          },
          "execution_count": 27
        }
      ]
    },
    {
      "metadata": {
        "id": "PE5g4AKAd3fS",
        "colab_type": "text"
      },
      "cell_type": "markdown",
      "source": [
        "## 2.1 Stopword removal"
      ]
    },
    {
      "metadata": {
        "id": "_NXXUtTcha9t",
        "colab_type": "text"
      },
      "cell_type": "markdown",
      "source": [
        "Stopwords are words that add little to no value to a piece of text.\n",
        "'on', 'a', and 'the' are examples of stopwords we would like to filter. By doin this, the majority of tokens left will have meaning and possibly be useful. We take this opportunity to also remove honorific words such as 'mr','mrs', and 'miss'. \n",
        "\n",
        "By using a set for checking if a word is a stopword (instead of the approach provided in class) we managed to speed up the calculation from 1.3s up to 0.3s for the whole dataframe."
      ]
    },
    {
      "metadata": {
        "id": "Pc06CdmKd0Ks",
        "colab_type": "code",
        "colab": {}
      },
      "cell_type": "code",
      "source": [
        "# defining a list of stopwords to be removed from the content\n",
        "def get_stopwords():\n",
        "  stop_words = set()\n",
        "  stop_words.update(stopwords.words('english'))\n",
        "  honorifics = ['mr','ms','dr','miss','sir','mam','madam']\n",
        "  stop_words.update(honorifics)\n",
        "  return stop_words\n",
        "\n",
        "def remove_stopwords(token_list):\n",
        "  stopwords=get_stopwords()\n",
        "  return [w for w in token_list if not w in stopwords]"
      ],
      "execution_count": 0,
      "outputs": []
    },
    {
      "metadata": {
        "id": "w4Yu4Xre3Z1h",
        "colab_type": "text"
      },
      "cell_type": "markdown",
      "source": [
        "**Test**\n",
        "\n",
        " Here we test both stopword and honorific removal."
      ]
    },
    {
      "metadata": {
        "id": "FbJjgaoH2RLn",
        "colab_type": "code",
        "outputId": "27daed7f-0de2-47a8-8711-0ddf00de69f9",
        "colab": {
          "base_uri": "https://localhost:8080/",
          "height": 54
        }
      },
      "cell_type": "code",
      "source": [
        "remove_stopwords(['mr','man','on','the','moon'])"
      ],
      "execution_count": 0,
      "outputs": [
        {
          "output_type": "execute_result",
          "data": {
            "text/plain": [
              "['man', 'moon']"
            ]
          },
          "metadata": {
            "tags": []
          },
          "execution_count": 29
        }
      ]
    },
    {
      "metadata": {
        "id": "GFb7w7RNRze5",
        "colab_type": "text"
      },
      "cell_type": "markdown",
      "source": [
        "**Time**"
      ]
    },
    {
      "metadata": {
        "id": "jGBGuGzoR0sf",
        "colab_type": "code",
        "outputId": "08ddf62b-c574-4cd2-8199-95215c1d6346",
        "colab": {
          "base_uri": "https://localhost:8080/",
          "height": 54
        }
      },
      "cell_type": "code",
      "source": [
        "df = load_preprocessed_train()\n",
        "%timeit df['content'].apply(remove_stopwords)\n",
        "del(df)"
      ],
      "execution_count": 0,
      "outputs": [
        {
          "output_type": "stream",
          "text": [
            "1 loop, best of 3: 358 ms per loop\n"
          ],
          "name": "stdout"
        }
      ]
    },
    {
      "metadata": {
        "id": "qIzuaGz-eYDR",
        "colab_type": "text"
      },
      "cell_type": "markdown",
      "source": [
        "## 2.2 Lemmatization"
      ]
    },
    {
      "metadata": {
        "id": "YYytb9n0bhL3",
        "colab_type": "text"
      },
      "cell_type": "markdown",
      "source": [
        "Lemmatization is the act of finding the base word of a given word. For example car and cars both share the base word car.\n",
        "We will change these forms to their base case to simplify later models, which will only have to compare the lemmatized words. As lemmatization of a word in nltk depends on the associated word tag, we first tag words with an appropriate part of speech.\n",
        "\n",
        "For efficiency reasons, we do this once, for all tokens, and then save the result in a dict."
      ]
    },
    {
      "metadata": {
        "id": "-RGSyIURbYYd",
        "colab_type": "code",
        "outputId": "1b72be37-f60f-46c0-abe5-a03c59ffdbc8",
        "colab": {
          "base_uri": "https://localhost:8080/",
          "height": 54
        }
      },
      "cell_type": "code",
      "source": [
        "def get_wordnet_pos(treebank_tag):\n",
        "  if treebank_tag.startswith('J'):\n",
        "    return wordnet.ADJ\n",
        "  elif treebank_tag.startswith('V'):\n",
        "    return wordnet.VERB\n",
        "  elif treebank_tag.startswith('N'):\n",
        "    return wordnet.NOUN\n",
        "  elif treebank_tag.startswith('R'):\n",
        "    return wordnet.ADV\n",
        "  else:\n",
        "    return ''\n",
        "\n",
        "def lemmatize(word, tag, wnl):\n",
        "  firstletter = tag[0]\n",
        "  wtag = get_wordnet_pos(firstletter)\n",
        "  if wtag: return wnl.lemmatize(word, wtag)\n",
        "  else: return word\n",
        "    \n",
        "\n",
        "wnl = WordNetLemmatizer()\n",
        "# we create a dict for lemmatization which we fill with all standard tokens and their lemmatization\n",
        "token_lemma_dict = dict()\n",
        "for word, tag in pos_tag(token_set):\n",
        "  token_lemma_dict[word] = lemmatize(word, tag, wnl)\n",
        "\n",
        "# now we extend our base word set all lemmatized words\n",
        "for word, lemma_word in token_lemma_dict.items():\n",
        "  token_set.update(lemma_word)\n",
        "print('Num words:',len(token_set))\n",
        "# now we fill the lemma dict again, this time we know all lemmatizations, and lemmatizations of lemmatizations are included\n",
        "# this is needed, because as we can see, the initial vocubulay has changed during lemmatization\n",
        "token_lemma_dict = token_lemma_dict.copy()\n",
        "for word, tag in pos_tag(token_set):\n",
        "  token_lemma_dict[word] = lemmatize(word, tag, wnl)"
      ],
      "execution_count": 0,
      "outputs": [
        {
          "output_type": "stream",
          "text": [
            "Num words: 33443\n"
          ],
          "name": "stdout"
        }
      ]
    },
    {
      "metadata": {
        "id": "8xWqL_PEd33g",
        "colab_type": "code",
        "colab": {}
      },
      "cell_type": "code",
      "source": [
        "def lemmatization(token_list):\n",
        "  return [token_lemma_dict[token] for token in token_list]"
      ],
      "execution_count": 0,
      "outputs": []
    },
    {
      "metadata": {
        "id": "aoLMmcMkDCjM",
        "colab_type": "text"
      },
      "cell_type": "markdown",
      "source": [
        "**Test**\n",
        "\n",
        "We test the lemmatization by applying it to an example."
      ]
    },
    {
      "metadata": {
        "id": "a6wVeZZw-hzu",
        "colab_type": "code",
        "outputId": "698612b3-b5d8-4d88-b41d-ac6a400e6d01",
        "colab": {
          "base_uri": "https://localhost:8080/",
          "height": 54
        }
      },
      "cell_type": "code",
      "source": [
        "lemmatization(['house','houses', '<NUMBER>'])"
      ],
      "execution_count": 0,
      "outputs": [
        {
          "output_type": "execute_result",
          "data": {
            "text/plain": [
              "['house', 'house', '<NUMBER>']"
            ]
          },
          "metadata": {
            "tags": []
          },
          "execution_count": 33
        }
      ]
    },
    {
      "metadata": {
        "id": "Ixj5K_iQT4wB",
        "colab_type": "text"
      },
      "cell_type": "markdown",
      "source": [
        "**Time**\n",
        "\n",
        "As we can see, we get an immense increase in time. A naive approach without this dictionary would take 30 seconds, we now see times of ~ 100 ms!"
      ]
    },
    {
      "metadata": {
        "id": "zY1ygHgrT6an",
        "colab_type": "code",
        "outputId": "96e2e20a-b497-4e61-b9c9-5c16b14a29be",
        "colab": {
          "base_uri": "https://localhost:8080/",
          "height": 54
        }
      },
      "cell_type": "code",
      "source": [
        "df = load_preprocessed_train()\n",
        "%timeit df['content'].apply(lemmatization)\n",
        "del(df)"
      ],
      "execution_count": 0,
      "outputs": [
        {
          "output_type": "stream",
          "text": [
            "10 loops, best of 3: 102 ms per loop\n"
          ],
          "name": "stdout"
        }
      ]
    },
    {
      "metadata": {
        "id": "B0FNIwCw2HWX",
        "colab_type": "text"
      },
      "cell_type": "markdown",
      "source": [
        "## 2.3 Removal/replacement of numbers"
      ]
    },
    {
      "metadata": {
        "id": "oj06vOcBe9--",
        "colab_type": "text"
      },
      "cell_type": "markdown",
      "source": [
        "Here we remove numbers from our corpus as they do not carry consistent meaning.\n",
        "We also provide a replace function, as the existance of numbers in a sentence provide some meaning.\n",
        "To achieve greater speed-up, we first create a set of tokens that have numbers which we then use to filter/replace numbers."
      ]
    },
    {
      "metadata": {
        "id": "Eir64_a02BWr",
        "colab_type": "code",
        "outputId": "e786553e-a6c8-49bf-b881-e0b463ed4b41",
        "colab": {
          "base_uri": "https://localhost:8080/",
          "height": 212
        }
      },
      "cell_type": "code",
      "source": [
        "# define tagger for individual token\n",
        "def has_numbers(input_string):\n",
        "  return bool(re.search(r'[0-9]', input_string))\n",
        "# create numbers token set\n",
        "numbers_token_set = set([token for token in token_set if has_numbers(token)])\n",
        "# print numbers token set stats\n",
        "print(len(numbers_token_set))\n",
        "list(numbers_token_set)[:10]"
      ],
      "execution_count": 0,
      "outputs": [
        {
          "output_type": "stream",
          "text": [
            "2835\n"
          ],
          "name": "stdout"
        },
        {
          "output_type": "execute_result",
          "data": {
            "text/plain": [
              "['20.1',\n",
              " 'over-75s',\n",
              " '$7.2m',\n",
              " '1937.',\n",
              " '1969.',\n",
              " '9',\n",
              " '8.1',\n",
              " 'aps25bn',\n",
              " '$1.5m',\n",
              " '1967.']"
            ]
          },
          "metadata": {
            "tags": []
          },
          "execution_count": 35
        }
      ]
    },
    {
      "metadata": {
        "id": "4h9ZPRMdiJ6C",
        "colab_type": "code",
        "colab": {}
      },
      "cell_type": "code",
      "source": [
        "# define transform functions\n",
        "def remove_numbers(token_list):\n",
        "    return [token for token in token_list if not token in numbers_token_set]\n",
        "  \n",
        "def replace_numbers(token_list):\n",
        "    return ['<NUMBER>' if token in numbers_token_set else token for token in token_list]"
      ],
      "execution_count": 0,
      "outputs": []
    },
    {
      "metadata": {
        "id": "UfsLm6-3Cki5",
        "colab_type": "text"
      },
      "cell_type": "markdown",
      "source": [
        "**Test**\n",
        "\n",
        "Here we test with examples.\n"
      ]
    },
    {
      "metadata": {
        "id": "O2ipkfPZ-RCR",
        "colab_type": "code",
        "outputId": "36b5cf29-396c-468f-ed11-2ef07253832e",
        "colab": {
          "base_uri": "https://localhost:8080/",
          "height": 34
        }
      },
      "cell_type": "code",
      "source": [
        "remove_numbers(['100', 'on', '912km'])"
      ],
      "execution_count": 0,
      "outputs": [
        {
          "output_type": "execute_result",
          "data": {
            "text/plain": [
              "['on']"
            ]
          },
          "metadata": {
            "tags": []
          },
          "execution_count": 37
        }
      ]
    },
    {
      "metadata": {
        "id": "DVsNPRd8KXyB",
        "colab_type": "code",
        "outputId": "effa4bbe-4709-4877-ce44-e6a88eb0cfc3",
        "colab": {
          "base_uri": "https://localhost:8080/",
          "height": 34
        }
      },
      "cell_type": "code",
      "source": [
        "replace_numbers(['100', 'on', '912km'])"
      ],
      "execution_count": 0,
      "outputs": [
        {
          "output_type": "execute_result",
          "data": {
            "text/plain": [
              "['<NUMBER>', 'on', '<NUMBER>']"
            ]
          },
          "metadata": {
            "tags": []
          },
          "execution_count": 38
        }
      ]
    },
    {
      "metadata": {
        "id": "xhs4JVcQNnk5",
        "colab_type": "text"
      },
      "cell_type": "markdown",
      "source": [
        "**Time**\n",
        "Here we were able to reduce time from 700ms down to around 70ms for the whole training set!"
      ]
    },
    {
      "metadata": {
        "id": "xeKznVDLNphA",
        "colab_type": "code",
        "outputId": "63cca04a-00a6-4185-89fc-6046f4434bca",
        "colab": {
          "base_uri": "https://localhost:8080/",
          "height": 87
        }
      },
      "cell_type": "code",
      "source": [
        "df = load_preprocessed_train()\n",
        "print('remove_numbers:')\n",
        "%timeit df['content'].apply(remove_numbers)\n",
        "print('replace_numbers:')\n",
        "%timeit df['content'].apply(replace_numbers)\n",
        "del(df)"
      ],
      "execution_count": 0,
      "outputs": [
        {
          "output_type": "stream",
          "text": [
            "remove_numbers:\n",
            "10 loops, best of 3: 67.6 ms per loop\n",
            "replace_numbers:\n",
            "10 loops, best of 3: 66.9 ms per loop\n"
          ],
          "name": "stdout"
        }
      ]
    },
    {
      "metadata": {
        "id": "cYA0e_MjKQsq",
        "colab_type": "text"
      },
      "cell_type": "markdown",
      "source": [
        "## 2.4 Noun tokenisation:\n",
        "Here we define a function that allows us to further filter our tokenized words to only include nouns. This will be useful, as nouns usually carry most meaning and can therefore contribute to classification, while other parts of speech are more prone to being noisy."
      ]
    },
    {
      "metadata": {
        "id": "Lyhw8uVngngb",
        "colab_type": "code",
        "outputId": "f0e855c1-010d-43c6-88b6-11475d395cc5",
        "colab": {
          "base_uri": "https://localhost:8080/",
          "height": 212
        }
      },
      "cell_type": "code",
      "source": [
        "# define lambda for tagging nouns\n",
        "is_noun = lambda pos: pos[:2] == 'NN'\n",
        "# create noun token set\n",
        "noun_token_set = set([word for (word, pos) in pos_tag(token_set) if is_noun(pos)])\n",
        "# print noun token set stats\n",
        "print(len(noun_token_set))\n",
        "list(noun_token_set)[:10]"
      ],
      "execution_count": 0,
      "outputs": [
        {
          "output_type": "stream",
          "text": [
            "15402\n"
          ],
          "name": "stdout"
        },
        {
          "output_type": "execute_result",
          "data": {
            "text/plain": [
              "['providence',\n",
              " 'ex-partner',\n",
              " 'chambre',\n",
              " 'USATF',\n",
              " 'crowd',\n",
              " 'XXL',\n",
              " 'firestone',\n",
              " 'ravencraft',\n",
              " 'rennard',\n",
              " 'mci']"
            ]
          },
          "metadata": {
            "tags": []
          },
          "execution_count": 40
        }
      ]
    },
    {
      "metadata": {
        "id": "orbVNbaskjac",
        "colab_type": "code",
        "colab": {}
      },
      "cell_type": "code",
      "source": [
        "# define transform function\n",
        "def noun_tokens(token_list):\n",
        "  return [token for token in token_list if token in noun_token_set]"
      ],
      "execution_count": 0,
      "outputs": []
    },
    {
      "metadata": {
        "id": "y6uWok10LsYi",
        "colab_type": "text"
      },
      "cell_type": "markdown",
      "source": [
        "**Test**\n",
        "\n",
        "We test the filter by applying it to a list of words containing both nouns and other POS."
      ]
    },
    {
      "metadata": {
        "id": "vbBj5qk_L4JC",
        "colab_type": "code",
        "outputId": "00d18abe-4f54-4d58-a319-2e068d5cd7e5",
        "colab": {
          "base_uri": "https://localhost:8080/",
          "height": 34
        }
      },
      "cell_type": "code",
      "source": [
        "noun_tokens(['transformers','is','a','nice','city', '<NUMBER>'])"
      ],
      "execution_count": 0,
      "outputs": [
        {
          "output_type": "execute_result",
          "data": {
            "text/plain": [
              "['transformers', 'city']"
            ]
          },
          "metadata": {
            "tags": []
          },
          "execution_count": 42
        }
      ]
    },
    {
      "metadata": {
        "id": "DA7yKvdTVT_s",
        "colab_type": "text"
      },
      "cell_type": "markdown",
      "source": [
        "**Time**\n",
        "\n",
        "We have managed to reduce this operation, which used to take ~30s down to ~70ms!"
      ]
    },
    {
      "metadata": {
        "id": "RhOemMb1VVNr",
        "colab_type": "code",
        "outputId": "f28bd407-f61a-4df5-af22-e75ffd3a540c",
        "colab": {
          "base_uri": "https://localhost:8080/",
          "height": 34
        }
      },
      "cell_type": "code",
      "source": [
        "df = load_preprocessed_train()\n",
        "%timeit df['content'].apply(noun_tokens)\n",
        "del(df)"
      ],
      "execution_count": 0,
      "outputs": [
        {
          "output_type": "stream",
          "text": [
            "10 loops, best of 3: 65 ms per loop\n"
          ],
          "name": "stdout"
        }
      ]
    },
    {
      "metadata": {
        "id": "Qy4QfQSx_w4V",
        "colab_type": "text"
      },
      "cell_type": "markdown",
      "source": [
        "## 2.5 Count & TF-IDF matrix to DF\n",
        "\n",
        "Here we quickly define a function for turning the result of the next two sections into a readable dataframe. It will be tested in the following two sections."
      ]
    },
    {
      "metadata": {
        "id": "NhTUUjoWAI6u",
        "colab_type": "code",
        "colab": {}
      },
      "cell_type": "code",
      "source": [
        "def matrix_to_df(train_matrix, test_matrix, feature_names):\n",
        "  train_matrix_df = pd.DataFrame(train_matrix.toarray(),columns=[feature_names])\n",
        "  test_matrix_df = pd.DataFrame(test_matrix.toarray(),columns=[feature_names])\n",
        "  return train_matrix_df, test_matrix_df"
      ],
      "execution_count": 0,
      "outputs": []
    },
    {
      "metadata": {
        "id": "RFZdcrTxeLe8",
        "colab_type": "text"
      },
      "cell_type": "markdown",
      "source": [
        "## 2.6 Count\n",
        "\n",
        "Here we apply basic counting on a bag of words to turn each document into a vector. The method takes in both training and test set, but only applies the vectorizer to the training set as to not leak data and potentially overfit.\n",
        "\n",
        "min/max: \n",
        "* int - {min/max} the number of documents, a word can/has to appear in, to land in the dictionary\n",
        "* float - {min/max} the percentage of documents, a word can/has to appear in, to land in the dictionary"
      ]
    },
    {
      "metadata": {
        "id": "oqzmMsjOfB_o",
        "colab_type": "code",
        "colab": {}
      },
      "cell_type": "code",
      "source": [
        "def count_vector(train, test, min=1, max=1.0):\n",
        "  count_vectorizer = CountVectorizer(lowercase=False, min_df=min, max_df=max)\n",
        "  \n",
        "  doc_list_train = [' '.join(token_list) for token_list in train]\n",
        "  count_train = count_vectorizer.fit_transform(doc_list_train)\n",
        "  \n",
        "  doc_list_test = [' '.join(token_list) for token_list in test]\n",
        "  count_test = count_vectorizer.transform(doc_list_test)\n",
        "  \n",
        "  feature_names = count_vectorizer.get_feature_names()\n",
        "  \n",
        "  return count_train,count_test,feature_names"
      ],
      "execution_count": 0,
      "outputs": []
    },
    {
      "metadata": {
        "id": "2R-UqGE17_a0",
        "colab_type": "text"
      },
      "cell_type": "markdown",
      "source": [
        "**Test**\n",
        "\n",
        "We test the vectorizer on all of the training and production data. Then turn it into a dataframe for visualization."
      ]
    },
    {
      "metadata": {
        "id": "KHTN4lRWfsM8",
        "colab_type": "code",
        "outputId": "fa855024-2d2c-4d3e-cbdd-b31b4794d7b3",
        "colab": {
          "base_uri": "https://localhost:8080/",
          "height": 283
        }
      },
      "cell_type": "code",
      "source": [
        "preprocessed_train = load_preprocessed_train()\n",
        "preprocessed_train['content'] = preprocessed_train['content'].apply(remove_numbers)\n",
        "preprocessed_train['content'] = preprocessed_train['content'].apply(remove_stopwords)\n",
        "\n",
        "preprocessed_prod = basic_preprocessing(load_raw_prod())\n",
        "preprocessed_prod['content'] = preprocessed_prod['content'].apply(remove_numbers)\n",
        "preprocessed_prod['content'] = preprocessed_prod['content'].apply(remove_stopwords)\n",
        "\n",
        "train_matrix,test_matrix,feature_names = count_vector(preprocessed_train['content'], preprocessed_prod['content'], min=0.1)\n",
        "\n",
        "train_matrix_df, test_matrix_df = matrix_to_df(train_matrix, test_matrix, feature_names)\n",
        "print(train_matrix_df.head())\n",
        "\n",
        "del(preprocessed_train)\n",
        "del(preprocessed_prod)\n",
        "del(train_matrix)\n",
        "del(test_matrix)\n",
        "del(train_matrix_df)\n",
        "del(test_matrix_df)\n",
        "del(feature_names)"
      ],
      "execution_count": 0,
      "outputs": [
        {
          "output_type": "stream",
          "text": [
            "  APS BBC UK US able according action added ahead already ... went whether  \\\n",
            "0   0   0  0  0    1         0      0     0     0       0 ...    0       0   \n",
            "1   1   2  2  1    3         1      0     0     0       2 ...    0       0   \n",
            "2   0   1  0  0    0         0      1     1     1       0 ...    0       0   \n",
            "3   0   3  0  0    0         0      0     1     0       0 ...    0       0   \n",
            "4   0   0  1  0    0         1      0     0     0       0 ...    0       0   \n",
            "\n",
            "  win without work world would year years yet  \n",
            "0   0       0    0     1     0    1     0   0  \n",
            "1   0       0    0     0     1    1     0   0  \n",
            "2   0       1    1     0     3    0     1   0  \n",
            "3   0       0    0     0     1    1     0   0  \n",
            "4   0       0    0     0     0    0     0   0  \n",
            "\n",
            "[5 rows x 201 columns]\n"
          ],
          "name": "stdout"
        }
      ]
    },
    {
      "metadata": {
        "id": "2Yi5IRm8eUW0",
        "colab_type": "text"
      },
      "cell_type": "markdown",
      "source": [
        "## 2.7 TF-IDF\n",
        "\n",
        "Here we apply TF-IDF to turn each document into a vector. The method takes in both trainig and test set, but only applies the vectorizer to the training set as to not leak data and potentially overfit. \n",
        "\n",
        "The tf-idf value for every word in each document comprises of:\n",
        "1. The Term Frequency value (ratio the word frequency in the document compared to the total number of words in that document)\n",
        "2. The Inverse Document Frequency value - calculating the weight of each word (rarity across all documents) contained in each entry of the content.\n",
        "\n",
        "min/max: \n",
        "* int - {min/max} the number of documents, a word can/has to appear in, to land in the dictionary\n",
        "* float - {min/max} the percentage of documents, a word can/has to appear in, to land in the dictionary\n",
        "\n"
      ]
    },
    {
      "metadata": {
        "id": "RU8bq7v0fD_I",
        "colab_type": "code",
        "colab": {}
      },
      "cell_type": "code",
      "source": [
        "def tf_idf(train, test, min=1, max=1.0):\n",
        "  tfidf_vectorizer = TfidfVectorizer(norm='l2', lowercase=False, min_df=min, max_df=max)\n",
        "  \n",
        "  doc_list_train = [' '.join(token_list) for token_list in train]\n",
        "  tfidf_train = tfidf_vectorizer.fit_transform(doc_list_train)\n",
        "  \n",
        "  doc_list_test = [' '.join(token_list) for token_list in test]\n",
        "  tfidf_test = tfidf_vectorizer.transform(doc_list_test)\n",
        "  \n",
        "  feature_names = tfidf_vectorizer.get_feature_names()\n",
        "  \n",
        "  return tfidf_train,tfidf_test,feature_names"
      ],
      "execution_count": 0,
      "outputs": []
    },
    {
      "metadata": {
        "id": "7EAMNPIj9ydo",
        "colab_type": "text"
      },
      "cell_type": "markdown",
      "source": [
        "**Test**\n",
        "\n",
        "We test the vectorizer on all of the training and production data. Then turn it into a dataframe for visualization."
      ]
    },
    {
      "metadata": {
        "id": "-SPhutPF97A2",
        "colab_type": "code",
        "outputId": "0da59701-94e8-49a8-d22f-29191b6a1e0b",
        "colab": {
          "base_uri": "https://localhost:8080/",
          "height": 407
        }
      },
      "cell_type": "code",
      "source": [
        "preprocessed_train = load_preprocessed_train()\n",
        "preprocessed_train['content'] = preprocessed_train['content'].apply(remove_numbers)\n",
        "preprocessed_train['content'] = preprocessed_train['content'].apply(remove_stopwords)\n",
        "\n",
        "preprocessed_prod = basic_preprocessing(load_raw_prod())\n",
        "preprocessed_prod['content'] = preprocessed_prod['content'].apply(remove_numbers)\n",
        "preprocessed_prod['content'] = preprocessed_prod['content'].apply(remove_stopwords)\n",
        "\n",
        "train_matrix,test_matrix,feature_names = tf_idf(preprocessed_train['content'], preprocessed_prod['content'], min=0.1)\n",
        "\n",
        "train_matrix_df, test_matrix_df = matrix_to_df(train_matrix, test_matrix, feature_names)\n",
        "print(train_matrix_df.head())\n",
        "\n",
        "del(preprocessed_train)\n",
        "del(preprocessed_prod)\n",
        "del(train_matrix)\n",
        "del(test_matrix)\n",
        "del(train_matrix_df)\n",
        "del(test_matrix_df)\n",
        "del(feature_names)"
      ],
      "execution_count": 0,
      "outputs": [
        {
          "output_type": "stream",
          "text": [
            "        APS       BBC        UK        US      able according    action  \\\n",
            "0  0.000000  0.000000  0.000000  0.000000  0.147620  0.000000  0.000000   \n",
            "1  0.045652  0.090864  0.090320  0.039258  0.170084  0.050762  0.000000   \n",
            "2  0.000000  0.073986  0.000000  0.000000  0.000000  0.000000  0.093534   \n",
            "3  0.000000  0.428714  0.000000  0.000000  0.000000  0.000000  0.000000   \n",
            "4  0.000000  0.000000  0.138724  0.000000  0.000000  0.155932  0.000000   \n",
            "\n",
            "      added     ahead   already ...  went whether  win   without      work  \\\n",
            "0  0.000000  0.000000  0.000000 ...   0.0     0.0  0.0  0.000000  0.000000   \n",
            "1  0.000000  0.000000  0.097469 ...   0.0     0.0  0.0  0.000000  0.000000   \n",
            "2  0.067471  0.094248  0.000000 ...   0.0     0.0  0.0  0.091659  0.078102   \n",
            "3  0.130322  0.000000  0.000000 ...   0.0     0.0  0.0  0.000000  0.000000   \n",
            "4  0.000000  0.000000  0.000000 ...   0.0     0.0  0.0  0.000000  0.000000   \n",
            "\n",
            "      world     would      year     years  yet  \n",
            "0  0.099774  0.000000  0.074712  0.000000  0.0  \n",
            "1  0.000000  0.029123  0.028694  0.000000  0.0  \n",
            "2  0.000000  0.142279  0.000000  0.063249  0.0  \n",
            "3  0.000000  0.091605  0.090255  0.000000  0.0  \n",
            "4  0.000000  0.000000  0.000000  0.000000  0.0  \n",
            "\n",
            "[5 rows x 201 columns]\n"
          ],
          "name": "stdout"
        }
      ]
    },
    {
      "metadata": {
        "id": "xB1nKz1x7yOE",
        "colab_type": "text"
      },
      "cell_type": "markdown",
      "source": [
        "# 3 Data exploration"
      ]
    },
    {
      "metadata": {
        "id": "kNBcvvx8fZfj",
        "colab_type": "code",
        "outputId": "268701d4-f3cc-44b1-f17b-278c22df0b25",
        "colab": {
          "base_uri": "https://localhost:8080/",
          "height": 807
        }
      },
      "cell_type": "code",
      "source": [
        "# initialising a new df to explore the training data\n",
        "explr_df = basic_preprocessing(load_raw_train())\n",
        "print(explr_df.head())"
      ],
      "execution_count": 0,
      "outputs": [
        {
          "output_type": "error",
          "ename": "KeyboardInterrupt",
          "evalue": "ignored",
          "traceback": [
            "\u001b[0;31m---------------------------------------------------------------------------\u001b[0m",
            "\u001b[0;31mKeyboardInterrupt\u001b[0m                         Traceback (most recent call last)",
            "\u001b[0;32m<ipython-input-49-b50fa7c03b30>\u001b[0m in \u001b[0;36m<module>\u001b[0;34m()\u001b[0m\n\u001b[0;32m----> 1\u001b[0;31m \u001b[0mexplr_df\u001b[0m \u001b[0;34m=\u001b[0m \u001b[0mbasic_preprocessing\u001b[0m\u001b[0;34m(\u001b[0m\u001b[0mload_raw_train\u001b[0m\u001b[0;34m(\u001b[0m\u001b[0;34m)\u001b[0m\u001b[0;34m)\u001b[0m\u001b[0;34m\u001b[0m\u001b[0;34m\u001b[0m\u001b[0m\n\u001b[0m\u001b[1;32m      2\u001b[0m \u001b[0mprint\u001b[0m\u001b[0;34m(\u001b[0m\u001b[0mexplr_df\u001b[0m\u001b[0;34m.\u001b[0m\u001b[0mhead\u001b[0m\u001b[0;34m(\u001b[0m\u001b[0;34m)\u001b[0m\u001b[0;34m)\u001b[0m\u001b[0;34m\u001b[0m\u001b[0;34m\u001b[0m\u001b[0m\n",
            "\u001b[0;32m<ipython-input-19-f3dfce94e5bc>\u001b[0m in \u001b[0;36mbasic_preprocessing\u001b[0;34m(raw_data)\u001b[0m\n\u001b[1;32m      5\u001b[0m       \u001b[0;34m.\u001b[0m\u001b[0mapply\u001b[0m\u001b[0;34m(\u001b[0m\u001b[0mtokenize_content\u001b[0m\u001b[0;34m)\u001b[0m\u001b[0;34m\u001b[0m\u001b[0;34m\u001b[0m\u001b[0m\n\u001b[1;32m      6\u001b[0m       \u001b[0;34m.\u001b[0m\u001b[0mapply\u001b[0m\u001b[0;34m(\u001b[0m\u001b[0mdecap_tokens\u001b[0m\u001b[0;34m)\u001b[0m\u001b[0;34m\u001b[0m\u001b[0;34m\u001b[0m\u001b[0m\n\u001b[0;32m----> 7\u001b[0;31m       \u001b[0;34m.\u001b[0m\u001b[0mapply\u001b[0m\u001b[0;34m(\u001b[0m\u001b[0mexpand_tokens\u001b[0m\u001b[0;34m)\u001b[0m\u001b[0;34m\u001b[0m\u001b[0;34m\u001b[0m\u001b[0m\n\u001b[0m\u001b[1;32m      8\u001b[0m       \u001b[0;34m.\u001b[0m\u001b[0mapply\u001b[0m\u001b[0;34m(\u001b[0m\u001b[0mremove_poss_apos\u001b[0m\u001b[0;34m)\u001b[0m\u001b[0;34m\u001b[0m\u001b[0;34m\u001b[0m\u001b[0m\n\u001b[1;32m      9\u001b[0m   )\n",
            "\u001b[0;32m/usr/local/lib/python3.6/dist-packages/pandas/core/series.py\u001b[0m in \u001b[0;36mapply\u001b[0;34m(self, func, convert_dtype, args, **kwds)\u001b[0m\n\u001b[1;32m   2549\u001b[0m             \u001b[0;32melse\u001b[0m\u001b[0;34m:\u001b[0m\u001b[0;34m\u001b[0m\u001b[0;34m\u001b[0m\u001b[0m\n\u001b[1;32m   2550\u001b[0m                 \u001b[0mvalues\u001b[0m \u001b[0;34m=\u001b[0m \u001b[0mself\u001b[0m\u001b[0;34m.\u001b[0m\u001b[0masobject\u001b[0m\u001b[0;34m\u001b[0m\u001b[0;34m\u001b[0m\u001b[0m\n\u001b[0;32m-> 2551\u001b[0;31m                 \u001b[0mmapped\u001b[0m \u001b[0;34m=\u001b[0m \u001b[0mlib\u001b[0m\u001b[0;34m.\u001b[0m\u001b[0mmap_infer\u001b[0m\u001b[0;34m(\u001b[0m\u001b[0mvalues\u001b[0m\u001b[0;34m,\u001b[0m \u001b[0mf\u001b[0m\u001b[0;34m,\u001b[0m \u001b[0mconvert\u001b[0m\u001b[0;34m=\u001b[0m\u001b[0mconvert_dtype\u001b[0m\u001b[0;34m)\u001b[0m\u001b[0;34m\u001b[0m\u001b[0;34m\u001b[0m\u001b[0m\n\u001b[0m\u001b[1;32m   2552\u001b[0m \u001b[0;34m\u001b[0m\u001b[0m\n\u001b[1;32m   2553\u001b[0m         \u001b[0;32mif\u001b[0m \u001b[0mlen\u001b[0m\u001b[0;34m(\u001b[0m\u001b[0mmapped\u001b[0m\u001b[0;34m)\u001b[0m \u001b[0;32mand\u001b[0m \u001b[0misinstance\u001b[0m\u001b[0;34m(\u001b[0m\u001b[0mmapped\u001b[0m\u001b[0;34m[\u001b[0m\u001b[0;36m0\u001b[0m\u001b[0;34m]\u001b[0m\u001b[0;34m,\u001b[0m \u001b[0mSeries\u001b[0m\u001b[0;34m)\u001b[0m\u001b[0;34m:\u001b[0m\u001b[0;34m\u001b[0m\u001b[0;34m\u001b[0m\u001b[0m\n",
            "\u001b[0;32mpandas/_libs/src/inference.pyx\u001b[0m in \u001b[0;36mpandas._libs.lib.map_infer\u001b[0;34m()\u001b[0m\n",
            "\u001b[0;32m<ipython-input-15-04182308515a>\u001b[0m in \u001b[0;36mexpand_tokens\u001b[0;34m(token_list)\u001b[0m\n\u001b[1;32m      7\u001b[0m \u001b[0;34m\u001b[0m\u001b[0m\n\u001b[1;32m      8\u001b[0m \u001b[0;32mdef\u001b[0m \u001b[0mexpand_tokens\u001b[0m\u001b[0;34m(\u001b[0m\u001b[0mtoken_list\u001b[0m\u001b[0;34m)\u001b[0m\u001b[0;34m:\u001b[0m\u001b[0;34m\u001b[0m\u001b[0;34m\u001b[0m\u001b[0m\n\u001b[0;32m----> 9\u001b[0;31m   \u001b[0mtoken_lists\u001b[0m \u001b[0;34m=\u001b[0m \u001b[0;34m[\u001b[0m\u001b[0mexpand_word\u001b[0m\u001b[0;34m(\u001b[0m\u001b[0mword\u001b[0m\u001b[0;34m)\u001b[0m \u001b[0;32mfor\u001b[0m \u001b[0mword\u001b[0m \u001b[0;32min\u001b[0m \u001b[0mtoken_list\u001b[0m\u001b[0;34m]\u001b[0m\u001b[0;34m\u001b[0m\u001b[0;34m\u001b[0m\u001b[0m\n\u001b[0m\u001b[1;32m     10\u001b[0m   \u001b[0;32mreturn\u001b[0m \u001b[0mlist\u001b[0m\u001b[0;34m(\u001b[0m\u001b[0mitertools\u001b[0m\u001b[0;34m.\u001b[0m\u001b[0mchain\u001b[0m\u001b[0;34m.\u001b[0m\u001b[0mfrom_iterable\u001b[0m\u001b[0;34m(\u001b[0m\u001b[0mtoken_lists\u001b[0m\u001b[0;34m)\u001b[0m\u001b[0;34m)\u001b[0m\u001b[0;34m\u001b[0m\u001b[0;34m\u001b[0m\u001b[0m\n",
            "\u001b[0;32m<ipython-input-15-04182308515a>\u001b[0m in \u001b[0;36m<listcomp>\u001b[0;34m(.0)\u001b[0m\n\u001b[1;32m      7\u001b[0m \u001b[0;34m\u001b[0m\u001b[0m\n\u001b[1;32m      8\u001b[0m \u001b[0;32mdef\u001b[0m \u001b[0mexpand_tokens\u001b[0m\u001b[0;34m(\u001b[0m\u001b[0mtoken_list\u001b[0m\u001b[0;34m)\u001b[0m\u001b[0;34m:\u001b[0m\u001b[0;34m\u001b[0m\u001b[0;34m\u001b[0m\u001b[0m\n\u001b[0;32m----> 9\u001b[0;31m   \u001b[0mtoken_lists\u001b[0m \u001b[0;34m=\u001b[0m \u001b[0;34m[\u001b[0m\u001b[0mexpand_word\u001b[0m\u001b[0;34m(\u001b[0m\u001b[0mword\u001b[0m\u001b[0;34m)\u001b[0m \u001b[0;32mfor\u001b[0m \u001b[0mword\u001b[0m \u001b[0;32min\u001b[0m \u001b[0mtoken_list\u001b[0m\u001b[0;34m]\u001b[0m\u001b[0;34m\u001b[0m\u001b[0;34m\u001b[0m\u001b[0m\n\u001b[0m\u001b[1;32m     10\u001b[0m   \u001b[0;32mreturn\u001b[0m \u001b[0mlist\u001b[0m\u001b[0;34m(\u001b[0m\u001b[0mitertools\u001b[0m\u001b[0;34m.\u001b[0m\u001b[0mchain\u001b[0m\u001b[0;34m.\u001b[0m\u001b[0mfrom_iterable\u001b[0m\u001b[0;34m(\u001b[0m\u001b[0mtoken_lists\u001b[0m\u001b[0;34m)\u001b[0m\u001b[0;34m)\u001b[0m\u001b[0;34m\u001b[0m\u001b[0;34m\u001b[0m\u001b[0m\n",
            "\u001b[0;32m<ipython-input-15-04182308515a>\u001b[0m in \u001b[0;36mexpand_word\u001b[0;34m(word)\u001b[0m\n\u001b[1;32m      4\u001b[0m \u001b[0;32mdef\u001b[0m \u001b[0mexpand_word\u001b[0m\u001b[0;34m(\u001b[0m\u001b[0mword\u001b[0m\u001b[0;34m:\u001b[0m \u001b[0mstr\u001b[0m\u001b[0;34m)\u001b[0m\u001b[0;34m:\u001b[0m\u001b[0;34m\u001b[0m\u001b[0;34m\u001b[0m\u001b[0m\n\u001b[1;32m      5\u001b[0m   \u001b[0mcont_re\u001b[0m \u001b[0;34m=\u001b[0m \u001b[0mre\u001b[0m\u001b[0;34m.\u001b[0m\u001b[0mcompile\u001b[0m\u001b[0;34m(\u001b[0m\u001b[0;34m'(%s)'\u001b[0m \u001b[0;34m%\u001b[0m \u001b[0;34m'|'\u001b[0m\u001b[0;34m.\u001b[0m\u001b[0mjoin\u001b[0m\u001b[0;34m(\u001b[0m\u001b[0mcont_dict\u001b[0m\u001b[0;34m.\u001b[0m\u001b[0mkeys\u001b[0m\u001b[0;34m(\u001b[0m\u001b[0;34m)\u001b[0m\u001b[0;34m)\u001b[0m\u001b[0;34m)\u001b[0m\u001b[0;34m\u001b[0m\u001b[0;34m\u001b[0m\u001b[0m\n\u001b[0;32m----> 6\u001b[0;31m   \u001b[0;32mreturn\u001b[0m \u001b[0mcont_re\u001b[0m\u001b[0;34m.\u001b[0m\u001b[0msub\u001b[0m\u001b[0;34m(\u001b[0m\u001b[0mreplace_cont\u001b[0m\u001b[0;34m,\u001b[0m \u001b[0mword\u001b[0m\u001b[0;34m)\u001b[0m\u001b[0;34m.\u001b[0m\u001b[0msplit\u001b[0m\u001b[0;34m(\u001b[0m\u001b[0;34m' '\u001b[0m\u001b[0;34m)\u001b[0m\u001b[0;34m\u001b[0m\u001b[0;34m\u001b[0m\u001b[0m\n\u001b[0m\u001b[1;32m      7\u001b[0m \u001b[0;34m\u001b[0m\u001b[0m\n\u001b[1;32m      8\u001b[0m \u001b[0;32mdef\u001b[0m \u001b[0mexpand_tokens\u001b[0m\u001b[0;34m(\u001b[0m\u001b[0mtoken_list\u001b[0m\u001b[0;34m)\u001b[0m\u001b[0;34m:\u001b[0m\u001b[0;34m\u001b[0m\u001b[0;34m\u001b[0m\u001b[0m\n",
            "\u001b[0;31mKeyboardInterrupt\u001b[0m: "
          ]
        }
      ]
    },
    {
      "metadata": {
        "id": "cE_dm2Lvfa8M",
        "colab_type": "code",
        "colab": {}
      },
      "cell_type": "code",
      "source": [
        "OUTPUT_DIRECTORY = \"./images/\"\n",
        "\n",
        "# Lambda function to convert a file name to the output path that the images should be saved to.\n",
        "output = lambda filename: OUTPUT_DIRECTORY + filename"
      ],
      "execution_count": 0,
      "outputs": []
    },
    {
      "metadata": {
        "id": "MGwz4UKl1jCA",
        "colab_type": "text"
      },
      "cell_type": "markdown",
      "source": [
        "#### Getting the Distribution of Classes"
      ]
    },
    {
      "metadata": {
        "id": "XEIJ-wXY1nfo",
        "colab_type": "code",
        "colab": {}
      },
      "cell_type": "code",
      "source": [
        "labels = explr_df['category']\n",
        "\n",
        "unique, counts = np.unique(labels, return_counts=True)\n",
        "\n",
        "plt.bar(unique,counts)\n",
        "plt.title('Class Frequency')\n",
        "plt.xlabel('Class')\n",
        "plt.ylabel('Frequency')\n",
        "plt.show()"
      ],
      "execution_count": 0,
      "outputs": []
    },
    {
      "metadata": {
        "id": "cWL-F5MUfc7S",
        "colab_type": "text"
      },
      "cell_type": "markdown",
      "source": [
        "### 3.1 Tokenization\n",
        "Our First step in data exploration involves cleaning the data to remove any unnecessary data that does not contribute to the identification of the document's class from others in the dataset.\n",
        "\n",
        "We first tokenize the words by filtering the text in the 'content' column of the database into its component words via basic preprocessing techniques described above."
      ]
    },
    {
      "metadata": {
        "id": "mL5_ozIwffAH",
        "colab_type": "code",
        "colab": {}
      },
      "cell_type": "code",
      "source": [
        "# removing stopwords and numbers before exploring\n",
        "explr_df['content'] = explr_df['content'].apply(remove_stopwords).apply(remove_numbers)\n",
        "\n",
        "explr_df['noun_tokens'] = explr_df['content'].apply(noun_tokens)\n",
        "\n",
        "# adding a column of lemmetized words, in order to contrast the distribution between different words to their base singular counterpart\n",
        "explr_df['lemmatized_tokens'] = explr_df['content'].apply(lemmatization)"
      ],
      "execution_count": 0,
      "outputs": []
    },
    {
      "metadata": {
        "id": "3wUVru9bfiPF",
        "colab_type": "code",
        "colab": {}
      },
      "cell_type": "code",
      "source": [
        "def getAllTokens(df):\n",
        "    \"\"\"\n",
        "    Convert the tokens column in a dataframe into a list of strings of every \n",
        "    token in the tokens column.\n",
        "    \"\"\"\n",
        "    return [token for tokens in df for token in tokens]\n",
        "\n",
        "getAllTokens(explr_df['noun_tokens'])[:10]\n",
        "\n"
      ],
      "execution_count": 0,
      "outputs": []
    },
    {
      "metadata": {
        "id": "B_i0U4i0flbc",
        "colab_type": "text"
      },
      "cell_type": "markdown",
      "source": [
        "### 3.2 WordCloud Visualization\n",
        "We then merge all tokens in the corpus and use wordcloud to get a first visualization of the entire corpus.\n",
        "\n",
        "We plot seperate wordclouds for each distinct class, by gathering all tokens for each specific category in the training data. This gives us a clear visualization of the words which are most common in each class.\n",
        "\n",
        "The Images for each category are saved into the images directory."
      ]
    },
    {
      "metadata": {
        "id": "2HQ00KzmfnuL",
        "colab_type": "code",
        "colab": {}
      },
      "cell_type": "code",
      "source": [
        "## Wordcloud function\n",
        "def wordcloudplot(tokens):\n",
        "    # visualization by wordcloud\n",
        "    text2 = ' '.join(tokens)\n",
        "\n",
        "    wordcloud = WordCloud(width=1400, height=600).generate(text2)\n",
        "    image = plt.figure( figsize=(20,10), facecolor='k')\n",
        "    \n",
        "    plt.imshow(wordcloud)\n",
        "    plt.axis(\"off\")\n",
        "    plt.tight_layout(pad=0)\n",
        "    plt.show()\n",
        "\n",
        "    return wordcloud\n",
        "  \n",
        "for category in explr_df['category'].unique():\n",
        "    filtered_df = explr_df[explr_df['category']==category]\n",
        "    print(category)\n",
        "    wordcloud = wordcloudplot(getAllTokens(filtered_df['noun_tokens']))\n",
        "#     wordcloud.to_file(output(category+\".png\"))"
      ],
      "execution_count": 0,
      "outputs": []
    },
    {
      "metadata": {
        "id": "HvggN7i7frz0",
        "colab_type": "text"
      },
      "cell_type": "markdown",
      "source": [
        "From looking at the WordClouds we can tell that in business sections certain words such as \"year\", \"US\", \"firm\", and \"sale\" stand out much more (are much bigger) than other words due to the much higher frequencies of these words within the business class.\n",
        "\n",
        "Similarly in the sport class the most prominent words which occur in the documents include \"game\", \"player\", \"year\" and \"time\" which seem to have far higher frequecies in the class of sport compared to the other words including \"team\", \"side\", \"goal\", \"match\" which appear far less often which usually are more descriptive of the category \"sport\".\n",
        "\n",
        "The other three Classes of tech, politics and entertainment also seem to have a few words that are at a higher frequency than the rest of the commonly occuring words. However the difference is not as apparent showing us that they are much more evenly distributed. \n",
        "\n",
        "* tech -> \"game\", \"year\" and \"people\"\n",
        "* politics -> \"election\", \"government\" and \"people\"\n",
        "* entainment -> \"Film\", \"Award\", \"Year\", \"Show \"\n",
        "\n",
        "This suggests that each topic contains few words in particular that are much more strongly linked to these topics than the other commonly occurng words. The occurance of these major words would help in identifying the Category of the document in question."
      ]
    },
    {
      "metadata": {
        "id": "9YsbBVuYfugG",
        "colab_type": "code",
        "colab": {}
      },
      "cell_type": "code",
      "source": [
        "# Word cloud of the entire corpus \n",
        "all_tokens = getAllTokens(explr_df['noun_tokens'])\n",
        "\n",
        "wordcloud = wordcloudplot(all_tokens)\n",
        "# wordcloud.to_file(output(\"EntireCorpus.png\"))"
      ],
      "execution_count": 0,
      "outputs": []
    },
    {
      "metadata": {
        "id": "C1W3thd_fxpt",
        "colab_type": "text"
      },
      "cell_type": "markdown",
      "source": [
        "From looking at the Wordcloud for the entire corpus we can see that the most frequent words are \"Year\" and \"People\" which appear in relatively high frequencies in all classes."
      ]
    },
    {
      "metadata": {
        "id": "baxDOb9Sh6w_",
        "colab_type": "text"
      },
      "cell_type": "markdown",
      "source": [
        "### 3.3.0 Word Count\n",
        "Before we plot the frequency of words we shall get a general idea of the distribution of tokens amongst the different categoris of documents.\n"
      ]
    },
    {
      "metadata": {
        "id": "_Dg5qJB_jOeo",
        "colab_type": "code",
        "colab": {}
      },
      "cell_type": "code",
      "source": [
        "# function to plot df\n",
        "def frequency_plot(df, title, xlabel=\"Frequency\", ylabel=\"\"):\n",
        "  \n",
        "    fig, axis = plt.subplots()\n",
        "\n",
        "    # Using a horizontal bar chart for legibility purposes\n",
        "    df.plot.barh(x = 'term', y = 'count', ax = axis)\n",
        "    \n",
        "    axis.set_title(title)\n",
        "    axis.set_xlabel(xlabel)\n",
        "    axis.set_ylabel(ylabel)\n",
        "\n",
        "    plt.show()"
      ],
      "execution_count": 0,
      "outputs": []
    },
    {
      "metadata": {
        "id": "9hMawF9dh9VA",
        "colab_type": "code",
        "colab": {}
      },
      "cell_type": "code",
      "source": [
        "all_tokens = getAllTokens(explr_df['noun_tokens'])\n",
        "print(\"The total number of noun tokens in the corpus is:\", len(all_tokens))\n",
        "\n",
        "category_count = []\n",
        "\n",
        "for category in explr_df['category'].unique():\n",
        "    filtered_df = explr_df[explr_df['category']==category]\n",
        "#     Getting all tokens in that category\n",
        "    all_tokens = getAllTokens(filtered_df['noun_tokens'])\n",
        "    count = len(all_tokens)\n",
        "    category_count.append({'term': category, 'count': count})\n",
        "    \n",
        "    print(\"\\nThe total number of noun tokens in the Category: \"+category+\" is: \", count)\n",
        "\n",
        "\n",
        "plot_df = pd.DataFrame(category_count)\n",
        "frequency_plot(plot_df, \"The districbution of words in corpus by category\", xlabel=\"Frequency\", ylabel=\"\")"
      ],
      "execution_count": 0,
      "outputs": []
    },
    {
      "metadata": {
        "id": "hBRq_GPmkdsd",
        "colab_type": "text"
      },
      "cell_type": "markdown",
      "source": [
        "From looking at this plot we can see that the category \"Entertainment\" has the least number of Noun tokens and has a far fewer number of tokens than compared to the categories: \"Tech\" \"Business\" and \"Politics\". \n",
        "\n",
        "This may result in either: \n",
        "* lower rates of accuracy for predicting the category \"Entertainment\" or,\n",
        "* lower rates of accuracy in predicting one or more of the top categories dues to overfitting."
      ]
    },
    {
      "metadata": {
        "id": "7EQrswoRf0Nc",
        "colab_type": "text"
      },
      "cell_type": "markdown",
      "source": [
        "### 3.3.1 Word Frequency \n",
        "\n",
        "Plotting the top-10 most common words for whole corpus. "
      ]
    },
    {
      "metadata": {
        "id": "8F6Zfgi-Rl9J",
        "colab_type": "code",
        "colab": {}
      },
      "cell_type": "code",
      "source": [
        "def frequency_distribution(tokens):\n",
        "    word_frequency = nltk.FreqDist(tokens)\n",
        "    \n",
        "    return word_frequency"
      ],
      "execution_count": 0,
      "outputs": []
    },
    {
      "metadata": {
        "id": "5QcsBTG5OcfB",
        "colab_type": "code",
        "colab": {}
      },
      "cell_type": "code",
      "source": [
        "# these helper methods help to create a df to store word by frequency\n",
        "def freq_dist_to_df(freq_dist, top):\n",
        "    \n",
        "    most_common_terms = []\n",
        "    \n",
        "    for term, count in freq_dist.most_common(top):\n",
        "        most_common_terms.append({'term': term, 'count': count})\n",
        "    \n",
        "    most_common_df = pd.DataFrame(most_common_terms)\n",
        "    most_common_df.sort_values(by = 'count', ascending = True, inplace = True)\n",
        "  \n",
        "    return most_common_df\n"
      ],
      "execution_count": 0,
      "outputs": []
    },
    {
      "metadata": {
        "id": "BjC-yXk6R6AX",
        "colab_type": "text"
      },
      "cell_type": "markdown",
      "source": [
        "We first list out all the words in the corpus and their corresponding frequencies. and then retrieve the top 10 words in the entire corpus."
      ]
    },
    {
      "metadata": {
        "id": "cuoVGj_hRrqH",
        "colab_type": "code",
        "colab": {}
      },
      "cell_type": "code",
      "source": [
        "all_words_frequency = frequency_distribution(all_tokens)\n",
        "\"The total number of unique tokens\"\n",
        "\n",
        "print(\"The total number of unique tokens\", len(all_words_frequency))"
      ],
      "execution_count": 0,
      "outputs": []
    },
    {
      "metadata": {
        "id": "ny3QekfdR42V",
        "colab_type": "code",
        "colab": {}
      },
      "cell_type": "code",
      "source": [
        "\"\"\"The df with all the tokens and their corresponding frequencies\"\"\"\n",
        "freq_df = freq_dist_to_df(all_words_frequency, len(all_words_frequency))\n",
        "freq_df.head()"
      ],
      "execution_count": 0,
      "outputs": []
    },
    {
      "metadata": {
        "id": "NTp_s0CJf5HH",
        "colab_type": "code",
        "colab": {}
      },
      "cell_type": "code",
      "source": [
        "\"\"\"Plotting the top 10 words in the entire corpus\"\"\"\n",
        "freq_df = freq_dist_to_df(all_words_frequency, 10)\n",
        "print(\"\\nMost frequent top-10 words: \", all_words_frequency.most_common(10))\n",
        "frequency_plot(freq_df, 'Top-10 most common words for whole corpus', xlabel=\"Frequency\", ylabel=\"\")"
      ],
      "execution_count": 0,
      "outputs": []
    },
    {
      "metadata": {
        "id": "l-cy7I6rf7cx",
        "colab_type": "text"
      },
      "cell_type": "markdown",
      "source": [
        "Here We can see that the most frequent words as seen in the wordclouds, include \"people\", \"year\", \"US\", \"world\" and \"government\". However we can see that the word \"years\" and \"Mr\" also seem to have a high frequency. \n",
        "\n",
        "Since these words are being repeated and are not very representative of the categories of documents, we shall apply the advanced data processing technique of lemmatization to remove words which are variants of a common base."
      ]
    },
    {
      "metadata": {
        "id": "huY6GpJIf9Z4",
        "colab_type": "code",
        "colab": {}
      },
      "cell_type": "code",
      "source": [
        "# adding a column of lemmetized words, in order to contrast the distribution between different words to their base singular counterpart\n",
        "explr_df['lemmatized_tokens'] = explr_df['noun_tokens'].apply(lemmatization)\n",
        "\n",
        "all_tokens = getAllTokens(explr_df['lemmatized_tokens'])\n",
        "all_words_frequency = frequency_distribution(all_tokens)\n",
        "\n",
        "freq_df = freq_dist_to_df(all_words_frequency, 10)\n",
        "print(\"\\nMost frequent top-10 words after lemmatization: \", all_words_frequency.most_common(10))\n",
        "frequency_plot(freq_df, 'Top-10 most common words for whole corpus after Lemmatization', xlabel=\"Frequency\", ylabel=\"\")"
      ],
      "execution_count": 0,
      "outputs": []
    },
    {
      "metadata": {
        "id": "Xn2tPavPgAuh",
        "colab_type": "text"
      },
      "cell_type": "markdown",
      "source": [
        "This frequency table gives us a much wider array of words, Including Year, People, Game, Time, Government , company and film suggesting a good distribution of the different classes of documents."
      ]
    },
    {
      "metadata": {
        "id": "_kBghxiJgDI9",
        "colab_type": "text"
      },
      "cell_type": "markdown",
      "source": [
        "**Plotting the top-10 most common words by Category **"
      ]
    },
    {
      "metadata": {
        "id": "avbvy1HqgFDE",
        "colab_type": "code",
        "colab": {}
      },
      "cell_type": "code",
      "source": [
        "for category in explr_df['category'].unique():\n",
        "    filtered_df = explr_df[explr_df['category']==category]\n",
        "    print(category)\n",
        "#     Getting all tokens in that category\n",
        "    all_tokens = getAllTokens(filtered_df['lemmatized_tokens'])\n",
        "    \n",
        "    all_words_frequency = frequency_distribution(all_tokens)\n",
        "\n",
        "    freq_df = freq_dist_to_df(all_words_frequency, 10)\n",
        "    print(\"\\nMost frequent top-10 words after lemmatization: \", all_words_frequency.most_common(10))\n",
        "    frequency_plot(freq_df, 'Top-10 most common words in category: '+category, xlabel=\"Frequency\", ylabel=\"\")"
      ],
      "execution_count": 0,
      "outputs": []
    },
    {
      "metadata": {
        "id": "afRZY3URLahc",
        "colab_type": "text"
      },
      "cell_type": "markdown",
      "source": [
        "From looking at the distribution of words in category **Business**, we can see that the words \"Year\" and \"US\" appear a lot more times than the rest of the words. \n",
        "Similary in **Tech** the word \"People\" has a far higher frequency count when compare to the rest of the distribution\n",
        "This can also be seen in the category of **Entertainment** for the words \"film and \"year\" and in the category of **Sports** for the word \"game\".\n",
        "\n",
        "From looking at the plots above we can see that all the categories have a 'concave' distribution of the frequency of common words. However, the frequency distribution of the top 10 common words of the class politics has a more 'Linear' shape which shows us that istead of only having a few words with a high frequency(suggesting that these words act as Keywords for the class category), the class \"Politics\" has a lot more words with a high frequency of occurance.\n",
        "\n"
      ]
    },
    {
      "metadata": {
        "id": "mn_ZCTvj69Ss",
        "colab_type": "text"
      },
      "cell_type": "markdown",
      "source": [
        "### 3.4 N-Grams "
      ]
    },
    {
      "metadata": {
        "id": "Zqm5i5mbHIeK",
        "colab_type": "code",
        "colab": {}
      },
      "cell_type": "code",
      "source": [
        "all_tokens_ = explr_df['lemmatized_tokens']\n",
        "all_tokens_.head(10)"
      ],
      "execution_count": 0,
      "outputs": []
    },
    {
      "metadata": {
        "id": "12jTzKSw8AjY",
        "colab_type": "text"
      },
      "cell_type": "markdown",
      "source": [
        "Here we are going to look into the most common n-grams, particularly bi- and tri-grams as they are the most commonly used  ones to gain further insight into words that regularly occur together . We are going to look into the entire corpus. We are using a frequency plotter in the form of a horizontal  bar chart in order to visualize the n-gram data. \n",
        "\n",
        "Therefore, we initially declare our frequency_plot function along with a frequency distribution to dataframe function that allows us easily retrieve and plot the most frequent terms in the entire corpus."
      ]
    },
    {
      "metadata": {
        "id": "-PC_hjXJZpV9",
        "colab_type": "text"
      },
      "cell_type": "markdown",
      "source": [
        "####  N-grams Plotting Function "
      ]
    },
    {
      "metadata": {
        "id": "07GPzD8wGj_B",
        "colab_type": "code",
        "colab": {}
      },
      "cell_type": "code",
      "source": [
        "def freq_dist_to_df(freq_dist, top):\n",
        "  \n",
        "    most_common_terms = []\n",
        "    \n",
        "    for term, count in freq_dist.most_common(top):\n",
        "        most_common_terms.append({'term': term, 'count': count})\n",
        "    \n",
        "    most_common_df = pd.DataFrame(most_common_terms)\n",
        "    most_common_df.sort_values(by = 'count', ascending = True, inplace = True)\n",
        "\n",
        "    return most_common_df\n",
        "\n",
        "def frequency_plot(df, title, xlabel=\"Frequency\", ylabel=\"\"):\n",
        "  \n",
        "    fig, axis = plt.subplots()\n",
        "\n",
        "    # Using a horizontal bar chart for legibility purposes\n",
        "    df.plot.barh(x = 'term', y = 'count', ax = axis)\n",
        "    \n",
        "    axis.set_title(title)\n",
        "    axis.set_xlabel(xlabel)\n",
        "    axis.set_ylabel(ylabel)\n",
        "\n",
        "    plt.show()"
      ],
      "execution_count": 0,
      "outputs": []
    },
    {
      "metadata": {
        "id": "aPUnorZ5MKK3",
        "colab_type": "text"
      },
      "cell_type": "markdown",
      "source": [
        "After declaring frequency_plot, we declare individual functions for the bi-grams, followed tri-grams. \n",
        "\n",
        "The functions take in a list of lemmatized tokens without stopwords. Using this we are able to gain more insight into the generated n-grams.\n",
        "\n"
      ]
    },
    {
      "metadata": {
        "id": "hACiHNUyZ0zF",
        "colab_type": "text"
      },
      "cell_type": "markdown",
      "source": [
        "#### N-Grams Function"
      ]
    },
    {
      "metadata": {
        "id": "i0DDB77OG3Au",
        "colab_type": "code",
        "colab": {}
      },
      "cell_type": "code",
      "source": [
        "def plot_bigrams(n_grams_data):\n",
        "    \n",
        "    all_tokens_ = [token for tokens in n_grams_data for token in tokens]\n",
        "\n",
        "    bigrams = nltk.bigrams(all_tokens_)\n",
        "\n",
        "    bigram_frequency = nltk.FreqDist(bigrams)\n",
        "    bigrams_df = freq_dist_to_df(bigram_frequency, 5)\n",
        "\n",
        "    frequency_plot(bigrams_df, title=\"Top 5 most common bi-grams in the entire corpus\", xlabel=\"Frequency\", ylabel=\"Bigram\")\n",
        "    \n",
        "def plot_trigrams(n_grams_data):\n",
        "    \n",
        "    all_tokens_ = [token for tokens in n_grams_data for token in tokens]\n",
        "    trigrams = nltk.ngrams(all_tokens_, 3)\n",
        "\n",
        "    trigram_frequency = nltk.FreqDist(trigrams)\n",
        "    trigrams_df = freq_dist_to_df(trigram_frequency, 5)\n",
        "\n",
        "    frequency_plot(trigrams_df, title=\"Top 5 most common tri-grams in the entire Corpus\", xlabel=\"Frequency\", ylabel=\"Term\")"
      ],
      "execution_count": 0,
      "outputs": []
    },
    {
      "metadata": {
        "id": "hG0dTFD0Pn4A",
        "colab_type": "text"
      },
      "cell_type": "markdown",
      "source": [
        "Using the above functions, we then generate the frequency plot as mentioned above in the form of a horizontal bar chart for the top 5 bi- and tri-grams respectively."
      ]
    },
    {
      "metadata": {
        "id": "gA0tZgpQZ7Vj",
        "colab_type": "text"
      },
      "cell_type": "markdown",
      "source": [
        "#### Bi-Grams"
      ]
    },
    {
      "metadata": {
        "id": "xCg_LNXCFC_O",
        "colab_type": "code",
        "colab": {}
      },
      "cell_type": "code",
      "source": [
        "plot_bigrams(all_tokens_)"
      ],
      "execution_count": 0,
      "outputs": []
    },
    {
      "metadata": {
        "id": "vdBL5Ihd9V2-",
        "colab_type": "text"
      },
      "cell_type": "markdown",
      "source": [
        "From the above top 5 bi-grams we can see that \"BBC\" is fairly common, as it pops up in 2 of the top 5 most common bi-grams. This suggest that the majority of our articles come from the the BBC News website. \n",
        "\n",
        "Generating bi-grams is a good manner of showing the use of removing stop words. This is simply because if we had kept our stop words then the level of insight we get is not deep enough or meaningful enough for us to to draw any decent conclusions on the corpus.  We would end up with bi-grams that simply have words such as \"the\", \"to\", \"of\", etc. These words are significantly redundant and do not help us in anyway in terms of making sense of the overall corpus and coming up with meaningful visualisations. "
      ]
    },
    {
      "metadata": {
        "id": "vzu9ZsxWaC8f",
        "colab_type": "text"
      },
      "cell_type": "markdown",
      "source": [
        "#### Tri-Grams"
      ]
    },
    {
      "metadata": {
        "id": "fEKQSVG7IqoE",
        "colab_type": "code",
        "colab": {}
      },
      "cell_type": "code",
      "source": [
        "plot_trigrams(all_tokens_)"
      ],
      "execution_count": 0,
      "outputs": []
    },
    {
      "metadata": {
        "id": "Ij9PdZPVB8VT",
        "colab_type": "text"
      },
      "cell_type": "markdown",
      "source": [
        "The output we have generated from our tri-grams gives us more of the same insight in this case. We can see how \"BBC\" appears even more frequently within a group of 3. We can make the important observation that our data source is very likely **BBC News**. "
      ]
    },
    {
      "metadata": {
        "id": "zGwl2AtKxgbs",
        "colab_type": "text"
      },
      "cell_type": "markdown",
      "source": [
        "### 3.5 Clustering"
      ]
    },
    {
      "metadata": {
        "id": "6rRJGHBCxuSR",
        "colab_type": "text"
      },
      "cell_type": "markdown",
      "source": [
        "Clustering is the process of partitioning sets of data into a set of meaningful sub-classes. This helps us to understand the natural grouping or structure of a datasey. Clustering is a type of unsupervised classification. Unsupervised learning is a type of machine learning algorithm that draws inferences from datasets consisting of input data without any labeled data. It is typically applied as a stand-alone tool to get insight into data distribution. However it can in some cases be used as a pre-processing step for other, supervised algorithms. In the examples below I used 3 types of measures to calculate the distance between the words.\n",
        "\n",
        "Eucledian distance: Is the \"ordinary\" straight line distance between two points inthe plane or a 3 dimensional space\n",
        "\n",
        "Manhattan distance: Is the sum of the horizontal and vertical distances between two points on a plane\n",
        "\n",
        "Cosine similarity: Is the measure of similarity between two non-zer vectors of an inner product space that measures the cosine of the angle between them"
      ]
    },
    {
      "metadata": {
        "id": "694WiMzpxyT7",
        "colab_type": "text"
      },
      "cell_type": "markdown",
      "source": [
        "#### Tf-Idf clustering functions"
      ]
    },
    {
      "metadata": {
        "id": "-tDcfc7xyAbM",
        "colab_type": "code",
        "colab": {}
      },
      "cell_type": "code",
      "source": [
        "def full_cosine():\n",
        "    raw_df = basic_preprocessing(load_raw_train())\n",
        "    raw_df['noun_tokens']=raw_df['content'].apply(noun_tokens)\n",
        "    X_raw = raw_df['noun_tokens']\n",
        "\n",
        "    vectorizer = TfidfVectorizer(norm='l2', lowercase=False)\n",
        "    doc_list = [' '.join(token_list) for token_list in X_raw]\n",
        "    vectorized_matrix = vectorizer.fit_transform(doc_list)\n",
        "    feature_names = vectorizer.get_feature_names()\n",
        "    vectorized_matrix_df = pd.DataFrame(vectorized_matrix.toarray(),columns=[feature_names])\n",
        "\n",
        "    cosine_matrix=cosine_similarity(vectorized_matrix_df)\n",
        "    \n",
        "    linkage_matrix=ward(cosine_matrix)\n",
        "\n",
        "    fig, ax = plt.subplots(figsize=(30,25)) # set size\n",
        "    ax = dendrogram(linkage_matrix,orientation=\"right\", labels=list(raw_df['index']))\n",
        "    plt.axvline(x=10)\n",
        "    plt.tight_layout()\n",
        "\n",
        "def cosine_hierarchical():\n",
        "    raw_df = basic_preprocessing(load_raw_train())\n",
        "    raw_df['noun_tokens']=raw_df['content'].apply(noun_tokens)\n",
        "    X_raw = raw_df['noun_tokens']\n",
        "\n",
        "    vectorizer = TfidfVectorizer(norm='l2', lowercase=False)\n",
        "    doc_list = [' '.join(token_list) for token_list in X_raw]\n",
        "    vectorized_matrix = vectorizer.fit_transform(doc_list)\n",
        "    feature_names = vectorizer.get_feature_names()\n",
        "    vectorized_matrix_df = pd.DataFrame(vectorized_matrix.toarray(),columns=[feature_names])\n",
        "\n",
        "    cosine_matrix=cosine_similarity(vectorized_matrix_df)\n",
        "    \n",
        "    linkage_matrix=ward(cosine_matrix)\n",
        "\n",
        "    fig, ax = plt.subplots(figsize=(20,15)) # set size\n",
        "    ax = dendrogram(linkage_matrix, truncate_mode='level',p=5, orientation=\"right\", labels=list(raw_df['index']))\n",
        "    plt.axvline(x=6)\n",
        "    plt.tight_layout()\n",
        "\n",
        "    \n",
        "def euclidean_hierarchical():\n",
        "    raw_df = basic_preprocessing(load_raw_train())\n",
        "    raw_df['noun_tokens']=raw_df['content'].apply(noun_tokens)\n",
        "    X_raw = raw_df['noun_tokens']\n",
        "\n",
        "    vectorizer = TfidfVectorizer(norm='l2', lowercase=False)\n",
        "    doc_list = [' '.join(token_list) for token_list in X_raw]\n",
        "    vectorized_matrix = vectorizer.fit_transform(doc_list)\n",
        "    feature_names = vectorizer.get_feature_names()\n",
        "    vectorized_matrix_df = pd.DataFrame(vectorized_matrix.toarray(),columns=[feature_names])\n",
        "\n",
        "    euc_matrix=euclidean_distances(vectorized_matrix_df)\n",
        "    \n",
        "    linkage_matrix=ward(euc_matrix)\n",
        "\n",
        "    fig, ax = plt.subplots(figsize=(20,15)) # set size\n",
        "    ax = dendrogram(linkage_matrix, truncate_mode='level',p=5, orientation=\"right\", labels=list(raw_df['index']))\n",
        "    plt.axvline(x=6)\n",
        "    plt.tight_layout()\n",
        "    \n",
        "def manhattan_hierarchical():\n",
        "    raw_df = basic_preprocessing(load_raw_train())\n",
        "    raw_df['noun_tokens']=raw_df['content'].apply(noun_tokens)\n",
        "    X_raw = raw_df['noun_tokens']\n",
        "\n",
        "    vectorizer = TfidfVectorizer(norm='l2', lowercase=False)\n",
        "    doc_list = [' '.join(token_list) for token_list in X_raw]\n",
        "    vectorized_matrix = vectorizer.fit_transform(doc_list)\n",
        "    feature_names = vectorizer.get_feature_names()\n",
        "    vectorized_matrix_df = pd.DataFrame(vectorized_matrix.toarray(),columns=[feature_names])\n",
        "\n",
        "    manhattan_matrix=manhattan_distances(vectorized_matrix_df)\n",
        "    \n",
        "    linkage_matrix=ward(manhattan_matrix)\n",
        "\n",
        "    fig, ax = plt.subplots(figsize=(20,15)) # set size\n",
        "    ax = dendrogram(linkage_matrix, truncate_mode='level',p=5, orientation=\"right\", labels=list(raw_df['index']))\n",
        "    plt.axvline(x=650)\n",
        "    plt.tight_layout()"
      ],
      "execution_count": 0,
      "outputs": []
    },
    {
      "metadata": {
        "id": "YdtAfqsdyGYR",
        "colab_type": "text"
      },
      "cell_type": "markdown",
      "source": [
        "The three of these functions are similar in what they do. The only main difference is the method they use to calculate the matrix. The first thing to be done is to read in the training  dataset along with performing basic pre processing on them. After that I apply some advanced pre-processing on the dataframe by getting the noun tokens. I then get the tf-idf matrix and finally I use the cosine similarity for the first one to obtain the linkage matrix\n",
        "\n",
        "Lastly I plot the hierarchical clusters using a dendrogram using the truncate_mode to set the dendrogram to only go 5 levels deep"
      ]
    },
    {
      "metadata": {
        "id": "T7hVamKn3cHl",
        "colab_type": "text"
      },
      "cell_type": "markdown",
      "source": [
        "#### Tf-idf Cosine Similarity"
      ]
    },
    {
      "metadata": {
        "id": "UzBiyEWMyDt0",
        "colab_type": "code",
        "colab": {}
      },
      "cell_type": "code",
      "source": [
        "cosine_hierarchical()"
      ],
      "execution_count": 0,
      "outputs": []
    },
    {
      "metadata": {
        "id": "n00tVc0I2j2y",
        "colab_type": "code",
        "colab": {}
      },
      "cell_type": "code",
      "source": [
        "# This is the code I used to check the clusters that were obtained in my dendrogram against the categories in the df\n",
        "def check_category():\n",
        "    raw_df = basic_preprocessing(load_raw_train())\n",
        "    c1_first=raw_df.get_value(462, col='category')\n",
        "    c1_second=raw_df.get_value(91, col='category')\n",
        "    c1_third=raw_df.get_value(138, col='category')\n",
        "    C1=[c1_first,c1_second,c1_third]\n",
        "    \n",
        "    c2_first=raw_df.get_value(28, col='category')\n",
        "    c2_second=raw_df.get_value(11, col='category')\n",
        "    c2_third=raw_df.get_value(151, col='category')\n",
        "    C2=[c2_first,c2_second,c2_third]\n",
        "    \n",
        "    c3_first=raw_df.get_value(17, col='category')\n",
        "    c3_second=raw_df.get_value(34, col='category')\n",
        "    c3_third=raw_df.get_value(10, col='category')\n",
        "    C3=[c3_first,c3_second,c3_third]\n",
        "    \n",
        "    c4_first=raw_df.get_value(1142, col='category')\n",
        "    c4_second=raw_df.get_value(2, col='category')\n",
        "    c4_third=raw_df.get_value(504, col='category')\n",
        "    C4=[c4_first,c4_second,c4_third]\n",
        "    \n",
        "    c5_first=raw_df.get_value(15, col='category')\n",
        "    c5_second=raw_df.get_value(12, col='category')\n",
        "    c5_third=raw_df.get_value(324, col='category')\n",
        "    C5=[c5_first,c5_second,c5_third]\n",
        "    \n",
        "    return C1,C2,C3,C4,C5"
      ],
      "execution_count": 0,
      "outputs": []
    },
    {
      "metadata": {
        "id": "gi9Kr0jX3OAl",
        "colab_type": "code",
        "colab": {}
      },
      "cell_type": "code",
      "source": [
        "check_category()"
      ],
      "execution_count": 0,
      "outputs": []
    },
    {
      "metadata": {
        "id": "uHLP956H1ldS",
        "colab_type": "text"
      },
      "cell_type": "markdown",
      "source": [
        "The above samples I took from the data were from when I ran the clustering algorithm and plotted a dendogram. Some of the results may change below when run somewhere else:\n",
        "\n",
        "When clustering based on the cosine simlarity we can see that the first cluster is clearly related to sport. \n",
        "\n",
        "However after that we quickly end up seeing that its starts to misclassify the data. With the second cluster containing entertainment, politics and business all together. \n",
        "\n",
        "In the third cluster we see mainly business articles with some random sports articles. This could be due to the articles having similar topics to eachother due to entertainment and business having overlaps in several articles. \n",
        "\n",
        "Where we seem to see the Hierarchcal clustering model excel at classifing seen data is in the politics section. Whereas a lot of the other, supervised models fail at classifiying these correctly. I am unsure as to why exactly this is the case when comparing to supervised models. But I would guess that this could be because we are using the cosine similarity and a lot of the Jargon and style of writing of political articles would be very different to the rest of the articles. So when we use the cosine similarity we end up seeing that these articles are very different to the rest of them.\n",
        "\n",
        "We see the biggest weakness to this approach in the fifth and final cluster. This is the largest of them all and it seems to contain most of the discrepencies in it. I believe this is the remainder of the documents when it cannot accurately classify them so it appears to just lump them all together\n"
      ]
    },
    {
      "metadata": {
        "id": "T_NWbTQ83i88",
        "colab_type": "text"
      },
      "cell_type": "markdown",
      "source": [
        "#### Tf-idf Euclidean distance"
      ]
    },
    {
      "metadata": {
        "id": "fco1k1L53uc5",
        "colab_type": "code",
        "colab": {}
      },
      "cell_type": "code",
      "source": [
        "euclidean_hierarchical()"
      ],
      "execution_count": 0,
      "outputs": []
    },
    {
      "metadata": {
        "id": "403EkweP35rX",
        "colab_type": "text"
      },
      "cell_type": "markdown",
      "source": [
        "Eucledian distance gives similar results to the cosine similarity in some of the cases. However it seems to struggle a lot more on differentiating between sports, entertainment and business.However in the case of politics it is even better than the cosine one. It correctly groups several political articles together without many other types of documents to be seen. However the final cluster which appears to be the largest is again an amalgamation of all of the different types of documents as it struggles to seperate them into different catagories"
      ]
    },
    {
      "metadata": {
        "id": "xCPZlema37zJ",
        "colab_type": "text"
      },
      "cell_type": "markdown",
      "source": [
        "#### Tf-Idf Manhattan distance"
      ]
    },
    {
      "metadata": {
        "id": "FYVS1p8U4Dli",
        "colab_type": "code",
        "colab": {}
      },
      "cell_type": "code",
      "source": [
        "manhattan_hierarchical()"
      ],
      "execution_count": 0,
      "outputs": []
    },
    {
      "metadata": {
        "id": "ch5V54vT4El2",
        "colab_type": "text"
      },
      "cell_type": "markdown",
      "source": [
        "Manhattan distance is by far the most inefficient of these 3 different approaches. It takes a lot longer than the other two to run and the results do not appear to be any better. While it can split some of them correctly it struggles in the same areas as the other two previous approaches. With that being said I would not recommend this when compared to the other two as the trade off here with the increased run time is not worth the slight if any benifit that is provided to the results.\n",
        "\n",
        "In fact many of the results are far worse than the other two as it cannot seem to distinguish any difference between entertainment, politics, tech or business. With all of them appearing in the same clusters. So overall this approach seems to be inefficient and doesnt produces the results required"
      ]
    },
    {
      "metadata": {
        "id": "_J8ChuBi4LEn",
        "colab_type": "text"
      },
      "cell_type": "markdown",
      "source": [
        "#### Cosine Similarity using count vector"
      ]
    },
    {
      "metadata": {
        "id": "wMVhgHL54jT5",
        "colab_type": "code",
        "colab": {}
      },
      "cell_type": "code",
      "source": [
        "def cosine_similarity_count():\n",
        "    raw_df = basic_preprocessing(load_raw_train())\n",
        "    raw_df['noun_tokens']=raw_df['content'].apply(noun_tokens)\n",
        "    X_raw = raw_df['noun_tokens']\n",
        "    \n",
        "    \n",
        "    count_vectorizer = CountVectorizer(lowercase=False)\n",
        "    doc_list = [' '.join(token_list) for token_list in X_raw]\n",
        "    count_train = count_vectorizer.fit_transform(doc_list)\n",
        "    feature_names = count_vectorizer.get_feature_names()\n",
        "    count_matrix_df = pd.DataFrame(count_train.toarray(),columns=[feature_names])\n",
        "\n",
        "    cosine_matrix=cosine_similarity(count_matrix_df)\n",
        "    \n",
        "    linkage_matrix=ward(cosine_matrix)\n",
        "\n",
        "    fig, ax = plt.subplots(figsize=(20,15)) # set size\n",
        "    ax = dendrogram(linkage_matrix, truncate_mode='level',p=5, orientation=\"right\", labels=list(raw_df['index']))\n",
        "    plt.axvline(x=6)\n",
        "    plt.tight_layout()\n"
      ],
      "execution_count": 0,
      "outputs": []
    },
    {
      "metadata": {
        "id": "uasvI6bR4ouF",
        "colab_type": "code",
        "colab": {}
      },
      "cell_type": "code",
      "source": [
        "cosine_similarity_count()"
      ],
      "execution_count": 0,
      "outputs": []
    },
    {
      "metadata": {
        "id": "VO5N437_4vEQ",
        "colab_type": "code",
        "colab": {}
      },
      "cell_type": "code",
      "source": [
        "def check_category_count():\n",
        "    raw_df = basic_preprocessing(load_raw_train())\n",
        "    c1_first=raw_df.get_value(112, col='category')\n",
        "    c1_second=raw_df.get_value(52, col='category')\n",
        "    c1_third=raw_df.get_value(29, col='category')\n",
        "    C1=[c1_first,c1_second,c1_third]\n",
        "    \n",
        "    c2_first=raw_df.get_value(146, col='category')\n",
        "    c2_second=raw_df.get_value(65, col='category')\n",
        "    c2_third=raw_df.get_value(12, col='category')\n",
        "    C2=[c2_first,c2_second,c2_third]\n",
        "    \n",
        "    c3_first=raw_df.get_value(23, col='category')\n",
        "    c3_second=raw_df.get_value(15, col='category')\n",
        "    c3_third=raw_df.get_value(11, col='category')\n",
        "    C3=[c3_first,c3_second,c3_third]\n",
        "    \n",
        "    c4_first=raw_df.get_value(19, col='category')\n",
        "    c4_second=raw_df.get_value(16, col='category')\n",
        "    c4_third=raw_df.get_value(7, col='category')\n",
        "    C4=[c4_first,c4_second,c4_third]\n",
        "    \n",
        "    c5_first=raw_df.get_value(25, col='category')\n",
        "    c5_second=raw_df.get_value(12, col='category')\n",
        "    c5_third=raw_df.get_value(5, col='category')\n",
        "    C5=[c5_first,c5_second,c5_third]\n",
        "    return C1,C2,C3,C4,C5"
      ],
      "execution_count": 0,
      "outputs": []
    },
    {
      "metadata": {
        "id": "UeyM0j3c5XND",
        "colab_type": "code",
        "colab": {}
      },
      "cell_type": "code",
      "source": [
        "check_category_count()"
      ],
      "execution_count": 0,
      "outputs": []
    },
    {
      "metadata": {
        "id": "PnoLsTjJ5YFZ",
        "colab_type": "text"
      },
      "cell_type": "markdown",
      "source": [
        "Using the count vector as a way to summarize the documents does not work towards cluctering the documents as none of the clusters appear to have any sort of pattern to them. THey all just appear to be random documents put together. Which I guess is to be expected by just taking the count of the words contained in each document as there are some words that may appear often without any sort of context. So if I were to suggest going with one method of clustering I would use the tf-idf values to do so"
      ]
    },
    {
      "metadata": {
        "id": "jIzG6-Vi5b9J",
        "colab_type": "text"
      },
      "cell_type": "markdown",
      "source": [
        "#### Conclusion"
      ]
    },
    {
      "metadata": {
        "id": "dQLEixPH5egN",
        "colab_type": "text"
      },
      "cell_type": "markdown",
      "source": [
        "Overall hierarchical clustering does not appear to be sufficent for classifiying this dataset or using it for any sore of exploration. It misclassifies a lot of the documents and even using clustering as a pre-processing step would be ill advised in my opinion. In this situation it would be best to use some of the supervised learning methods in order to clssify these documents as well as testing unseen data which can be seen below"
      ]
    },
    {
      "metadata": {
        "id": "G9IeKO_V7pX9",
        "colab_type": "text"
      },
      "cell_type": "markdown",
      "source": [
        "# 4 Defining framework & workflow for model evaluation"
      ]
    },
    {
      "metadata": {
        "id": "iWhyRsUN3U4u",
        "colab_type": "text"
      },
      "cell_type": "markdown",
      "source": [
        "This section describes the whole workflow used for evaluating all of the different models we come up with in this notebook.\n",
        "By using one unified approach, we remove a lot of boilerplate code and enable easy hyperparameter tuning. We define each model to follow the standard structure of a scikit learn model. This way advances preprocessing steps can be integrated into the model and switched on and off as a hyperparameter. This allows us to write simpler code and be more accurate/consistent when testing our models.\n",
        "\n",
        "**While creating a wrapper class for simple estimators might seem overkill, it is the only way to achieve this level of automation when wanting to include different preprocessing steps (i.e. filtering and vectorizing) as hyperparameters to the model.**"
      ]
    },
    {
      "metadata": {
        "id": "Tg4wuYHU9Wj2",
        "colab_type": "text"
      },
      "cell_type": "markdown",
      "source": [
        "## 4.1 Loading preprocessing and splitting data"
      ]
    },
    {
      "metadata": {
        "id": "zEcn3SUpkmoj",
        "colab_type": "text"
      },
      "cell_type": "markdown",
      "source": [
        "**Train/Test Split**\n",
        "\n",
        "This is a rather important concept in data analysis and is used as a major tool to prevent (or at least minimize) overfitting of the model.\n",
        "\n",
        "**Overfitting **\n",
        "\n",
        "It means that what we’ve fit the model too much to the training data, and is unable to generalize to data that is unseen, negatively affecting the classification accuracy of the model.\n",
        "The model will be very accurate on the training data but not accurate on untrained or new data. It is because this model can’t make any inferences on other data as the model learns or describes the “noise” in the training data instead of the actual relationships between variables in the data."
      ]
    },
    {
      "metadata": {
        "id": "Y1TytIGIID4r",
        "colab_type": "text"
      },
      "cell_type": "markdown",
      "source": [
        "* Load raw data\n",
        "* Apply simple preprocessing, as needed in all models\n",
        "* Split into training | testing data, 80 | 20"
      ]
    },
    {
      "metadata": {
        "id": "L3OEMzdY8wqv",
        "colab_type": "code",
        "colab": {}
      },
      "cell_type": "code",
      "source": [
        "def get_preprocessed():\n",
        "  # load\n",
        "  print('Loading preprocessed data...', end='')\n",
        "  time_start = time.time()\n",
        "  processed_df = load_preprocessed_train()\n",
        "  #encode_text_index(processed_df,\"category\")\n",
        "\n",
        "  print('done.',f_time(time.time()-time_start))\n",
        "  \n",
        "  # split\n",
        "  print('Splitting data...', end='')\n",
        "  time_start = time.time()\n",
        "  X_processed = processed_df['content']\n",
        "  y_processed = processed_df['category']\n",
        "  X_train, X_test, y_train, y_test = train_test_split(X_processed, y_processed, train_size=0.8)\n",
        "  print('done.',f_time(time.time()-time_start))\n",
        "  \n",
        "  return X_train, X_test, y_train, y_test"
      ],
      "execution_count": 0,
      "outputs": []
    },
    {
      "metadata": {
        "id": "bPfpAuET-scp",
        "colab_type": "text"
      },
      "cell_type": "markdown",
      "source": [
        "## 4.2 Automatic hyperparameter search using crossvalidation"
      ]
    },
    {
      "metadata": {
        "id": "UA1SNZxtIXgc",
        "colab_type": "text"
      },
      "cell_type": "markdown",
      "source": [
        "***(If the model does not need any hyperparameters, this step can be skipped.)***\n",
        "\n",
        "Here we are looking at our parameter optimizer using crossvalidation, In the optimise function we pass in a dictionary with the parameters that we want to to optimise for. If we are trying to optimize for k in the KNN classifier we can set parameter_space = {'k':[1,2,3,4,5]} . The fuction will then return the classifier that yields the highest accuracy. \n",
        "\n",
        "Any parameter not mentioned will just have default parameters assigned. This function is designed to only receive training data and optimise parameters for the training data so we do not have any leakage. \n",
        "\n",
        "***How it works***\n",
        "\n",
        "A grid is built consisting of all combinations of the hyperparameters, each of these will be evaluate on a specified sample size as it would take too long to run on full data. The models are all scored using cross validation in the score function that is defined in the model.\n",
        "\n",
        "The parameter dictionary should be used with an initial large number of parameters. As we see what the better parameters are we can begin to eliminate possibilities and reduce the size of the grid. It is best to test this with a constant number of samples. By the end of this we should have the best parameters for a specific classifier.\n",
        "\n",
        "\n",
        "**Train/Test Split and Cross Validation**\n",
        "\n",
        "It is important that we tune the hyperparameters only on training data as we are trying to stop overfitting from happening. To achieve this, while still having an unbiased model score when evaluating for best hyperparameters, we use CV on the training set to score hyperparameter settings.\n",
        "\n",
        "These are two rather important concepts in data science and data analysis. Given a set of parameters, CV helps us select the “Optimal” parameters based on the error rate of the classifier. These tools important tools to prevent (or at least minimize) overfitting of the model as using the entire parameter set results in the model tuning to the noise and outliers negatively affecting the overall prediction accuracy."
      ]
    },
    {
      "metadata": {
        "id": "_V2J79Q-75jY",
        "colab_type": "code",
        "colab": {}
      },
      "cell_type": "code",
      "source": [
        "def optimize_cv(model, X, y, parameter_space=dict(), n_samples=10, n_folds=3):  \n",
        "  # get best hyperparams through cross validation\n",
        "  print('----------------CV & HYPERPARAMETER SEARCH----------------')\n",
        "  \n",
        "  # set params & do parameter search with CV\n",
        "  n_grid_points = 1\n",
        "  for key, value in parameter_space.items():\n",
        "    n_grid_points *= len(value)\n",
        "  # reduce sample size if too large for amount of parameters\n",
        "  n_samples = min(n_samples,n_grid_points)\n",
        "  # do search\n",
        "  print('Doing sampled parameter search ('+str(n_samples)+' samples out of '+str(n_grid_points)+' grid-points) with CV ('+str(n_folds)+' folds)...',end='')\n",
        "  time_start = time.time()\n",
        "  clf_grid = RandomizedSearchCV(model, parameter_space, n_iter=n_samples,cv=n_folds, n_jobs=1)\n",
        "  clf_grid.fit(X, y)\n",
        "  time_grid_search = time.time()-time_start\n",
        "  print('done.', f_time(time_grid_search))\n",
        "  print('Avg per sample:', f_time(time_grid_search/n_samples))\n",
        "  \n",
        "  # print results\n",
        "  print('Score:', clf_grid.best_score_)\n",
        "  print('Parameters:', clf_grid.best_params_)\n",
        "  best_clf = clf_grid.best_estimator_\n",
        "  \n",
        "  # return best estimator\n",
        "  return best_clf"
      ],
      "execution_count": 0,
      "outputs": []
    },
    {
      "metadata": {
        "id": "4E4gALH-BbBJ",
        "colab_type": "text"
      },
      "cell_type": "markdown",
      "source": [
        "## 4.3 Final scoring of model"
      ]
    },
    {
      "metadata": {
        "id": "ZlhunUJZk2nV",
        "colab_type": "text"
      },
      "cell_type": "markdown",
      "source": [
        "We define a global dataframe that will be used for automatic score reporting using the name of the model being scored.\n",
        "This variable can then be accessed at the end of this notebook for evaluation purposes."
      ]
    },
    {
      "metadata": {
        "id": "jfu3WkZTlG3C",
        "colab_type": "code",
        "outputId": "71221a93-57d1-4aec-cf32-7d4270686426",
        "colab": {
          "base_uri": "https://localhost:8080/",
          "height": 47
        }
      },
      "cell_type": "code",
      "source": [
        "model_reports = pd.DataFrame(columns=['model_name','accuracy','avg_precision','avg_recall','avg_f1-score','time_fit','time_predict','classifier'])\n",
        "model_reports"
      ],
      "execution_count": 0,
      "outputs": [
        {
          "output_type": "execute_result",
          "data": {
            "text/html": [
              "<div>\n",
              "<style scoped>\n",
              "    .dataframe tbody tr th:only-of-type {\n",
              "        vertical-align: middle;\n",
              "    }\n",
              "\n",
              "    .dataframe tbody tr th {\n",
              "        vertical-align: top;\n",
              "    }\n",
              "\n",
              "    .dataframe thead th {\n",
              "        text-align: right;\n",
              "    }\n",
              "</style>\n",
              "<table border=\"1\" class=\"dataframe\">\n",
              "  <thead>\n",
              "    <tr style=\"text-align: right;\">\n",
              "      <th></th>\n",
              "      <th>model_name</th>\n",
              "      <th>accuracy</th>\n",
              "      <th>avg_precision</th>\n",
              "      <th>avg_recall</th>\n",
              "      <th>avg_f1-score</th>\n",
              "      <th>time_fit</th>\n",
              "      <th>time_predict</th>\n",
              "      <th>classifier</th>\n",
              "    </tr>\n",
              "  </thead>\n",
              "  <tbody>\n",
              "  </tbody>\n",
              "</table>\n",
              "</div>"
            ],
            "text/plain": [
              "Empty DataFrame\n",
              "Columns: [model_name, accuracy, avg_precision, avg_recall, avg_f1-score, time_fit, time_predict, classifier]\n",
              "Index: []"
            ]
          },
          "metadata": {
            "tags": []
          },
          "execution_count": 54
        }
      ]
    },
    {
      "metadata": {
        "id": "T1aHQj83F-Ox",
        "colab_type": "text"
      },
      "cell_type": "markdown",
      "source": [
        "The score report consists of the following categories which will be used to evaluvate the effectiveness of each classifier being tested.\n",
        "\n",
        "***Precision:***\n",
        "Precision is the amount of correct predictions from the total number of instances that were predicted to be of that class.\n",
        "\n",
        "***Recall:***\n",
        "Whereas Recall is defined as the amount of correct predictions made from the total number of correct predictions possible.\n",
        "\n",
        "![alt text](https://cdn-images-1.medium.com/max/800/1*7J08ekAwupLBegeUI8muHA.png)\n",
        "\n",
        "***F1-Score:***\n",
        "Summarizes the overall performance of a classifier.\n",
        "\n",
        "![alt text](https://cdn-images-1.medium.com/max/800/1*T6kVUKxG_Z4V5Fm1UXhEIw.png)\n",
        "\n",
        "Since as seen above, the distribution of classes can be uneven, F1 is much more useful than accuracy as it evaluvates the precision and recall of the classifier. F1 gives both of these an equal weight and provides a good balance between the two scoring metrics.\n",
        "\n",
        "***ROC-Curve:***\n",
        "An ROC curve (receiver operating characteristic curve) is a graph showing the performance of a classification model at all classification thresholds. This curve plots two parameters:\n",
        "* True Positive\n",
        "* False Positive\n",
        "\n",
        "As the ROC curve plots the true positive rate against the false positive rate, it is able to:\n",
        "* calculate accurately the probability of the model to be able to accurately classify an instance\n",
        "* based on the value obtained from AUC(Area under Curve) measure the number of correct and incorrect label predictions.\n",
        "\n",
        "Also due to the Clear visualisation of the curve ROC is a very useful metric for scoring a classifier model.\n",
        "\n",
        "**Scoring**\n",
        "\n",
        "After all parameters are fit using CV on only the training data. We retrain the models on the while training set and predict & score it using the test set (which is unseen at this point). As the train/test split will be the same for each model & hyperparameter tuning, eveluating all classifiers on this same, new dataset allows for objective comparisons of results."
      ]
    },
    {
      "metadata": {
        "id": "FYRASzc4-o4w",
        "colab_type": "code",
        "colab": {}
      },
      "cell_type": "code",
      "source": [
        "def score(clf, X_train, X_test, y_train, y_test, ROC = True):\n",
        "  print('----------------PERFORMANCE----------------')\n",
        "  # refit best model on whole training data\n",
        "  print('Refitting...',end='')\n",
        "  time_start = time.time()\n",
        "  clf.fit(X_train, y_train)\n",
        "  time_fit = time.time() - time_start\n",
        "  print('done.', f_time(time_fit))\n",
        "  \n",
        "  # predict test data & evaluate\n",
        "  print('Predicting...',end='')\n",
        "  time_start = time.time()\n",
        "  y_pred = clf.predict(X_test)\n",
        "  y_pred_p = clf.predict_proba(X_test)\n",
        "  time_predict = time.time() - time_start\n",
        "  print('done.', f_time(time_predict))\n",
        "  \n",
        "  # get information\n",
        "  model_name = type(clf).__name__\n",
        "\n",
        "  accuracy = accuracy_score(y_test, y_pred)\n",
        "  avg_precision = precision_score(y_test, y_pred, average='weighted')\n",
        "  avg_recall = recall_score(y_test, y_pred, average='weighted')\n",
        "  avg_f1_score = f1_score(y_test, y_pred, average='weighted')\n",
        "  row = {'model_name':model_name,'accuracy':accuracy,'avg_precision':avg_precision,'avg_recall':avg_recall,'avg_f1-score':avg_f1_score,'time_fit':time_fit,'time_predict':time_predict,'classifier':clf}\n",
        "  \n",
        "  # update report df\n",
        "  global model_reports\n",
        "  model_reports = model_reports[model_reports['model_name'] != model_name]\n",
        "  model_reports = model_reports.append(row, ignore_index=True)\n",
        "\n",
        "  # statistic report\n",
        "  print('Statistic Report:')\n",
        "  print(classification_report(y_test, y_pred))\n",
        "  \n",
        "  if ROC:\n",
        "  # ROC plot\n",
        "    skplt.metrics.plot_roc(y_test, y_pred_p,plot_micro=False,plot_macro=False,figsize=(6,6))\n",
        "    plt.show()"
      ],
      "execution_count": 0,
      "outputs": []
    },
    {
      "metadata": {
        "id": "oHNfcDTBE0Zp",
        "colab_type": "text"
      },
      "cell_type": "markdown",
      "source": [
        "# 5 Example model wrapper"
      ]
    },
    {
      "metadata": {
        "id": "1D8VCvSY3YfN",
        "colab_type": "text"
      },
      "cell_type": "markdown",
      "source": [
        "Here, the way to use the methods declared above, is shown using an example.\n",
        "\n",
        "This model is very general, and only very few things have to be tuned to change the interal classifier and add hyperparameters.\n",
        "This wrapper emulates all the functions a basic Scikit-learn classifier would have. As such, we are able to use it in our pipeline defined above.\n",
        "By defining the data transformation steps as hyperparameters, we able to cover a very large search space, with little to no effort, after once defining a model.\n",
        "\n",
        "Below we give an example of a model using Scikit-learn's Naive-Bayes Classifier. The way the example is set up, very little code has to change to switch to a different base mode, as the whole preprocessing options and hyperparameters can all stay the same.\n",
        "\n",
        "As these wrappers follow the default Scikit-learn classifier interface, more information on the structure and functions that are implemented here can be found in the official documentation. For even more information, [this tutorial](http://danielhnyk.cz/creating-your-own-estimator-scikit-learn/), in which the process of creating an estimator is described, can be looked at."
      ]
    },
    {
      "metadata": {
        "id": "afOm3-MITN68",
        "colab_type": "text"
      },
      "cell_type": "markdown",
      "source": [
        "## 5.1 Definition of a model/wrapper\n",
        "\n",
        "For our pipeline, we require each model to be implemented as a class with Scikit-learn like functionality. In particular, all of the functions described below need to be implemented."
      ]
    },
    {
      "metadata": {
        "id": "P8waLiP-Tgq2",
        "colab_type": "text"
      },
      "cell_type": "markdown",
      "source": [
        "### 5.1.1 \\_\\_init\\_\\_(...)\n",
        "\n",
        "This function is used to initialize a model. As such, all hyperparameters that should be available need to be added to the constructor. All of them are required to have a **default value**. In the example shown below, only basic hyperparamers for the preprocessing pipeline are used. When wanitng to support additional hyperparameters, these should be added to the method head (with default values) and should be **copied to local variables** for later use in the body."
      ]
    },
    {
      "metadata": {
        "id": "LrOaz3fNTkog",
        "colab_type": "text"
      },
      "cell_type": "markdown",
      "source": [
        "\n",
        "### 5.1.2 fit(...)\n",
        "This is the method in which any internal state that changes on training data should be computed and saved.\n",
        "That means, all vectorizers, models, etc. that need to be fit are initalized, fit, and saved to local variables here.\n",
        "These will later (in **predict(...)**) be used to acutally make predictions on new data.\n",
        "\n",
        "Specifically, we\n",
        "* first apply preprocesing based on hyperparameters\n",
        "* fit and save any vectorizers specified to the training data\n",
        "  (This is important to do here, as later refitting will change the input dimension and introduce overfitting) \n",
        "* fit the underlying model and pass hyperparameters for it  (this is not the case for our example)"
      ]
    },
    {
      "metadata": {
        "id": "93mBaYYjTnjU",
        "colab_type": "text"
      },
      "cell_type": "markdown",
      "source": [
        "### 5.1.3 predict(...)\n",
        "\n",
        "This function should predict categories for given data X. For doing this, it will apply any transformations/vectorizations that are turned on and then use the locally saved model that was computed saved in **fit(...)** to make predictions.\n",
        "\n"
      ]
    },
    {
      "metadata": {
        "id": "S86SfcNwTsfz",
        "colab_type": "text"
      },
      "cell_type": "markdown",
      "source": [
        "### 5.1.4 predict_proba(...)\n",
        "\n",
        "This method does the same as **predict(...)**, but returns probabilities for classes instead of the classes themselves."
      ]
    },
    {
      "metadata": {
        "id": "Fd9_bCJzatf9",
        "colab_type": "text"
      },
      "cell_type": "markdown",
      "source": [
        "### 5.1.5 (OPTIONAL) transform(...)\n",
        "We use this function in our example to apply further preprocessing to given data based on internal parameters set.\n",
        "This makes our code cleaner, as we would have to type this out 3 times, if we were to seperately include it in **fit(...), predict(...), and predict_proba(...)**."
      ]
    },
    {
      "metadata": {
        "id": "9D3YU9LTTxGx",
        "colab_type": "text"
      },
      "cell_type": "markdown",
      "source": [
        "## 5.2 Example implementation"
      ]
    },
    {
      "metadata": {
        "id": "n36aGoDMIz6a",
        "colab_type": "code",
        "colab": {}
      },
      "cell_type": "code",
      "source": [
        "class MyExampleClassifier(BaseEstimator, ClassifierMixin):  \n",
        "    \"\"\"Example Classifier\"\"\"\n",
        "\n",
        "    # this function is called to initialize a classifier\n",
        "    def __init__(self, _remove_stopwords=False, _remove_numbers=False, _replace_numbers=False,\n",
        "                 _lemmatize=False, _noun_tokens=False, _vectorizer_name='tf-idf', _vectorizer_min=1, _vectorizer_max=1.0, otherParam=None):\n",
        "        \"\"\"\n",
        "        Called when initializing the classifier. Initializes parameters.\n",
        "        \"\"\"\n",
        "        self._remove_stopwords=_remove_stopwords\n",
        "        self._remove_numbers=_remove_numbers\n",
        "        self._replace_numbers=_replace_numbers\n",
        "        self._lemmatize=_lemmatize\n",
        "        self._noun_tokens=_noun_tokens\n",
        "        self._vectorizer_name=_vectorizer_name\n",
        "        self._vectorizer_min=_vectorizer_min\n",
        "        self._vectorizer_max=_vectorizer_max\n",
        "\n",
        "    # function that fits this classifier to the given training set\n",
        "    def fit(self, X, y=None):\n",
        "        \"\"\"\n",
        "        Fits the classifier.\n",
        "        \"\"\"\n",
        "        # apply preprocessing data based on internal parameters\n",
        "        X_local = self.apply_preprocessing(X)\n",
        "        \n",
        "        # choose vectorizer based on hyperparameter \n",
        "        if(self._vectorizer_name == 'tf-idf'):\n",
        "          vectorizer = TfidfVectorizer(norm='l2', lowercase=False, min_df=self._vectorizer_min, max_df=self._vectorizer_max)\n",
        "        elif (self._vectorizer_name == 'count'):\n",
        "          vectorizer = CountVectorizer(lowercase=False, min_df=self._vectorizer_min, max_df=self._vectorizer_max)\n",
        "        else:\n",
        "          print(\"Warning, no vectorizer specified, defaulting to 'tf-idf'\")\n",
        "          vectorizer = TfidfVectorizer(norm='l2', lowercase=False, min_df=self._vectorizer_min, max_df=self._vectorizer_max)\n",
        "        # fit vectorizer on training data and transform that training data using it\n",
        "        doc_list = [' '.join(token_list) for token_list in X_local]\n",
        "        vectorized_matrix_array = vectorizer.fit_transform(doc_list).toarray()\n",
        "        feature_names = vectorizer.get_feature_names()\n",
        "        vectorized_matrix_df = pd.DataFrame(vectorized_matrix_array,columns=[feature_names])\n",
        "        # save model of vectorizer for later use\n",
        "        self._vectorizer = vectorizer\n",
        "         \n",
        "        # fit actual classifier\n",
        "        clf = MultinomialNB()                           \n",
        "        clf.fit(vectorized_matrix_df,y)    \n",
        "        self._clf = clf\n",
        "        \n",
        "        return self\n",
        "\n",
        "    def predict(self, X, y=None):\n",
        "        # apply preprocessing data based on internal parameters\n",
        "        X_local = self.apply_preprocessing(X)\n",
        "        \n",
        "        # transform X\n",
        "        doc_list = [' '.join(token_list) for token_list in X_local]\n",
        "        vectorized_matrix_array = self._vectorizer.transform(doc_list).toarray()\n",
        "        feature_names = self._vectorizer.get_feature_names()\n",
        "        vectorized_matrix_df = pd.DataFrame(vectorized_matrix_array,columns=[feature_names])\n",
        "        \n",
        "        # predict\n",
        "        y_pred = self._clf.predict(vectorized_matrix_df)\n",
        "        \n",
        "        return y_pred\n",
        "      \n",
        "    def predict_proba(self, X, y=None):\n",
        "        # apply preprocessing data based on internal parameters\n",
        "        X_local = self.apply_preprocessing(X)\n",
        "        \n",
        "        # transform X\n",
        "        doc_list = [' '.join(token_list) for token_list in X]\n",
        "        vectorized_matrix_array = self._vectorizer.transform(doc_list).toarray()\n",
        "        feature_names = self._vectorizer.get_feature_names()\n",
        "        vectorized_matrix_df = pd.DataFrame(vectorized_matrix_array,columns=[feature_names])\n",
        "        \n",
        "        # predict\n",
        "        y_pred = self._clf.predict_proba(vectorized_matrix_df)\n",
        "        \n",
        "        return y_pred\n",
        "      \n",
        "    def apply_preprocessing(self, X):\n",
        "        # make copies of data to not change the original\n",
        "        X_local = X.copy()\n",
        "        # apply further preprocessing\n",
        "        if self._remove_stopwords: X_local = X_local.apply(remove_stopwords)\n",
        "        if self._remove_numbers: X_local = X_local.apply(remove_numbers)\n",
        "        if self._replace_numbers: X_local = X_local.apply(replace_numbers)\n",
        "        if self._lemmatize: X_local = X_local.apply(lemmatization)\n",
        "        if self._noun_tokens: X_local = X_local.apply(noun_tokens)\n",
        "        return X_local"
      ],
      "execution_count": 0,
      "outputs": []
    },
    {
      "metadata": {
        "id": "GBTvXfmYcj2W",
        "colab_type": "text"
      },
      "cell_type": "markdown",
      "source": [
        "## 5.3 Example use"
      ]
    },
    {
      "metadata": {
        "id": "oMH5axnkhwoQ",
        "colab_type": "text"
      },
      "cell_type": "markdown",
      "source": [
        "We first load the (basic) preprocessed data, conveniently split into X, y and train, test respectively."
      ]
    },
    {
      "metadata": {
        "id": "mJs40SSMdCrW",
        "colab_type": "code",
        "colab": {}
      },
      "cell_type": "code",
      "source": [
        "X_train, X_test, y_train, y_test = get_preprocessed()"
      ],
      "execution_count": 0,
      "outputs": []
    },
    {
      "metadata": {
        "id": "Gz8TwAKTh-Q9",
        "colab_type": "text"
      },
      "cell_type": "markdown",
      "source": [
        "We can clearly see that preprocessing the data takes up the most amount of time.\n",
        "\n",
        "Next we define our parameter search space and call **optimize_cv** to find the best parameters & model using grid search and cross validation."
      ]
    },
    {
      "metadata": {
        "id": "m1LqX0cWd7nF",
        "colab_type": "code",
        "colab": {}
      },
      "cell_type": "code",
      "source": [
        "parameter_space = {'_remove_stopwords':[True,False], '_vectorizer_name':['tf-idf','count']}\n",
        "best_clf = optimize_cv(MyExampleClassifier(), X_train, y_train, parameter_space, n_samples=3, n_folds=2)"
      ],
      "execution_count": 0,
      "outputs": []
    },
    {
      "metadata": {
        "id": "o7GAHtvHiOQ_",
        "colab_type": "text"
      },
      "cell_type": "markdown",
      "source": [
        "Now we just call **score** on our model, providing train & test data to get a report of how our model faires on unseen data."
      ]
    },
    {
      "metadata": {
        "id": "Uwgl_BHbd-dQ",
        "colab_type": "code",
        "colab": {}
      },
      "cell_type": "code",
      "source": [
        "score(best_clf, X_train, X_test, y_train, y_test)"
      ],
      "execution_count": 0,
      "outputs": []
    },
    {
      "metadata": {
        "id": "pV1pwMTnm2BN",
        "colab_type": "code",
        "colab": {}
      },
      "cell_type": "code",
      "source": [
        "model_reports"
      ],
      "execution_count": 0,
      "outputs": []
    },
    {
      "metadata": {
        "id": "7Y90QYn0tffR",
        "colab_type": "text"
      },
      "cell_type": "markdown",
      "source": [
        "Clean up variables used, as this was only an example"
      ]
    },
    {
      "metadata": {
        "id": "h24OoNrYd_Ut",
        "colab_type": "code",
        "colab": {}
      },
      "cell_type": "code",
      "source": [
        "del(X_train)\n",
        "del(X_test)\n",
        "del(y_train)\n",
        "del(y_test)\n",
        "del(best_clf)\n",
        "model_reports = model_reports[model_reports['model_name'] != 'MyExampleClassifier']\n"
      ],
      "execution_count": 0,
      "outputs": []
    },
    {
      "metadata": {
        "id": "GphPNssejX9g",
        "colab_type": "text"
      },
      "cell_type": "markdown",
      "source": [
        "# 6 Models"
      ]
    },
    {
      "metadata": {
        "id": "UsU14QzRr-Mf",
        "colab_type": "text"
      },
      "cell_type": "markdown",
      "source": [
        "We aplit the data once, for all models, so that not any one model gets scored on a slightly harder/easier data split."
      ]
    },
    {
      "metadata": {
        "id": "HqmHEZfq5gb1",
        "colab_type": "code",
        "outputId": "87b56519-da55-4945-aad9-2084dcbfc296",
        "colab": {
          "base_uri": "https://localhost:8080/",
          "height": 52
        }
      },
      "cell_type": "code",
      "source": [
        "X_train, X_test, y_train, y_test = get_preprocessed()"
      ],
      "execution_count": 0,
      "outputs": [
        {
          "output_type": "stream",
          "text": [
            "Loading preprocessed data...done. (1.06s)\n",
            "Splitting data...done. (0.0s)\n"
          ],
          "name": "stdout"
        }
      ]
    },
    {
      "metadata": {
        "id": "DFk9TAwT47Ff",
        "colab_type": "text"
      },
      "cell_type": "markdown",
      "source": [
        "## 6.1 MultinomialNB"
      ]
    },
    {
      "metadata": {
        "id": "SL7EiQwr4tm4",
        "colab_type": "text"
      },
      "cell_type": "markdown",
      "source": [
        "\n",
        "Here we wrap the scikit-learn classifier **MultinomialNB()** in standard hyperparameter wrapper, add the hyperparameter 'alpha' and optimize hyperparameters. Finally we score the resulting model."
      ]
    },
    {
      "metadata": {
        "id": "wPfa4_pM5CCE",
        "colab_type": "text"
      },
      "cell_type": "markdown",
      "source": [
        "### 6.1.1 Model definition"
      ]
    },
    {
      "metadata": {
        "id": "pN2z6V325EN3",
        "colab_type": "code",
        "colab": {}
      },
      "cell_type": "code",
      "source": [
        "class MyMultinomialNB(BaseEstimator, ClassifierMixin):  \n",
        "    \"\"\"MultinomialNB Classifier\"\"\"\n",
        "\n",
        "    # this function is called to initialize a classifier\n",
        "    def __init__(self, _remove_stopwords=False, _remove_numbers=False, _replace_numbers=False,\n",
        "                 _lemmatize=False, _noun_tokens=False, _vectorizer_name='tf-idf', _vectorizer_min=1, _vectorizer_max=1.0, _alpha=1.0 ,otherParam=None):\n",
        "        \"\"\"\n",
        "        Called when initializing the classifier. Initializes parameters.\n",
        "        \"\"\"\n",
        "        self._remove_stopwords=_remove_stopwords\n",
        "        self._remove_numbers=_remove_numbers\n",
        "        self._replace_numbers=_replace_numbers\n",
        "        self._lemmatize=_lemmatize\n",
        "        self._noun_tokens=_noun_tokens\n",
        "        self._vectorizer_name=_vectorizer_name\n",
        "        self._vectorizer_min=_vectorizer_min\n",
        "        self._vectorizer_max=_vectorizer_max\n",
        "        self._alpha=_alpha\n",
        "\n",
        "    # function that fits this classifier to the given training set\n",
        "    def fit(self, X, y=None):\n",
        "        \"\"\"\n",
        "        Fits the classifier.\n",
        "        \"\"\"\n",
        "        # apply preprocessing data based on internal parameters\n",
        "        X_local = self.apply_preprocessing(X)\n",
        "        \n",
        "        # choose vectorizer based on hyperparameter \n",
        "        if(self._vectorizer_name == 'tf-idf'):\n",
        "          vectorizer = TfidfVectorizer(norm='l2', lowercase=False, min_df=self._vectorizer_min, max_df=self._vectorizer_max)\n",
        "        elif (self._vectorizer_name == 'count'):\n",
        "          vectorizer = CountVectorizer(lowercase=False, min_df=self._vectorizer_min, max_df=self._vectorizer_max)\n",
        "        else:\n",
        "          print(\"Warning, no vectorizer specified, defaulting to 'tf-idf'\")\n",
        "          vectorizer = TfidfVectorizer(norm='l2', lowercase=False, min_df=self._vectorizer_min, max_df=self._vectorizer_max)\n",
        "        # fit vectorizer on training data and transform that training data using it\n",
        "        doc_list = [' '.join(token_list) for token_list in X_local]\n",
        "        vectorized_matrix_array = vectorizer.fit_transform(doc_list).toarray()\n",
        "        feature_names = vectorizer.get_feature_names()\n",
        "        vectorized_matrix_df = pd.DataFrame(vectorized_matrix_array,columns=[feature_names])\n",
        "        # save model of vectorizer for later use\n",
        "        self._vectorizer = vectorizer\n",
        "         \n",
        "        # fit actual classifier\n",
        "        clf = MultinomialNB(self._alpha)                           \n",
        "        clf.fit(vectorized_matrix_df,y)    \n",
        "        self._clf = clf\n",
        "        \n",
        "        return self\n",
        "\n",
        "    def predict(self, X, y=None):\n",
        "        # apply preprocessing data based on internal parameters\n",
        "        X_local = self.apply_preprocessing(X)\n",
        "        \n",
        "        # transform X\n",
        "        doc_list = [' '.join(token_list) for token_list in X_local]\n",
        "        vectorized_matrix_array = self._vectorizer.transform(doc_list).toarray()\n",
        "        feature_names = self._vectorizer.get_feature_names()\n",
        "        vectorized_matrix_df = pd.DataFrame(vectorized_matrix_array,columns=[feature_names])\n",
        "        \n",
        "        # predict\n",
        "        y_pred = self._clf.predict(vectorized_matrix_df)\n",
        "        \n",
        "        return y_pred\n",
        "      \n",
        "    def predict_proba(self, X, y=None):\n",
        "        # apply preprocessing data based on internal parameters\n",
        "        X_local = self.apply_preprocessing(X)\n",
        "        \n",
        "        # transform X\n",
        "        doc_list = [' '.join(token_list) for token_list in X]\n",
        "        vectorized_matrix_array = self._vectorizer.transform(doc_list).toarray()\n",
        "        feature_names = self._vectorizer.get_feature_names()\n",
        "        vectorized_matrix_df = pd.DataFrame(vectorized_matrix_array,columns=[feature_names])\n",
        "        \n",
        "        # predict\n",
        "        y_pred = self._clf.predict_proba(vectorized_matrix_df)\n",
        "        \n",
        "        return y_pred\n",
        "      \n",
        "    def apply_preprocessing(self, X):\n",
        "        # make copies of data to not change the original\n",
        "        X_local = X.copy()\n",
        "        # apply further preprocessing\n",
        "        if self._remove_stopwords: X_local = X_local.apply(remove_stopwords)\n",
        "        if self._remove_numbers: X_local = X_local.apply(remove_numbers)\n",
        "        if self._replace_numbers: X_local = X_local.apply(replace_numbers)\n",
        "        if self._lemmatize: X_local = X_local.apply(lemmatization)\n",
        "        if self._noun_tokens: X_local = X_local.apply(noun_tokens)\n",
        "        return X_local"
      ],
      "execution_count": 0,
      "outputs": []
    },
    {
      "metadata": {
        "id": "S6BCPZin5w_v",
        "colab_type": "text"
      },
      "cell_type": "markdown",
      "source": [
        "### 6.1.2 Model tuning & evaluation"
      ]
    },
    {
      "metadata": {
        "id": "-czzJP1z5_Gf",
        "colab_type": "text"
      },
      "cell_type": "markdown",
      "source": [
        "Generic hyperparameters (for more information, see section **2 (ADVANCED) Data preprocessing**):\n",
        "* _remove_stopwords\n",
        "* _remove_numbers\n",
        "* _replace_numbers\n",
        "* _lemmatize\n",
        "* _noun_tokens\n",
        "* _vectorizer_name\n",
        "* _vectorizer_min\n",
        "* _vectorizer_max\n",
        "\n",
        "Specific hyperparameters for **MultinomialNB** that are used here:\n",
        "* _alpha -> Additive smoothing parameter (0 for no smoothing)\n",
        "\n",
        "**For finding hyperparameters, we do not simply used a naive grid search based approach. We randomly sample a reasonable hyperparameter space to slowly narrow it down to a good performing set of hyperparameters.**"
      ]
    },
    {
      "metadata": {
        "id": "4H9p_UWe51aU",
        "colab_type": "code",
        "outputId": "c3222a99-6d01-44e8-c2cf-ec31d7d3b3fe",
        "colab": {
          "base_uri": "https://localhost:8080/",
          "height": 125
        }
      },
      "cell_type": "code",
      "source": [
        "parameter_space = {'_remove_stopwords':[False],\n",
        "                   '_remove_numbers':[False],\n",
        "                   '_replace_numbers':[False],\n",
        "                   '_lemmatize':[True],\n",
        "                   '_noun_tokens':[False],\n",
        "                   '_vectorizer_name':['count'],\n",
        "                   '_vectorizer_min':[0.0012],\n",
        "                   '_vectorizer_max':[0.3],\n",
        "                   '_alpha':[0.05]}\n",
        "best_clf = optimize_cv(MyMultinomialNB(), X_train, y_train, parameter_space, n_samples=20, n_folds=3)"
      ],
      "execution_count": 0,
      "outputs": [
        {
          "output_type": "stream",
          "text": [
            "----------------CV & HYPERPARAMETER SEARCH----------------\n",
            "Doing sampled parameter search (1 samples out of 1 grid-points) with CV (3 folds)...done. (4.3s)\n",
            "Avg per sample: (4.3s)\n",
            "Score: 0.9686746987951808\n",
            "Parameters: {'_vectorizer_name': 'count', '_vectorizer_min': 0.0012, '_vectorizer_max': 0.3, '_replace_numbers': False, '_remove_stopwords': False, '_remove_numbers': False, '_noun_tokens': False, '_lemmatize': True, '_alpha': 0.05}\n"
          ],
          "name": "stdout"
        }
      ]
    },
    {
      "metadata": {
        "id": "jIkpUPC956YQ",
        "colab_type": "code",
        "outputId": "4a8634d3-03c1-422a-ec96-0ceef22d9bee",
        "colab": {
          "base_uri": "https://localhost:8080/",
          "height": 657
        }
      },
      "cell_type": "code",
      "source": [
        "score(best_clf, X_train, X_test, y_train, y_test)"
      ],
      "execution_count": 0,
      "outputs": [
        {
          "output_type": "stream",
          "text": [
            "----------------PERFORMANCE----------------\n",
            "Refitting...done. (0.63s)\n",
            "Predicting...done. (0.38s)\n",
            "Statistic Report:\n",
            "               precision    recall  f1-score   support\n",
            "\n",
            "     business       0.99      0.97      0.98        68\n",
            "entertainment       1.00      0.98      0.99        50\n",
            "     politics       0.97      1.00      0.99        71\n",
            "        sport       1.00      1.00      1.00        73\n",
            "         tech       0.96      0.96      0.96        50\n",
            "\n",
            "  avg / total       0.98      0.98      0.98       312\n",
            "\n"
          ],
          "name": "stdout"
        },
        {
          "output_type": "display_data",
          "data": {
            "image/png": "[encoded data removed]",
            "text/plain": [
              "<matplotlib.figure.Figure at 0x7f22684ecb38>"
            ]
          },
          "metadata": {
            "tags": []
          }
        }
      ]
    },
    {
      "metadata": {
        "colab_type": "text",
        "id": "jY0_9S7E_WvE"
      },
      "cell_type": "markdown",
      "source": [
        "## 6.2 DecisionTreeClassifier "
      ]
    },
    {
      "metadata": {
        "id": "OOiHHK4zlDug",
        "colab_type": "text"
      },
      "cell_type": "markdown",
      "source": [
        "**Classification trees**\n",
        "\n",
        "The representation of the CART model is a binary tree (each node can have zero, one or two child nodes).\n",
        "\n",
        "A node represents a singlefeature(X) and a split point on that variable, assuming the variable is numeric. The leaf nodes of the tree contain an outcome of the decision(y) which is used to make a prediction.\n",
        "\n",
        "\n",
        "**Classification**\n",
        "\n",
        "Entropy is the information gain of each attribute at each step in building the tree.\n",
        "The Gini cost function is used which provides an indication of how pure the nodes are, where node purity refers to how mixed the training data assigned to each node is.\n",
        "Splitting continues until nodes contain a minimum number of training examples or a maximum tree depth is reached."
      ]
    },
    {
      "metadata": {
        "id": "A98fS2ing053",
        "colab_type": "text"
      },
      "cell_type": "markdown",
      "source": [
        "### 6.2.1 Model definition\n",
        "Default number of leaves 1,\n",
        "Default Criteron Gini"
      ]
    },
    {
      "metadata": {
        "id": "Xlkn_nkHgcE2",
        "colab_type": "code",
        "colab": {}
      },
      "cell_type": "code",
      "source": [
        "class MyDecisionTreeClassifier(BaseEstimator, ClassifierMixin):  \n",
        "    \"\"\"Decision Tree Classifier based on Entropy and Gini Index Classification\"\"\"\n",
        "\n",
        "    # this function is called to initialize a classifier\n",
        "    def __init__(self, criterion='gini', min_samples_leaf=1, _remove_stopwords=False, _remove_numbers=False, _replace_numbers=False,\n",
        "                 _lemmatize=False, _noun_tokens=False, _vectorizer_name='tf-idf', _vectorizer_min=1, _vectorizer_max=1.0, otherParam=None):\n",
        "        \"\"\"\n",
        "        Called when initializing the classifier. Initializes parameters.\n",
        "        \"\"\"\n",
        "        self.criterion=criterion\n",
        "        self.min_samples_leaf=min_samples_leaf\n",
        "        self._remove_stopwords=_remove_stopwords\n",
        "        self._remove_numbers=_remove_numbers\n",
        "        self._replace_numbers=_replace_numbers\n",
        "        self._lemmatize=_lemmatize\n",
        "        self._noun_tokens=_noun_tokens\n",
        "        self._vectorizer_name=_vectorizer_name\n",
        "        self._vectorizer_min=_vectorizer_min\n",
        "        self._vectorizer_max=_vectorizer_max\n",
        "\n",
        "    # function that fits this classifier to the given training set\n",
        "    def fit(self, X, y=None):\n",
        "        \"\"\"\n",
        "        Fits the classifier.\n",
        "        \"\"\"\n",
        "        # apply preprocessing data based on internal parameters\n",
        "        X_local = self.apply_preprocessing(X)\n",
        "        \n",
        "        # choose vectorizer based on hyperparameter \n",
        "        if(self._vectorizer_name == 'tf-idf'):\n",
        "          vectorizer = TfidfVectorizer(norm='l2', lowercase=False, min_df=self._vectorizer_min, max_df=self._vectorizer_max)\n",
        "        elif (self._vectorizer_name == 'count'):\n",
        "          vectorizer = CountVectorizer(lowercase=False, min_df=self._vectorizer_min, max_df=self._vectorizer_max)\n",
        "        else:\n",
        "          print(\"Warning, no vectorizer specified, defaulting to 'tf-idf'\")\n",
        "          vectorizer = TfidfVectorizer(norm='l2', lowercase=False, min_df=self._vectorizer_min, max_df=self._vectorizer_max)\n",
        "        # fit vectorizer on training data and transform that training data using it\n",
        "        doc_list = [' '.join(token_list) for token_list in X_local]\n",
        "        vectorized_matrix_array = vectorizer.fit_transform(doc_list).toarray()\n",
        "        feature_names = vectorizer.get_feature_names()\n",
        "        vectorized_matrix_df = pd.DataFrame(vectorized_matrix_array,columns=[feature_names])\n",
        "        # save model of vectorizer for later use\n",
        "        self._vectorizer = vectorizer\n",
        "         \n",
        "        # fit actual classifier\n",
        "        clf = DecisionTreeClassifier(criterion=self.criterion, min_samples_leaf=self.min_samples_leaf)                           \n",
        "        clf.fit(vectorized_matrix_df,y)    \n",
        "        self._clf = clf\n",
        "        \n",
        "        return self\n",
        "\n",
        "    def predict(self, X, y=None):\n",
        "        # apply preprocessing data based on internal parameters\n",
        "        X_local = self.apply_preprocessing(X)\n",
        "        \n",
        "        # transform X\n",
        "        doc_list = [' '.join(token_list) for token_list in X_local]\n",
        "        vectorized_matrix_array = self._vectorizer.transform(doc_list).toarray()\n",
        "        feature_names = self._vectorizer.get_feature_names()\n",
        "        vectorized_matrix_df = pd.DataFrame(vectorized_matrix_array,columns=[feature_names])\n",
        "        \n",
        "        # predict\n",
        "        y_pred = self._clf.predict(vectorized_matrix_df)\n",
        "        \n",
        "        return y_pred\n",
        "      \n",
        "    def predict_proba(self, X, y=None):\n",
        "        # apply preprocessing data based on internal parameters\n",
        "        X_local = self.apply_preprocessing(X)\n",
        "        \n",
        "        # transform X\n",
        "        doc_list = [' '.join(token_list) for token_list in X]\n",
        "        vectorized_matrix_array = self._vectorizer.transform(doc_list).toarray()\n",
        "        feature_names = self._vectorizer.get_feature_names()\n",
        "        vectorized_matrix_df = pd.DataFrame(vectorized_matrix_array,columns=[feature_names])\n",
        "        \n",
        "        # predict\n",
        "        y_pred = self._clf.predict_proba(vectorized_matrix_df)\n",
        "        \n",
        "        return y_pred\n",
        "      \n",
        "    def apply_preprocessing(self, X):\n",
        "        # make copies of data to not change the original\n",
        "        X_local = X.copy()\n",
        "        # apply further preprocessing\n",
        "        if self._remove_stopwords: X_local = X_local.apply(remove_stopwords)\n",
        "        if self._remove_numbers: X_local = X_local.apply(remove_numbers)\n",
        "        if self._replace_numbers: X_local = X_local.apply(replace_numbers)\n",
        "        if self._lemmatize: X_local = X_local.apply(lemmatization)\n",
        "        if self._noun_tokens: X_local = X_local.apply(noun_tokens)\n",
        "        return X_local\n",
        "      \n"
      ],
      "execution_count": 0,
      "outputs": []
    },
    {
      "metadata": {
        "id": "EL6Wzs6DhTxj",
        "colab_type": "text"
      },
      "cell_type": "markdown",
      "source": [
        "### 6.2.2 Model tuning & evaluation"
      ]
    },
    {
      "metadata": {
        "id": "pEbeCe-BiAqC",
        "colab_type": "code",
        "outputId": "4b097787-da99-49fd-e2c6-fbbcf763d35e",
        "colab": {
          "base_uri": "https://localhost:8080/",
          "height": 125
        }
      },
      "cell_type": "code",
      "source": [
        "# Defining the Parameter space\n",
        "parameter_space = {'criterion':['entropy'], \n",
        "                   'min_samples_leaf':[3], \n",
        "                   '_vectorizer_name':['tf-idf'],\n",
        "                   '_vectorizer_min':[0.026],\n",
        "                   '_vectorizer_max':[0.275]}\n",
        "best_clf = optimize_cv(MyDecisionTreeClassifier(), X_train, y_train, parameter_space, n_samples=10, n_folds=3)"
      ],
      "execution_count": 0,
      "outputs": [
        {
          "output_type": "stream",
          "text": [
            "----------------CV & HYPERPARAMETER SEARCH----------------\n",
            "Doing sampled parameter search (1 samples out of 1 grid-points) with CV (3 folds)...done. (3.42s)\n",
            "Avg per sample: (3.42s)\n",
            "Score: 0.757429718875502\n",
            "Parameters: {'min_samples_leaf': 3, 'criterion': 'entropy', '_vectorizer_name': 'tf-idf', '_vectorizer_min': 0.026, '_vectorizer_max': 0.275}\n"
          ],
          "name": "stdout"
        }
      ]
    },
    {
      "metadata": {
        "id": "xcxMrotOhEqP",
        "colab_type": "code",
        "outputId": "43adc661-74c4-4a0a-b9a6-c71638bcb97f",
        "colab": {
          "base_uri": "https://localhost:8080/",
          "height": 677
        }
      },
      "cell_type": "code",
      "source": [
        "score(best_clf, X_train, X_test, y_train, y_test)"
      ],
      "execution_count": 0,
      "outputs": [
        {
          "output_type": "stream",
          "text": [
            "----------------PERFORMANCE----------------\n",
            "Refitting...done. (0.82s)\n",
            "Predicting...done. (0.17s)\n",
            "Statistic Report:\n",
            "               precision    recall  f1-score   support\n",
            "\n",
            "     business       0.69      0.69      0.69        68\n",
            "entertainment       0.82      0.80      0.81        50\n",
            "     politics       0.81      0.70      0.75        71\n",
            "        sport       0.82      0.92      0.86        73\n",
            "         tech       0.76      0.78      0.77        50\n",
            "\n",
            "  avg / total       0.78      0.78      0.78       312\n",
            "\n"
          ],
          "name": "stdout"
        },
        {
          "output_type": "display_data",
          "data": {
            "image/png": "[encoded data removed]",
            "text/plain": [
              "<matplotlib.figure.Figure at 0x7f22683f2da0>"
            ]
          },
          "metadata": {
            "tags": []
          }
        }
      ]
    },
    {
      "metadata": {
        "id": "DE1ja6P23uH6",
        "colab_type": "text"
      },
      "cell_type": "markdown",
      "source": [
        "Although decision trees mimic human level thinking, it is a **greedy model**, i.e makes the optimal decisin foreach step(using **entropy** - information gain of each feature at a split), instead of the global optimum.\n",
        "Another reason why the Decision tree model may not perform as well as the other models in this case is becuase decision trees perform better with smaller datasets as it is prone to **overfitting** with increasing sized datasets. This can be seen especially in the case of Descision tree classification based on Gini Index.\n",
        "\n",
        "**Gini impurity ** is a measure of how often a randomly chosen element from the set would be incorrectly labeled if it was randomly labeled according to the distribution of labels in the subset. If the distribution of the sample size increases, the impurity also rises, negatively affecting the classification accuracy of the tree.\n",
        "\n",
        "To obtain a deterministic behaviour during fitting, random_state has to be fixed and have set it to 1.\n",
        "From the testing done, NEVER use maximum depth to limit the further splitting of nodes. In other words : use the largest possible value, so that the Decision tree can model itself from the entire available dataset.\n",
        "\n",
        "**Minimum leafsize** is a limit to split a node when the number of observations in one of the child nodes is lower than the minimum leafsize. As we can see, between the choise of splitting as much as we can vs setting a minimum leaf size of 5( good rule of thumb), the setting of minimum leaf size ends up negatively affecting the classification accuracy of the model as we end up trimming the possible samples to explore and train the model on in the small dataset.(Even though overfitting may occur due to the large span of tree, the margin of error is bigger due to the trimming)"
      ]
    },
    {
      "metadata": {
        "id": "vImcOH4oNyaa",
        "colab_type": "text"
      },
      "cell_type": "markdown",
      "source": [
        "In all the following DT based classifiers, the Criterion is based on the **gini index** as it provides a better global oprimum when used at each split."
      ]
    },
    {
      "metadata": {
        "id": "uw3GWxRwA9bH",
        "colab_type": "text"
      },
      "cell_type": "markdown",
      "source": [
        "##6.3 RandomForestClassifier"
      ]
    },
    {
      "metadata": {
        "id": "l-8lwnco4xsX",
        "colab_type": "text"
      },
      "cell_type": "markdown",
      "source": [
        "\n",
        "A random forest implements a learning ensemble that fits a number of decision tree classifiers on various sub-samples of the dataset(bagging) and uses averaging by **Majority Voting** to improve the predictive accuracy and control over-fitting. \n",
        "\n",
        "The min_samples_leaf attribute helps to filter splits points which leave at least min_samples_leaf training samples in each of the left and right branches. In the case of these meta estimators, this has the effect of smoothing the model, especially in regression and is seen to improve the classification accuracy of the model, as it prevents the model from catering to all data(removing noise and outliers)."
      ]
    },
    {
      "metadata": {
        "id": "RTnzsQ-oSHGB",
        "colab_type": "text"
      },
      "cell_type": "markdown",
      "source": [
        "### 6.3.1 Model definition"
      ]
    },
    {
      "metadata": {
        "id": "jTMMnH1IBV4v",
        "colab_type": "code",
        "colab": {}
      },
      "cell_type": "code",
      "source": [
        "class MyRandomForestClassifier(BaseEstimator, ClassifierMixin):  \n",
        "    \"\"\"Example Classifier\"\"\"\n",
        "\n",
        "    # this function is called to initialize a classifier\n",
        "    def __init__(self, criterion='gini', min_samples_leaf = 5, _remove_stopwords=False, _remove_numbers=False, _replace_numbers=False,\n",
        "                 _lemmatize=False, _noun_tokens=False, _vectorizer_name='tf-idf', _vectorizer_min=1, _vectorizer_max=1.0, otherParam=None):\n",
        "        \"\"\"\n",
        "        Called when initializing the classifier. Initializes parameters.\n",
        "        \"\"\"\n",
        "        self.criterion=criterion\n",
        "        self.min_samples_leaf=min_samples_leaf\n",
        "        self._remove_stopwords=_remove_stopwords\n",
        "        self._remove_numbers=_remove_numbers\n",
        "        self._replace_numbers=_replace_numbers\n",
        "        self._lemmatize=_lemmatize\n",
        "        self._noun_tokens=_noun_tokens\n",
        "        self._vectorizer_name=_vectorizer_name\n",
        "        self._vectorizer_min=_vectorizer_min\n",
        "        self._vectorizer_max=_vectorizer_max\n",
        "\n",
        "    # function that fits this classifier to the given training set\n",
        "    def fit(self, X, y=None):\n",
        "        \"\"\"\n",
        "        Fits the classifier.\n",
        "        \"\"\"\n",
        "        # apply preprocessing data based on internal parameters\n",
        "        X_local = self.apply_preprocessing(X)\n",
        "        \n",
        "        # choose vectorizer based on hyperparameter \n",
        "        if(self._vectorizer_name == 'tf-idf'):\n",
        "          vectorizer = TfidfVectorizer(norm='l2', lowercase=False, min_df=self._vectorizer_min, max_df=self._vectorizer_max)\n",
        "        elif (self._vectorizer_name == 'count'):\n",
        "          vectorizer = CountVectorizer(lowercase=False, min_df=self._vectorizer_min, max_df=self._vectorizer_max)\n",
        "        else:\n",
        "          print(\"Warning, no vectorizer specified, defaulting to 'tf-idf'\")\n",
        "          vectorizer = TfidfVectorizer(norm='l2', lowercase=False, min_df=self._vectorizer_min, max_df=self._vectorizer_max)\n",
        "        # fit vectorizer on training data and transform that training data using it\n",
        "        doc_list = [' '.join(token_list) for token_list in X_local]\n",
        "        vectorized_matrix_array = vectorizer.fit_transform(doc_list).toarray()\n",
        "        feature_names = vectorizer.get_feature_names()\n",
        "        vectorized_matrix_df = pd.DataFrame(vectorized_matrix_array,columns=[feature_names])\n",
        "        # save model of vectorizer for later use\n",
        "        self._vectorizer = vectorizer\n",
        "         \n",
        "        # fit actual classifier\n",
        "        clf = RandomForestClassifier(criterion=self.criterion, min_samples_leaf=self.min_samples_leaf)                           \n",
        "        clf.fit(vectorized_matrix_df,y)    \n",
        "        self._clf = clf\n",
        "        \n",
        "        return self\n",
        "\n",
        "    def predict(self, X, y=None):\n",
        "        # apply preprocessing data based on internal parameters\n",
        "        X_local = self.apply_preprocessing(X)\n",
        "        \n",
        "        # transform X\n",
        "        doc_list = [' '.join(token_list) for token_list in X_local]\n",
        "        vectorized_matrix_array = self._vectorizer.transform(doc_list).toarray()\n",
        "        feature_names = self._vectorizer.get_feature_names()\n",
        "        vectorized_matrix_df = pd.DataFrame(vectorized_matrix_array,columns=[feature_names])\n",
        "        \n",
        "        # predict\n",
        "        y_pred = self._clf.predict(vectorized_matrix_df)\n",
        "        \n",
        "        return y_pred\n",
        "      \n",
        "    def predict_proba(self, X, y=None):\n",
        "        # apply preprocessing data based on internal parameters\n",
        "        X_local = self.apply_preprocessing(X)\n",
        "        \n",
        "        # transform X\n",
        "        doc_list = [' '.join(token_list) for token_list in X]\n",
        "        vectorized_matrix_array = self._vectorizer.transform(doc_list).toarray()\n",
        "        feature_names = self._vectorizer.get_feature_names()\n",
        "        vectorized_matrix_df = pd.DataFrame(vectorized_matrix_array,columns=[feature_names])\n",
        "        \n",
        "        # predict\n",
        "        y_pred = self._clf.predict_proba(vectorized_matrix_df)\n",
        "        \n",
        "        return y_pred\n",
        "      \n",
        "    def apply_preprocessing(self, X):\n",
        "        # make copies of data to not change the original\n",
        "        X_local = X.copy()\n",
        "        # apply further preprocessing\n",
        "        if self._remove_stopwords: X_local = X_local.apply(remove_stopwords)\n",
        "        if self._remove_numbers: X_local = X_local.apply(remove_numbers)\n",
        "        if self._replace_numbers: X_local = X_local.apply(replace_numbers)\n",
        "        if self._lemmatize: X_local = X_local.apply(lemmatization)\n",
        "        if self._noun_tokens: X_local = X_local.apply(noun_tokens)\n",
        "        return X_local"
      ],
      "execution_count": 0,
      "outputs": []
    },
    {
      "metadata": {
        "id": "o9sjpyifOCxi",
        "colab_type": "text"
      },
      "cell_type": "markdown",
      "source": [
        "### 6.3.2 Model tuning & evaluation"
      ]
    },
    {
      "metadata": {
        "id": "TF_alQ2LCJn6",
        "colab_type": "code",
        "outputId": "88805d33-ddfc-4d75-e01f-7a9fe1229804",
        "colab": {
          "base_uri": "https://localhost:8080/",
          "height": 125
        }
      },
      "cell_type": "code",
      "source": [
        "parameter_space = {'criterion':['gini'], \n",
        "                   'min_samples_leaf':[5], \n",
        "                   '_remove_stopwords':[False],\n",
        "                   '_remove_numbers':[False],\n",
        "                   '_replace_numbers':[False],\n",
        "                   '_lemmatize':[False],\n",
        "                   '_noun_tokens':[False],\n",
        "                   '_vectorizer_name':['tf-idf'],\n",
        "                   '_vectorizer_min':[0.005],\n",
        "                   '_vectorizer_max':[0.30]}\n",
        "best_clf = optimize_cv(MyRandomForestClassifier(), X_train, y_train, parameter_space, n_samples=10, n_folds=3)"
      ],
      "execution_count": 0,
      "outputs": [
        {
          "output_type": "stream",
          "text": [
            "----------------CV & HYPERPARAMETER SEARCH----------------\n",
            "Doing sampled parameter search (1 samples out of 1 grid-points) with CV (3 folds)...done. (2.88s)\n",
            "Avg per sample: (2.88s)\n",
            "Score: 0.9020080321285141\n",
            "Parameters: {'min_samples_leaf': 5, 'criterion': 'gini', '_vectorizer_name': 'tf-idf', '_vectorizer_min': 0.005, '_vectorizer_max': 0.3, '_replace_numbers': False, '_remove_stopwords': False, '_remove_numbers': False, '_noun_tokens': False, '_lemmatize': False}\n"
          ],
          "name": "stdout"
        }
      ]
    },
    {
      "metadata": {
        "id": "QSZfsYCS8d6O",
        "colab_type": "text"
      },
      "cell_type": "markdown",
      "source": [
        "**Remark**\n",
        "\n",
        "Random Forest works better on larger datasets than decision trees due to the bagging of data into random subsets.\n",
        "Also as expected the RandomForest classifier prefers setting the min lsample leaves at 5. This ensures that the span of the tree is kept to a minimum. This reduces Variance and avoids overfitting by voting.\n",
        "\n",
        "**Bagging**\n",
        "Data bagged into different random subsets not only by sample but by features, and each subset is trained on a random decision tree and tested on an out of bag set."
      ]
    },
    {
      "metadata": {
        "id": "FNYT85gNM5da",
        "colab_type": "text"
      },
      "cell_type": "markdown",
      "source": [
        "Always min sample leaf is 5\n",
        "min and max set\n",
        "random state for expected behaviour while tuning the hyper parameters"
      ]
    },
    {
      "metadata": {
        "id": "lK8peVfOOBXx",
        "colab_type": "code",
        "outputId": "97c77e53-834a-4301-ec02-76ebc2c6ced8",
        "colab": {
          "base_uri": "https://localhost:8080/",
          "height": 677
        }
      },
      "cell_type": "code",
      "source": [
        "score(best_clf, X_train, X_test, y_train, y_test)"
      ],
      "execution_count": 0,
      "outputs": [
        {
          "output_type": "stream",
          "text": [
            "----------------PERFORMANCE----------------\n",
            "Refitting...done. (0.57s)\n",
            "Predicting...done. (0.21s)\n",
            "Statistic Report:\n",
            "               precision    recall  f1-score   support\n",
            "\n",
            "     business       0.87      0.91      0.89        68\n",
            "entertainment       0.91      0.82      0.86        50\n",
            "     politics       0.93      0.94      0.94        71\n",
            "        sport       0.90      0.99      0.94        73\n",
            "         tech       0.95      0.84      0.89        50\n",
            "\n",
            "  avg / total       0.91      0.91      0.91       312\n",
            "\n"
          ],
          "name": "stdout"
        },
        {
          "output_type": "display_data",
          "data": {
            "image/png": "[encoded data removed]",
            "text/plain": [
              "<matplotlib.figure.Figure at 0x7f22686633c8>"
            ]
          },
          "metadata": {
            "tags": []
          }
        }
      ]
    },
    {
      "metadata": {
        "colab_type": "text",
        "id": "PVTJrDgeAH9U"
      },
      "cell_type": "markdown",
      "source": [
        "## 6.3 ExtraTreesClassifier"
      ]
    },
    {
      "metadata": {
        "id": "YZJqrK8_40BK",
        "colab_type": "text"
      },
      "cell_type": "markdown",
      "source": [
        "Like the Random tree Classifier, the ET Classifier implements a learning ensemble that fits a number of randomized decision trees (a.k.a. extra-trees) on various sub-samples of the dataset(bagging) and uses averaging by **Majority Voting** to improve the predictive accuracy and control over-fitting. \n",
        "\n",
        "The **main difference** between ET and random forest Classifiersr include:\n",
        "\n",
        "1) When choosing variables at a split, samples are drawn from the entire training set instead of just the bagged subset of the training set.\n",
        "\n",
        "2) Splits are chosen completely at random from the range of values in the sample at each split.\n",
        "\n",
        "This results in Extra Tree Classifiers being generally** cheaper to train **from a computational point of view but can grow much bigger, as they end up with more leaves(Possible overfitting)\n"
      ]
    },
    {
      "metadata": {
        "id": "KFv9K0ESPl3V",
        "colab_type": "text"
      },
      "cell_type": "markdown",
      "source": [
        "### 6.3.1 Model Defenition\n",
        "\n",
        "Default number of leaves 1,\n",
        "Default Criteron Gini"
      ]
    },
    {
      "metadata": {
        "id": "zK-Fs4wQPepw",
        "colab_type": "code",
        "colab": {}
      },
      "cell_type": "code",
      "source": [
        "class MyExtraTreesClassifier(BaseEstimator, ClassifierMixin):  \n",
        "    \"\"\"Example Classifier\"\"\"\n",
        "\n",
        "    # this function is called to initialize a classifier\n",
        "    def __init__(self, criterion='gini', min_samples_leaf = 1, _remove_stopwords=False, _remove_numbers=False, _replace_numbers=False,\n",
        "                 _lemmatize=False, _noun_tokens=False, _vectorizer_name='tf-idf', _vectorizer_min=1, _vectorizer_max=1.0, otherParam=None):\n",
        "        \"\"\"\n",
        "        Called when initializing the classifier. Initializes parameters.\n",
        "        \"\"\"\n",
        "        self.criterion=criterion\n",
        "        self.min_samples_leaf=min_samples_leaf\n",
        "        self._remove_stopwords=_remove_stopwords\n",
        "        self._remove_numbers=_remove_numbers\n",
        "        self._replace_numbers=_replace_numbers\n",
        "        self._lemmatize=_lemmatize\n",
        "        self._noun_tokens=_noun_tokens\n",
        "        self._vectorizer_name=_vectorizer_name\n",
        "        self._vectorizer_min=_vectorizer_min\n",
        "        self._vectorizer_max=_vectorizer_max\n",
        "\n",
        "    # function that fits this classifier to the given training set\n",
        "    def fit(self, X, y=None):\n",
        "        \"\"\"\n",
        "        Fits the classifier.\n",
        "        \"\"\"\n",
        "        # apply preprocessing data based on internal parameters\n",
        "        X_local = self.apply_preprocessing(X)\n",
        "        \n",
        "        # choose vectorizer based on hyperparameter \n",
        "        if(self._vectorizer_name == 'tf-idf'):\n",
        "          vectorizer = TfidfVectorizer(norm='l2', lowercase=False, min_df=self._vectorizer_min, max_df=self._vectorizer_max)\n",
        "        elif (self._vectorizer_name == 'count'):\n",
        "          vectorizer = CountVectorizer(lowercase=False, min_df=self._vectorizer_min, max_df=self._vectorizer_max)\n",
        "        else:\n",
        "          print(\"Warning, no vectorizer specified, defaulting to 'tf-idf'\")\n",
        "          vectorizer = TfidfVectorizer(norm='l2', lowercase=False, min_df=self._vectorizer_min, max_df=self._vectorizer_max)\n",
        "        # fit vectorizer on training data and transform that training data using it\n",
        "        doc_list = [' '.join(token_list) for token_list in X_local]\n",
        "        vectorized_matrix_array = vectorizer.fit_transform(doc_list).toarray()\n",
        "        feature_names = vectorizer.get_feature_names()\n",
        "        vectorized_matrix_df = pd.DataFrame(vectorized_matrix_array,columns=[feature_names])\n",
        "        # save model of vectorizer for later use\n",
        "        self._vectorizer = vectorizer\n",
        "         \n",
        "        # fit actual classifier\n",
        "        clf = ExtraTreesClassifier(criterion=self.criterion, min_samples_leaf=self.min_samples_leaf)                           \n",
        "        clf.fit(vectorized_matrix_df,y)    \n",
        "        self._clf = clf\n",
        "        \n",
        "        return self\n",
        "\n",
        "    def predict(self, X, y=None):\n",
        "        # apply preprocessing data based on internal parameters\n",
        "        X_local = self.apply_preprocessing(X)\n",
        "        \n",
        "        # transform X\n",
        "        doc_list = [' '.join(token_list) for token_list in X_local]\n",
        "        vectorized_matrix_array = self._vectorizer.transform(doc_list).toarray()\n",
        "        feature_names = self._vectorizer.get_feature_names()\n",
        "        vectorized_matrix_df = pd.DataFrame(vectorized_matrix_array,columns=[feature_names])\n",
        "        \n",
        "        # predict\n",
        "        y_pred = self._clf.predict(vectorized_matrix_df)\n",
        "        \n",
        "        return y_pred\n",
        "      \n",
        "    def predict_proba(self, X, y=None):\n",
        "        # apply preprocessing data based on internal parameters\n",
        "        X_local = self.apply_preprocessing(X)\n",
        "        \n",
        "        # transform X\n",
        "        doc_list = [' '.join(token_list) for token_list in X]\n",
        "        vectorized_matrix_array = self._vectorizer.transform(doc_list).toarray()\n",
        "        feature_names = self._vectorizer.get_feature_names()\n",
        "        vectorized_matrix_df = pd.DataFrame(vectorized_matrix_array,columns=[feature_names])\n",
        "        \n",
        "        # predict\n",
        "        y_pred = self._clf.predict_proba(vectorized_matrix_df)\n",
        "        \n",
        "        return y_pred\n",
        "      \n",
        "    def apply_preprocessing(self, X):\n",
        "        # make copies of data to not change the original\n",
        "        X_local = X.copy()\n",
        "        # apply further preprocessing\n",
        "        if self._remove_stopwords: X_local = X_local.apply(remove_stopwords)\n",
        "        if self._remove_numbers: X_local = X_local.apply(remove_numbers)\n",
        "        if self._replace_numbers: X_local = X_local.apply(replace_numbers)\n",
        "        if self._lemmatize: X_local = X_local.apply(lemmatization)\n",
        "        if self._noun_tokens: X_local = X_local.apply(noun_tokens)\n",
        "        return X_local"
      ],
      "execution_count": 0,
      "outputs": []
    },
    {
      "metadata": {
        "id": "6QNV-PtlOVqL",
        "colab_type": "text"
      },
      "cell_type": "markdown",
      "source": [
        "#### 6.3.1.2 Model tuning & evaluation"
      ]
    },
    {
      "metadata": {
        "id": "Nt80RIj8QLNT",
        "colab_type": "code",
        "outputId": "23b96a32-8064-49a1-e943-e68f4939d5dd",
        "colab": {
          "base_uri": "https://localhost:8080/",
          "height": 125
        }
      },
      "cell_type": "code",
      "source": [
        "parameter_space = {'criterion':['gini'], \n",
        "                   'min_samples_leaf':[1],\n",
        "                   '_lemmatize':[True],\n",
        "                   '_vectorizer_name':['tf-idf'],\n",
        "                   '_vectorizer_min':[0.0075],\n",
        "                   '_vectorizer_max':[0.30]}\n",
        "best_clf = optimize_cv(MyExtraTreesClassifier(), X_train, y_train, parameter_space, n_samples=10, n_folds=3)"
      ],
      "execution_count": 0,
      "outputs": [
        {
          "output_type": "stream",
          "text": [
            "----------------CV & HYPERPARAMETER SEARCH----------------\n",
            "Doing sampled parameter search (1 samples out of 1 grid-points) with CV (3 folds)...done. (3.41s)\n",
            "Avg per sample: (3.41s)\n",
            "Score: 0.9028112449799197\n",
            "Parameters: {'min_samples_leaf': 1, 'criterion': 'gini', '_vectorizer_name': 'tf-idf', '_vectorizer_min': 0.0075, '_vectorizer_max': 0.3, '_lemmatize': True}\n"
          ],
          "name": "stdout"
        }
      ]
    },
    {
      "metadata": {
        "id": "OLlEoWEXOYJT",
        "colab_type": "text"
      },
      "cell_type": "markdown",
      "source": [
        "**Remark**\n",
        "Since Unlike Random forest, samples are choosen at splits from the entire dataset, the classifier prefers to have the minimum leaves to be set at 1 to be able to sample as much of the dataset as possible. Even though some overfitting may occur, the margin of error is smaller when compared to the classifier accuracy when the sample space is pruned by setting the Minimum leaves to be = 5."
      ]
    },
    {
      "metadata": {
        "id": "ZA6QxmlpOaW4",
        "colab_type": "code",
        "outputId": "05f1f850-d2c7-4d83-dc5c-d458ea238dce",
        "colab": {
          "base_uri": "https://localhost:8080/",
          "height": 677
        }
      },
      "cell_type": "code",
      "source": [
        "score(best_clf, X_train, X_test, y_train, y_test)"
      ],
      "execution_count": 0,
      "outputs": [
        {
          "output_type": "stream",
          "text": [
            "----------------PERFORMANCE----------------\n",
            "Refitting...done. (0.69s)\n",
            "Predicting...done. (0.24s)\n",
            "Statistic Report:\n",
            "               precision    recall  f1-score   support\n",
            "\n",
            "     business       0.88      0.97      0.92        68\n",
            "entertainment       0.94      0.88      0.91        50\n",
            "     politics       0.95      0.85      0.90        71\n",
            "        sport       0.92      1.00      0.96        73\n",
            "         tech       0.90      0.86      0.88        50\n",
            "\n",
            "  avg / total       0.92      0.92      0.92       312\n",
            "\n"
          ],
          "name": "stdout"
        },
        {
          "output_type": "display_data",
          "data": {
            "image/png": "[encoded data removed]",
            "text/plain": [
              "<matplotlib.figure.Figure at 0x7f2267bdc198>"
            ]
          },
          "metadata": {
            "tags": []
          }
        }
      ]
    },
    {
      "metadata": {
        "id": "v7-fArReoNLU",
        "colab_type": "text"
      },
      "cell_type": "markdown",
      "source": [
        "## 6.4 Support Vector Machine"
      ]
    },
    {
      "metadata": {
        "id": "6OMdqptoqyn1",
        "colab_type": "text"
      },
      "cell_type": "markdown",
      "source": [
        "### 6.4.1 Model definition"
      ]
    },
    {
      "metadata": {
        "id": "ao5fewXoo761",
        "colab_type": "text"
      },
      "cell_type": "markdown",
      "source": [
        "This model is the SVM which is also a  scikit-learn clalssifier. **Linear SVC** which noremally returns the best fit hyperplane to categorise our dataset, in this case however the main concern is the accuracy of the classification of our dataset.\n",
        "\n",
        "Under the wider tree of SVM **kernel** methods are a class of algorithms for pattern analysis. This would be the main parameter for any SVM model. Since we are using Linear SCV, the kernel therefore by default is linear. \n",
        "\n",
        "Linear SVC has more flexibility in the choice of penalties and loss functions and scales better to large numbers of samples.\n",
        "\n"
      ]
    },
    {
      "metadata": {
        "id": "2lfojE-1z_BV",
        "colab_type": "text"
      },
      "cell_type": "markdown",
      "source": [
        "For linear kernel the equation for prediction for a new input using the dot product between the input (x) and each support vector (xi) is calculated as follows:\n",
        "\n",
        "**f(x) = B(0) + sum(ai * (x,xi))**\n",
        "\n",
        "This is an equation that involves calculating the inner products of a new input vector (x) with all support vectors in training data. The coefficients B0 and ai (for each input) must be estimated from the training data by the learning algorithm."
      ]
    },
    {
      "metadata": {
        "id": "sKOPas8vothd",
        "colab_type": "code",
        "colab": {}
      },
      "cell_type": "code",
      "source": [
        "class MySVM(BaseEstimator, ClassifierMixin):\n",
        "    \"\"\"SVM Classifier\"\"\"\n",
        "\n",
        "    # this function is called to initialize a classifier\n",
        "    def __init__(self, _remove_stopwords=False, _remove_numbers=False, _replace_numbers=False,\n",
        "                 _lemmatize=False, _noun_tokens=False, _vectorizer_name='tf-idf', _vectorizer_min=1, _vectorizer_max=1.0 ,otherParam=None):\n",
        "        \"\"\"\n",
        "        Called when initializing the classifier. Initializes parameters.\n",
        "        \"\"\"\n",
        "        self._remove_stopwords=_remove_stopwords\n",
        "        self._remove_numbers=_remove_numbers\n",
        "        self._replace_numbers=_replace_numbers\n",
        "        self._lemmatize=_lemmatize\n",
        "        self._noun_tokens=_noun_tokens\n",
        "        self._vectorizer_name=_vectorizer_name\n",
        "        self._vectorizer_min=_vectorizer_min\n",
        "        self._vectorizer_max=_vectorizer_max\n",
        "\n",
        "    # function that fits this classifier to the given training set\n",
        "    def fit(self, X, y=None):\n",
        "        \"\"\"\n",
        "        Fits the classifier.\n",
        "        \"\"\"\n",
        "        # apply preprocessing data based on internal parameters\n",
        "        X_local = self.apply_preprocessing(X)\n",
        "\n",
        "        # choose vectorizer based on hyperparameter\n",
        "        if(self._vectorizer_name == 'tf-idf'):\n",
        "          vectorizer = TfidfVectorizer(norm='l2', lowercase=False, min_df=self._vectorizer_min, max_df=self._vectorizer_max)\n",
        "        elif (self._vectorizer_name == 'count'):\n",
        "          vectorizer = CountVectorizer(lowercase=False, min_df=self._vectorizer_min, max_df=self._vectorizer_max)\n",
        "        else:\n",
        "          print(\"Warning, no vectorizer specified, defaulting to 'tf-idf'\")\n",
        "          vectorizer = TfidfVectorizer(norm='l2', lowercase=False, min_df=self._vectorizer_min, max_df=self._vectorizer_max)\n",
        "        # fit vectorizer on training data and transform that training data using it\n",
        "        doc_list = [' '.join(token_list) for token_list in X_local]\n",
        "        vectorized_matrix_array = vectorizer.fit_transform(doc_list).toarray()\n",
        "        feature_names = vectorizer.get_feature_names()\n",
        "        vectorized_matrix_df = pd.DataFrame(vectorized_matrix_array,columns=[feature_names])\n",
        "        # save model of vectorizer for later use\n",
        "        self._vectorizer = vectorizer\n",
        "\n",
        "        # fit actual classifier\n",
        "        clf = LinearSVC()\n",
        "        clf.fit(vectorized_matrix_df,y)\n",
        "        self._clf = clf\n",
        "\n",
        "        return self\n",
        "\n",
        "    def predict(self, X, y=None):\n",
        "        # apply preprocessing data based on internal parameters\n",
        "        X_local = self.apply_preprocessing(X)\n",
        "\n",
        "        # transform X\n",
        "        doc_list = [' '.join(token_list) for token_list in X_local]\n",
        "        vectorized_matrix_array = self._vectorizer.transform(doc_list).toarray()\n",
        "        feature_names = self._vectorizer.get_feature_names()\n",
        "        vectorized_matrix_df = pd.DataFrame(vectorized_matrix_array,columns=[feature_names])\n",
        "\n",
        "        # predict\n",
        "        y_pred = self._clf.predict(vectorized_matrix_df)\n",
        "\n",
        "        return y_pred\n",
        "\n",
        "    def predict_proba(self, X, y=None):\n",
        "        # apply preprocessing data based on internal parameters\n",
        "        X_local = self.apply_preprocessing(X)\n",
        "\n",
        "        # transform X\n",
        "        doc_list = [' '.join(token_list) for token_list in X]\n",
        "        vectorized_matrix_array = self._vectorizer.transform(doc_list).toarray()\n",
        "        feature_names = self._vectorizer.get_feature_names()\n",
        "        vectorized_matrix_df = pd.DataFrame(vectorized_matrix_array,columns=[feature_names])\n",
        "\n",
        "        # predict\n",
        "        y_pred = self._clf.predict(vectorized_matrix_df)\n",
        "\n",
        "        return y_pred\n",
        "\n",
        "    def apply_preprocessing(self, X):\n",
        "        # make copies of data to not change the original\n",
        "        X_local = X.copy()\n",
        "        # apply further preprocessing\n",
        "        if self._remove_stopwords: X_local = X_local.apply(remove_stopwords)\n",
        "        if self._remove_numbers: X_local = X_local.apply(remove_numbers)\n",
        "        if self._replace_numbers: X_local = X_local.apply(replace_numbers)\n",
        "        if self._lemmatize: X_local = X_local.apply(lemmatization)\n",
        "        if self._noun_tokens: X_local = X_local.apply(noun_tokens)\n",
        "        return X_local\n"
      ],
      "execution_count": 0,
      "outputs": []
    },
    {
      "metadata": {
        "id": "62NhcknNuDr3",
        "colab_type": "text"
      },
      "cell_type": "markdown",
      "source": [
        "###  6.4.2 Model tunning & evaluation"
      ]
    },
    {
      "metadata": {
        "id": "Lj9FP_hnurIQ",
        "colab_type": "text"
      },
      "cell_type": "markdown",
      "source": [
        "For this model we decided against changing any of the hyperparametres and we ended up with a relatively high accuracy score by leaving the parametres defaulted"
      ]
    },
    {
      "metadata": {
        "id": "9rp5acxB7PMf",
        "colab_type": "code",
        "outputId": "ea70244a-1132-4c41-ba5b-34585082cc90",
        "colab": {
          "base_uri": "https://localhost:8080/",
          "height": 125
        }
      },
      "cell_type": "code",
      "source": [
        "best_clf = optimize_cv(MySVM(), X_train, y_train, dict(), n_samples=20, n_folds=3)"
      ],
      "execution_count": 0,
      "outputs": [
        {
          "output_type": "stream",
          "text": [
            "----------------CV & HYPERPARAMETER SEARCH----------------\n",
            "Doing sampled parameter search (1 samples out of 1 grid-points) with CV (3 folds)...done. (4.36s)\n",
            "Avg per sample: (4.36s)\n",
            "Score: 0.9718875502008032\n",
            "Parameters: {}\n"
          ],
          "name": "stdout"
        }
      ]
    },
    {
      "metadata": {
        "id": "k-LuWQWF7q0n",
        "colab_type": "code",
        "outputId": "62c979d9-9370-4eea-8f16-27356db23d4f",
        "colab": {
          "base_uri": "https://localhost:8080/",
          "height": 285
        }
      },
      "cell_type": "code",
      "source": [
        "score(best_clf, X_train, X_test, y_train, y_test, False)"
      ],
      "execution_count": 0,
      "outputs": [
        {
          "output_type": "stream",
          "text": [
            "----------------PERFORMANCE----------------\n",
            "Refitting...done. (0.79s)\n",
            "Predicting...done. (0.42s)\n",
            "Statistic Report:\n",
            "               precision    recall  f1-score   support\n",
            "\n",
            "     business       0.98      0.96      0.97        68\n",
            "entertainment       0.96      0.98      0.97        50\n",
            "     politics       0.97      1.00      0.99        71\n",
            "        sport       1.00      1.00      1.00        73\n",
            "         tech       0.96      0.94      0.95        50\n",
            "\n",
            "  avg / total       0.98      0.98      0.98       312\n",
            "\n"
          ],
          "name": "stdout"
        }
      ]
    },
    {
      "metadata": {
        "id": "Lp0EWyv10Y8k",
        "colab_type": "text"
      },
      "cell_type": "markdown",
      "source": [
        "## 6.5 SimpleDenseNN\n"
      ]
    },
    {
      "metadata": {
        "id": "013Y8WuAVwmD",
        "colab_type": "text"
      },
      "cell_type": "markdown",
      "source": [
        "### 6.*5*.1 Model definition"
      ]
    },
    {
      "metadata": {
        "id": "39rYHAYD0aUZ",
        "colab_type": "code",
        "colab": {}
      },
      "cell_type": "code",
      "source": [
        "def baseline_model(vectorized_matrix_df,y):\n",
        "    model = Sequential()\n",
        "    model.add(Dense(8,input_dim=vectorized_matrix_df.shape[1],activation='relu'))\n",
        "    model.add(Dense(y.shape[1],activation='softmax'))\n",
        "    model.compile(loss='categorical_crossentropy', optimizer='adam', metrics=['accuracy'])\n",
        "\n",
        "    return model\n",
        "\n",
        "class MySimpleDenseNN(BaseEstimator, ClassifierMixin):  \n",
        "    \"\"\"Example Classifier\"\"\"\n",
        "\n",
        "    # this function is called to initialize a classifier\n",
        "    def __init__(self, _remove_stopwords=False, _remove_numbers=False, _replace_numbers=False,\n",
        "                 _lemmatize=False, _noun_tokens=False, _vectorizer_name='tf-idf', _vectorizer_min=1, _vectorizer_max=1.0, otherParam=None):\n",
        "        \"\"\"\n",
        "        Called when initializing the classifier. Initializes parameters.\n",
        "        \"\"\"\n",
        "        self._remove_stopwords=_remove_stopwords\n",
        "        self._remove_numbers=_remove_numbers\n",
        "        self._replace_numbers=_replace_numbers\n",
        "        self._lemmatize=_lemmatize\n",
        "        self._noun_tokens=_noun_tokens\n",
        "        self._vectorizer_name=_vectorizer_name\n",
        "        self._vectorizer_min=_vectorizer_min\n",
        "        self._vectorizer_max=_vectorizer_max\n",
        "        self._vectorizer = None\n",
        "        self._label_encoder = preprocessing.LabelEncoder()\n",
        "\n",
        "    # function that fits this classifier to the given training set\n",
        "    def fit(self, X, y=None):\n",
        "        \"\"\"\n",
        "        Fits the classifier.\n",
        "        \"\"\"\n",
        "        # apply preprocessing data based on internal parameters\n",
        "        X_local = self.apply_preprocessing(X)\n",
        "        \n",
        "        # fit & transform X\n",
        "        # choose vectorizer based on hyperparameter \n",
        "        if(self._vectorizer_name == 'tf-idf'):\n",
        "          vectorizer = TfidfVectorizer(norm='l2', lowercase=False, min_df=self._vectorizer_min, max_df=self._vectorizer_max)\n",
        "        elif (self._vectorizer_name == 'count'):\n",
        "          vectorizer = CountVectorizer(lowercase=False, min_df=self._vectorizer_min, max_df=self._vectorizer_max)\n",
        "        else:\n",
        "          print(\"Warning, no vectorizer specified, defaulting to 'tf-idf'\")\n",
        "          vectorizer = TfidfVectorizer(norm='l2', lowercase=False, min_df=self._vectorizer_min, max_df=self._vectorizer_max)\n",
        "        # fit vectorizer on training data and transform that training data using it\n",
        "        doc_list = [' '.join(token_list) for token_list in X_local]\n",
        "        vectorized_matrix_array = vectorizer.fit_transform(doc_list).toarray()\n",
        "        feature_names = vectorizer.get_feature_names()\n",
        "        vectorized_matrix_df = pd.DataFrame(vectorized_matrix_array,columns=[feature_names])\n",
        "        # save model of vectorizer for later use\n",
        "        self._vectorizer = vectorizer\n",
        "        \n",
        "        # fit & transform y\n",
        "        y_local = y.copy()\n",
        "        y_local = self._label_encoder.fit_transform(y_local)\n",
        "        # save label encoder for later use\n",
        "        y_local = to_categorical(y_local)\n",
        "        # fit actual classifier\n",
        "        clf = baseline_model(vectorized_matrix_df,y_local)                           \n",
        "        clf.fit(vectorized_matrix_df,y_local,verbose=0,epochs=30)    \n",
        "        self._clf = clf\n",
        "        \n",
        "        return self\n",
        "\n",
        "    def predict(self, X, y=None):\n",
        "        # apply preprocessing data based on internal parameters\n",
        "        X_local = self.apply_preprocessing(X)\n",
        "        \n",
        "        # transform X\n",
        "        doc_list = [' '.join(token_list) for token_list in X_local]\n",
        "        vectorized_matrix_array = self._vectorizer.transform(doc_list).toarray()\n",
        "        feature_names = self._vectorizer.get_feature_names()\n",
        "        vectorized_matrix_df = pd.DataFrame(vectorized_matrix_array,columns=[feature_names])\n",
        "        \n",
        "        y_pred = self._clf.predict(vectorized_matrix_df)\n",
        "        y_pred = y_pred.argmax(1)\n",
        "        y_pred = self._label_encoder.inverse_transform(y_pred)\n",
        "\n",
        "        return y_pred\n",
        "\n",
        "    def predict_proba(self, X, y=None):\n",
        "        # apply preprocessing data based on internal parameters\n",
        "        X_local = self.apply_preprocessing(X)\n",
        "        \n",
        "        # transform X\n",
        "        doc_list = [' '.join(token_list) for token_list in X]\n",
        "        vectorized_matrix_array = self._vectorizer.transform(doc_list).toarray()\n",
        "        feature_names = self._vectorizer.get_feature_names()\n",
        "        vectorized_matrix_df = pd.DataFrame(vectorized_matrix_array,columns=[feature_names])\n",
        "        \n",
        "        y_pred = self._clf.predict_proba(vectorized_matrix_df)\n",
        "        \n",
        "        y_pred = self._clf.predict(vectorized_matrix_df)\n",
        "        y_pred = y_pred.argmax(1)\n",
        "        y_pred = self._label_encoder.inverse_transform(y_pred)\n",
        "        \n",
        "        return y_pred\n",
        "      \n",
        "    def apply_preprocessing(self, X):\n",
        "        # make copies of data to not change the original\n",
        "        X_local = X.copy()\n",
        "        # apply further preprocessing\n",
        "        if self._remove_stopwords: X_local = X_local.apply(remove_stopwords)\n",
        "        if self._remove_numbers: X_local = X_local.apply(remove_numbers)\n",
        "        if self._replace_numbers: X_local = X_local.apply(replace_numbers)\n",
        "        if self._lemmatize: X_local = X_local.apply(lemmatization)\n",
        "        if self._noun_tokens: X_local = X_local.apply(noun_tokens)\n",
        "        return X_local"
      ],
      "execution_count": 0,
      "outputs": []
    },
    {
      "metadata": {
        "id": "pobDdzuWVz6f",
        "colab_type": "text"
      },
      "cell_type": "markdown",
      "source": [
        "### 6.5.2 Model tuning & evaluation"
      ]
    },
    {
      "metadata": {
        "id": "LR8svvbZWmQU",
        "colab_type": "code",
        "colab": {}
      },
      "cell_type": "code",
      "source": [
        "best_clf = MySimpleDenseNN()"
      ],
      "execution_count": 0,
      "outputs": []
    },
    {
      "metadata": {
        "id": "T3gIiyccV6nw",
        "colab_type": "code",
        "outputId": "b3ab6967-5860-469d-fce6-bbe03e5543ab",
        "colab": {
          "base_uri": "https://localhost:8080/",
          "height": 285
        }
      },
      "cell_type": "code",
      "source": [
        "score(best_clf, X_train, X_test, y_train, y_test,False)"
      ],
      "execution_count": 0,
      "outputs": [
        {
          "output_type": "stream",
          "text": [
            "----------------PERFORMANCE----------------\n",
            "Refitting...done. (11.54s)\n",
            "Predicting...done. (0.45s)\n",
            "Statistic Report:\n",
            "               precision    recall  f1-score   support\n",
            "\n",
            "     business       0.97      0.97      0.97        68\n",
            "entertainment       0.98      1.00      0.99        50\n",
            "     politics       0.99      0.96      0.97        71\n",
            "        sport       1.00      1.00      1.00        73\n",
            "         tech       0.94      0.96      0.95        50\n",
            "\n",
            "  avg / total       0.98      0.98      0.98       312\n",
            "\n"
          ],
          "name": "stdout"
        }
      ]
    },
    {
      "metadata": {
        "id": "uocnGrUt8xwR",
        "colab_type": "text"
      },
      "cell_type": "markdown",
      "source": [
        "## 6.6 K Nearest Neighbours\n",
        "\n",
        "K Nearest Neighbor(KNN) is a very simple and one of the topmost machine learning algorithms. As it is a non-parametric(no assumption for underlying data distribution) and lazy learning algorithm, it is able to simulate learning on real world datasets which do not follow any mathematical/theoretical assumptions.\n",
        "\n",
        "Since all training data is used in the testing phase the testing phase of the classifier is much slower and costlier when compared to the other classifiers."
      ]
    },
    {
      "metadata": {
        "id": "E-7PTJwC9YYo",
        "colab_type": "text"
      },
      "cell_type": "markdown",
      "source": [
        "### 6.6.1 Model Definition"
      ]
    },
    {
      "metadata": {
        "id": "2qtYtHZP9eg8",
        "colab_type": "code",
        "colab": {}
      },
      "cell_type": "code",
      "source": [
        "class MyKNN(BaseEstimator, ClassifierMixin):  \n",
        "    \"\"\"K Nearest Neighbours Classifier\"\"\"\n",
        "\n",
        "    # this function is called to initialize a classifier\n",
        "    def __init__(self, _remove_stopwords=False, _remove_numbers=False, _replace_numbers=False,\n",
        "                 _lemmatize=False, _noun_tokens=False, _vectorizer_name='tf-idf', _vectorizer_min=1, _vectorizer_max=1.0, _k=3 ,otherParam=None):\n",
        "        \"\"\"\n",
        "        Called when initializing the classifier. Initializes parameters.\n",
        "        \"\"\"\n",
        "        self._remove_stopwords=_remove_stopwords\n",
        "        self._remove_numbers=_remove_numbers\n",
        "        self._replace_numbers=_replace_numbers\n",
        "        self._lemmatize=_lemmatize\n",
        "        self._noun_tokens=_noun_tokens\n",
        "        self._vectorizer_name=_vectorizer_name\n",
        "        self._vectorizer_min=_vectorizer_min\n",
        "        self._vectorizer_max=_vectorizer_max\n",
        "        self._k=_k\n",
        "\n",
        "    # function that fits this classifier to the given training set\n",
        "    def fit(self, X, y=None):\n",
        "        \"\"\"\n",
        "        Fits the classifier.\n",
        "        \"\"\"\n",
        "        # apply preprocessing data based on internal parameters\n",
        "        X_local = self.apply_preprocessing(X)\n",
        "        \n",
        "        # choose vectorizer based on hyperparameter \n",
        "        if(self._vectorizer_name == 'tf-idf'):\n",
        "          vectorizer = TfidfVectorizer(norm='l2', lowercase=False, min_df=self._vectorizer_min, max_df=self._vectorizer_max)\n",
        "        elif (self._vectorizer_name == 'count'):\n",
        "          vectorizer = CountVectorizer(lowercase=False, min_df=self._vectorizer_min, max_df=self._vectorizer_max)\n",
        "        else:\n",
        "          print(\"Warning, no vectorizer specified, defaulting to 'tf-idf'\")\n",
        "          vectorizer = TfidfVectorizer(norm='l2', lowercase=False, min_df=self._vectorizer_min, max_df=self._vectorizer_max)\n",
        "        # fit vectorizer on training data and transform that training data using it\n",
        "        doc_list = [' '.join(token_list) for token_list in X_local]\n",
        "        vectorized_matrix_array = vectorizer.fit_transform(doc_list).toarray()\n",
        "        feature_names = vectorizer.get_feature_names()\n",
        "        vectorized_matrix_df = pd.DataFrame(vectorized_matrix_array,columns=[feature_names])\n",
        "        # save model of vectorizer for later use\n",
        "        self._vectorizer = vectorizer\n",
        "         \n",
        "        # fit actual classifier\n",
        "        clf = KNeighborsClassifier(n_neighbors=self._k)                           \n",
        "        clf.fit(vectorized_matrix_df,y)    \n",
        "        self._clf = clf\n",
        "        \n",
        "        return self\n",
        "\n",
        "    def predict(self, X, y=None):\n",
        "        # apply preprocessing data based on internal parameters\n",
        "        X_local = self.apply_preprocessing(X)\n",
        "        \n",
        "        # transform X\n",
        "        doc_list = [' '.join(token_list) for token_list in X_local]\n",
        "        vectorized_matrix_array = self._vectorizer.transform(doc_list).toarray()\n",
        "        feature_names = self._vectorizer.get_feature_names()\n",
        "        vectorized_matrix_df = pd.DataFrame(vectorized_matrix_array,columns=[feature_names])\n",
        "        \n",
        "        # predict\n",
        "        y_pred = self._clf.predict(vectorized_matrix_df)\n",
        "        \n",
        "        return y_pred\n",
        "      \n",
        "    def predict_proba(self, X, y=None):\n",
        "        # apply preprocessing data based on internal parameters\n",
        "        X_local = self.apply_preprocessing(X)\n",
        "        \n",
        "        # transform X\n",
        "        doc_list = [' '.join(token_list) for token_list in X]\n",
        "        vectorized_matrix_array = self._vectorizer.transform(doc_list).toarray()\n",
        "        feature_names = self._vectorizer.get_feature_names()\n",
        "        vectorized_matrix_df = pd.DataFrame(vectorized_matrix_array,columns=[feature_names])\n",
        "        \n",
        "        # predict\n",
        "        y_pred = self._clf.predict_proba(vectorized_matrix_df)\n",
        "        \n",
        "        return y_pred\n",
        "      \n",
        "    def apply_preprocessing(self, X):\n",
        "        # make copies of data to not change the original\n",
        "        X_local = X.copy()\n",
        "        # apply further preprocessing\n",
        "        if self._remove_stopwords: X_local = X_local.apply(remove_stopwords)\n",
        "        if self._remove_numbers: X_local = X_local.apply(remove_numbers)\n",
        "        if self._replace_numbers: X_local = X_local.apply(replace_numbers)\n",
        "        if self._lemmatize: X_local = X_local.apply(lemmatization)\n",
        "        if self._noun_tokens: X_local = X_local.apply(noun_tokens)\n",
        "        return X_local"
      ],
      "execution_count": 0,
      "outputs": []
    },
    {
      "metadata": {
        "id": "LCJRPl9nBd7G",
        "colab_type": "text"
      },
      "cell_type": "markdown",
      "source": [
        "### 6.6.2 Model tuning & evaluation"
      ]
    },
    {
      "metadata": {
        "colab_type": "code",
        "id": "_pQzqLxJBk7j",
        "outputId": "dfd9f77f-c10f-48c4-e2a7-0f3651ba3431",
        "colab": {
          "base_uri": "https://localhost:8080/",
          "height": 105
        }
      },
      "cell_type": "code",
      "source": [
        "parameter_space = {'_k':[9]}\n",
        "best_clf = optimize_cv(MyKNN(), X_train, y_train, parameter_space, n_samples=20, n_folds=3)"
      ],
      "execution_count": 0,
      "outputs": [
        {
          "output_type": "stream",
          "text": [
            "----------------CV & HYPERPARAMETER SEARCH----------------\n",
            "Doing sampled parameter search (1 samples out of 1 grid-points) with CV (3 folds)...done. (110.35s)\n",
            "Avg per sample: (110.35s)\n",
            "Score: 0.8955823293172691\n",
            "Parameters: {'_k': 9}\n"
          ],
          "name": "stdout"
        }
      ]
    },
    {
      "metadata": {
        "id": "8s9fyJTbrqZH",
        "colab_type": "text"
      },
      "cell_type": "markdown",
      "source": [
        "**Remark**\n",
        "\n",
        "In KNN, K is the number of **nearest neighbors**. The number of neighbors is the core deciding factor as it is a hyperparameter that we need choose at the time of model building. \n",
        "\n",
        "Since there are no optimal number of neighbours for all datasets, Since we want as little variance as possible, we choose a larger number of neighbors which will have a smoother decision boundary.\n",
        "\n",
        "We run the model on different values of K to check the performance until an optimum resut is achieved and in this case the value of k=9 returned the most optimal accuracy."
      ]
    },
    {
      "metadata": {
        "colab_type": "code",
        "outputId": "a1125258-b9cd-4062-939f-d005e30f4e61",
        "id": "Av_2hqgABk7r",
        "colab": {
          "base_uri": "https://localhost:8080/",
          "height": 657
        }
      },
      "cell_type": "code",
      "source": [
        "score(best_clf, X_train, X_test, y_train, y_test)"
      ],
      "execution_count": 0,
      "outputs": [
        {
          "output_type": "stream",
          "text": [
            "----------------PERFORMANCE----------------\n",
            "Refitting...done. (1.94s)\n",
            "Predicting...done. (34.65s)\n",
            "Statistic Report:\n",
            "               precision    recall  f1-score   support\n",
            "\n",
            "     business       0.95      0.87      0.91        68\n",
            "entertainment       0.93      0.82      0.87        50\n",
            "     politics       0.81      0.97      0.88        71\n",
            "        sport       0.97      0.99      0.98        73\n",
            "         tech       0.98      0.92      0.95        50\n",
            "\n",
            "  avg / total       0.93      0.92      0.92       312\n",
            "\n"
          ],
          "name": "stdout"
        },
        {
          "output_type": "display_data",
          "data": {
            "image/png": "[encoded data removed]",
            "text/plain": [
              "<matplotlib.figure.Figure at 0x7f2267d4bac8>"
            ]
          },
          "metadata": {
            "tags": []
          }
        }
      ]
    },
    {
      "metadata": {
        "id": "J28-j0DXOfkW",
        "colab_type": "text"
      },
      "cell_type": "markdown",
      "source": [
        "##6.7 Logistical Regression"
      ]
    },
    {
      "metadata": {
        "id": "C0h_xCyq42ug",
        "colab_type": "text"
      },
      "cell_type": "markdown",
      "source": [
        "\n",
        "Logistic regression is a statistical method for predicting binary classes.Therefore it is a special case of linear regression where the target variable is categorical in nature. Therefore we use the class **\"Multinomial\"** for Multinomial Logistic Regression as the target variable has three or more norminal categories.\n",
        "\n",
        "This class implements regularized logistic regression using the ‘liblinear’ library, ‘newton-cg’, ‘sag’ and ‘lbfgs’ solvers. It can handle both dense and sparse input. Use C-ordered arrays or CSR matrices containing 64-bit floats for optimal performance; any other input format will be converted (and copied)."
      ]
    },
    {
      "metadata": {
        "id": "b9bBRuB4OhpZ",
        "colab_type": "text"
      },
      "cell_type": "markdown",
      "source": [
        "###6.7.1 Model Definition"
      ]
    },
    {
      "metadata": {
        "id": "sg4zQqZXOjrM",
        "colab_type": "code",
        "colab": {}
      },
      "cell_type": "code",
      "source": [
        "class MyLogisticRegression(BaseEstimator, ClassifierMixin):\n",
        "    \"\"\"SVM Classifier\"\"\"\n",
        "\n",
        "    # this function is called to initialize a classifier\n",
        "    def __init__(self, solver='liblinear', multi_class='multinomial', _remove_stopwords=False, _remove_numbers=False, _replace_numbers=False,\n",
        "                 _lemmatize=False, _noun_tokens=False, _vectorizer_name='tf-idf', _vectorizer_min=1, _vectorizer_max=1.0 ,otherParam=None):\n",
        "        \"\"\"\n",
        "        Called when initializing the classifier. Initializes parameters.\n",
        "        \"\"\"\n",
        "        self.solver = solver\n",
        "        self.multi_class = multi_class\n",
        "        self._remove_stopwords=_remove_stopwords\n",
        "        self._remove_numbers=_remove_numbers\n",
        "        self._replace_numbers=_replace_numbers\n",
        "        self._lemmatize=_lemmatize\n",
        "        self._noun_tokens=_noun_tokens\n",
        "        self._vectorizer_name=_vectorizer_name\n",
        "        self._vectorizer_min=_vectorizer_min\n",
        "        self._vectorizer_max=_vectorizer_max\n",
        "\n",
        "    # function that fits this classifier to the given training set\n",
        "    def fit(self, X, y=None):\n",
        "        \"\"\"\n",
        "        Fits the classifier.\n",
        "        \"\"\"\n",
        "        # apply preprocessing data based on internal parameters\n",
        "        X_local = self.apply_preprocessing(X)\n",
        "\n",
        "        # choose vectorizer based on hyperparameter\n",
        "        if(self._vectorizer_name == 'tf-idf'):\n",
        "          vectorizer = TfidfVectorizer(norm='l2', lowercase=False, min_df=self._vectorizer_min, max_df=self._vectorizer_max)\n",
        "        elif (self._vectorizer_name == 'count'):\n",
        "          vectorizer = CountVectorizer(lowercase=False, min_df=self._vectorizer_min, max_df=self._vectorizer_max)\n",
        "        else:\n",
        "          print(\"Warning, no vectorizer specified, defaulting to 'tf-idf'\")\n",
        "          vectorizer = TfidfVectorizer(norm='l2', lowercase=False, min_df=self._vectorizer_min, max_df=self._vectorizer_max)\n",
        "        # fit vectorizer on training data and transform that training data using it\n",
        "        doc_list = [' '.join(token_list) for token_list in X_local]\n",
        "        vectorized_matrix_array = vectorizer.fit_transform(doc_list).toarray()\n",
        "        feature_names = vectorizer.get_feature_names()\n",
        "        vectorized_matrix_df = pd.DataFrame(vectorized_matrix_array,columns=[feature_names])\n",
        "        # save model of vectorizer for later use\n",
        "        self._vectorizer = vectorizer\n",
        "\n",
        "        # fit actual classifier\n",
        "        clf = LogisticRegression(solver=self.solver, multi_class=self.multi_class)\n",
        "        clf.fit(vectorized_matrix_df,y)\n",
        "        self._clf = clf\n",
        "\n",
        "        return self\n",
        "\n",
        "    def predict(self, X, y=None):\n",
        "        # apply preprocessing data based on internal parameters\n",
        "        X_local = self.apply_preprocessing(X)\n",
        "\n",
        "        # transform X\n",
        "        doc_list = [' '.join(token_list) for token_list in X_local]\n",
        "        vectorized_matrix_array = self._vectorizer.transform(doc_list).toarray()\n",
        "        feature_names = self._vectorizer.get_feature_names()\n",
        "        vectorized_matrix_df = pd.DataFrame(vectorized_matrix_array,columns=[feature_names])\n",
        "\n",
        "        # predict\n",
        "        y_pred = self._clf.predict(vectorized_matrix_df)\n",
        "\n",
        "        return y_pred\n",
        "\n",
        "    def predict_proba(self, X, y=None):\n",
        "        # apply preprocessing data based on internal parameters\n",
        "        X_local = self.apply_preprocessing(X)\n",
        "\n",
        "        # transform X\n",
        "        doc_list = [' '.join(token_list) for token_list in X]\n",
        "        vectorized_matrix_array = self._vectorizer.transform(doc_list).toarray()\n",
        "        feature_names = self._vectorizer.get_feature_names()\n",
        "        vectorized_matrix_df = pd.DataFrame(vectorized_matrix_array,columns=[feature_names])\n",
        "\n",
        "        # predict\n",
        "        y_pred = self._clf.predict(vectorized_matrix_df)\n",
        "\n",
        "        return y_pred\n",
        "\n",
        "    def apply_preprocessing(self, X):\n",
        "        # make copies of data to not change the original\n",
        "        X_local = X.copy()\n",
        "        # apply further preprocessing\n",
        "        if self._remove_stopwords: X_local = X_local.apply(remove_stopwords)\n",
        "        if self._remove_numbers: X_local = X_local.apply(remove_numbers)\n",
        "        if self._replace_numbers: X_local = X_local.apply(replace_numbers)\n",
        "        if self._lemmatize: X_local = X_local.apply(lemmatization)\n",
        "        if self._noun_tokens: X_local = X_local.apply(noun_tokens)\n",
        "        return X_local\n"
      ],
      "execution_count": 0,
      "outputs": []
    },
    {
      "metadata": {
        "id": "m50nv5rBOlXx",
        "colab_type": "text"
      },
      "cell_type": "markdown",
      "source": [
        "###6.7.2 Model Tuning and Eevaluation"
      ]
    },
    {
      "metadata": {
        "id": "pTAm4WVcOnV6",
        "colab_type": "code",
        "outputId": "1f200f07-6612-4776-a922-b64587118f20",
        "colab": {
          "base_uri": "https://localhost:8080/",
          "height": 125
        }
      },
      "cell_type": "code",
      "source": [
        "parameter_space = {'solver':['lbfgs'], \n",
        "                   'multi_class':['multinomial'],\n",
        "                   '_lemmatize':[True],\n",
        "                   '_vectorizer_name':['tf-idf'],\n",
        "                   '_vectorizer_min':[0.007],\n",
        "                   '_vectorizer_max':[0.30]}\n",
        "best_clf = optimize_cv(MyLogisticRegression(), X_train, y_train, parameter_space, n_samples=10, n_folds=3)"
      ],
      "execution_count": 0,
      "outputs": [
        {
          "output_type": "stream",
          "text": [
            "----------------CV & HYPERPARAMETER SEARCH----------------\n",
            "Doing sampled parameter search (1 samples out of 1 grid-points) with CV (3 folds)...done. (6.77s)\n",
            "Avg per sample: (6.77s)\n",
            "Score: 0.9678714859437751\n",
            "Parameters: {'solver': 'lbfgs', 'multi_class': 'multinomial', '_vectorizer_name': 'tf-idf', '_vectorizer_min': 0.007, '_vectorizer_max': 0.3, '_lemmatize': True}\n"
          ],
          "name": "stdout"
        }
      ]
    },
    {
      "metadata": {
        "id": "M9EcWcyQOo8o",
        "colab_type": "text"
      },
      "cell_type": "markdown",
      "source": [
        "**Remarks**\n",
        "\n",
        "\n",
        "For multiclass problems, only ‘newton-cg’, ‘sag’, ‘saga’ and ‘lbfgs’ handle multinomial loss; ‘liblinear’ is limited to one-versus-rest schemes.\n",
        "\n",
        "A good **advantage** of using Logistic regression is because, of its efficient and straightforward nature it doesn't require high computation power and is easy to implement. however there is a limit to how many categorical features it can handle before it degrades."
      ]
    },
    {
      "metadata": {
        "id": "s4C0KQcsOrFP",
        "colab_type": "code",
        "outputId": "04326577-c73f-4125-c391-33978d6370ea",
        "colab": {
          "base_uri": "https://localhost:8080/",
          "height": 285
        }
      },
      "cell_type": "code",
      "source": [
        "score(best_clf, X_train, X_test, y_train, y_test, False)"
      ],
      "execution_count": 0,
      "outputs": [
        {
          "output_type": "stream",
          "text": [
            "----------------PERFORMANCE----------------\n",
            "Refitting...done. (1.65s)\n",
            "Predicting...done. (0.31s)\n",
            "Statistic Report:\n",
            "               precision    recall  f1-score   support\n",
            "\n",
            "     business       0.97      0.96      0.96        68\n",
            "entertainment       0.96      1.00      0.98        50\n",
            "     politics       0.97      0.97      0.97        71\n",
            "        sport       1.00      1.00      1.00        73\n",
            "         tech       0.96      0.94      0.95        50\n",
            "\n",
            "  avg / total       0.97      0.97      0.97       312\n",
            "\n"
          ],
          "name": "stdout"
        }
      ]
    },
    {
      "metadata": {
        "id": "_Q-eQfMI3xSX",
        "colab_type": "text"
      },
      "cell_type": "markdown",
      "source": [
        "# 7 Global evaluation"
      ]
    },
    {
      "metadata": {
        "id": "MsXJjIZr4g_U",
        "colab_type": "code",
        "colab": {}
      },
      "cell_type": "code",
      "source": [
        "model_reports = model_reports.sort_values('accuracy', ascending=False).reset_index(drop=True)\n"
      ],
      "execution_count": 0,
      "outputs": []
    },
    {
      "metadata": {
        "id": "qtQGbI0XI6su",
        "colab_type": "text"
      },
      "cell_type": "markdown",
      "source": [
        "## 7.1 Ensemble classifier\n",
        "1: Throught Performance -> accuracy, f1 etc\n",
        "\n",
        "2: Through the time taken to train model\n",
        "\n",
        "3: Through the size of the model required \n",
        "  \n",
        "4: Characteristics based on -> Interporability, Scalability, and Scraping(Modelling from online sources)"
      ]
    },
    {
      "metadata": {
        "id": "ytJWrKU0twso",
        "colab_type": "code",
        "colab": {}
      },
      "cell_type": "code",
      "source": [
        "ensemble = list(model_reports.head(4)['classifier'])"
      ],
      "execution_count": 0,
      "outputs": []
    },
    {
      "metadata": {
        "id": "wQO-QhNdwYg1",
        "colab_type": "code",
        "colab": {}
      },
      "cell_type": "code",
      "source": [
        "def ensemble_predictions(list_of_clf, X):\n",
        "    '''\n",
        "    This function predicts on data for each classifier in the list of classifiers\n",
        "    '''\n",
        "    print('Predicting...',end='')\n",
        "    predictions = []\n",
        "    time_start = time.time()\n",
        "\n",
        "    for classifier in list_of_clf:\n",
        "      y_pred = classifier.predict(X)\n",
        "      predictions.append(y_pred)\n",
        "    time_predict = time.time() - time_start\n",
        "    print('done.', f_time(time_predict))\n",
        "    return predictions\n",
        "\n",
        "class MyEnsembleClassifier(BaseEstimator, ClassifierMixin):  \n",
        "    \"\"\"Ensemble Classifier class \"\"\"\n",
        "\n",
        "    # this function is called to initialize a classifier\n",
        "    def __init__(self, _ensemble = []):\n",
        "        \"\"\"\n",
        "        Called when initializing the ensemble. Initializes parameters.\n",
        "        \"\"\"\n",
        "        self._fit_ensemble = []\n",
        "        self._ensemble = _ensemble\n",
        "    \n",
        "    # function that fits this classifier to the given training set\n",
        "    def fit(self, X, y=None):\n",
        "        \"\"\"\n",
        "        Fits the classifiers on a random 75% of the data.\n",
        "        \"\"\"\n",
        "\n",
        "        for clf in self._ensemble:        \n",
        "        # fit actual classifier\n",
        "          X_train, X_test, y_train, y_test = train_test_split(X, y, train_size=0.75)\n",
        "          clf.fit(X_train,y_train)    \n",
        "          self._fit_ensemble.append(clf)        \n",
        "        return self\n",
        "    \n",
        "    def predict(self, X, y=None):\n",
        "        '''\n",
        "        The prediction is made on the vote of each row in the matrix of the predictions\n",
        "        The prediction matrix is reshaped to the num_classifiers x dataset_len\n",
        "        '''\n",
        "        prediction_matrix = ensemble_predictions(self._fit_ensemble,X)\n",
        "        prediction_matrix = np.concatenate(prediction_matrix)\n",
        "        prediction_matrix = prediction_matrix.reshape(len(self._fit_ensemble),len(X))\n",
        "\n",
        "        final_predict = []\n",
        "        for i in range(len(X)):\n",
        "          vote = []\n",
        "          for j in range(len(self._fit_ensemble)):\n",
        "            vote.append(prediction_matrix[j][i])\n",
        "          final_predict.append(max(vote,key=vote.count))\n",
        "        return final_predict \n",
        "    \n",
        "    def predict_proba(self, X, y=None):\n",
        "        '''\n",
        "        The prediction is made on the vote of each row in the matrix of the predictions\n",
        "        The prediction matrix is reshaped to the num_classifiers x dataset_len\n",
        "        '''\n",
        "        prediction_matrix = ensemble_predictions(self._fit_ensemble,X)\n",
        "        prediction_matrix = np.concatenate(prediction_matrix)\n",
        "        prediction_matrix = prediction_matrix.reshape(len(self._fit_ensemble),len(X))\n",
        "\n",
        "        final_predict = []\n",
        "        for i in range(len(X)):\n",
        "          vote = []\n",
        "          for j in range(len(self._fit_ensemble)):\n",
        "            vote.append(prediction_matrix[j][i])\n",
        "          final_predict.append(max(vote,key=vote.count))\n",
        "        return final_predict \n"
      ],
      "execution_count": 0,
      "outputs": []
    },
    {
      "metadata": {
        "id": "TKPP9yJJasaq",
        "colab_type": "code",
        "outputId": "20a4b1e1-2a0b-4e93-8e1b-f2874f6284a1",
        "colab": {
          "base_uri": "https://localhost:8080/",
          "height": 301
        }
      },
      "cell_type": "code",
      "source": [
        "ensemble_clf = MyEnsembleClassifier(_ensemble=ensemble)\n",
        "score(ensemble_clf, X_train, X_test, y_train, y_test, False)"
      ],
      "execution_count": 0,
      "outputs": [
        {
          "output_type": "stream",
          "text": [
            "----------------PERFORMANCE----------------\n",
            "Refitting...done. (9.54s)\n",
            "Predicting...Predicting...done. (0.79s)\n",
            "Predicting...done. (0.76s)\n",
            "done. (1.56s)\n",
            "Statistic Report:\n",
            "               precision    recall  f1-score   support\n",
            "\n",
            "     business       0.98      0.96      0.97        68\n",
            "entertainment       1.00      0.98      0.99        50\n",
            "     politics       0.97      1.00      0.99        71\n",
            "        sport       1.00      1.00      1.00        73\n",
            "         tech       0.94      0.96      0.95        50\n",
            "\n",
            "  avg / total       0.98      0.98      0.98       312\n",
            "\n"
          ],
          "name": "stdout"
        }
      ]
    },
    {
      "metadata": {
        "id": "9_pwR40YxQTk",
        "colab_type": "code",
        "outputId": "cb087291-ef40-4638-8709-fa7d9e4874ef",
        "colab": {
          "base_uri": "https://localhost:8080/",
          "height": 34
        }
      },
      "cell_type": "code",
      "source": [
        "test_vote_prediction = ensemble_clf.predict(X_test)"
      ],
      "execution_count": 0,
      "outputs": [
        {
          "output_type": "stream",
          "text": [
            "Predicting...done. (0.76s)\n"
          ],
          "name": "stdout"
        }
      ]
    },
    {
      "metadata": {
        "id": "toIgq-XVAft4",
        "colab_type": "code",
        "outputId": "7fd67daf-df03-4aa5-f39a-ad5fe4ff9964",
        "colab": {
          "base_uri": "https://localhost:8080/",
          "height": 34
        }
      },
      "cell_type": "code",
      "source": [
        "accuracy_score(test_vote_prediction,y_test)"
      ],
      "execution_count": 0,
      "outputs": [
        {
          "output_type": "execute_result",
          "data": {
            "text/plain": [
              "0.9807692307692307"
            ]
          },
          "metadata": {
            "tags": []
          },
          "execution_count": 96
        }
      ]
    },
    {
      "metadata": {
        "id": "bLUx8onz5B9S",
        "colab_type": "text"
      },
      "cell_type": "markdown",
      "source": [
        "## 7.2 Evaluation of results"
      ]
    },
    {
      "metadata": {
        "id": "dIYnH8wT5G-i",
        "colab_type": "code",
        "outputId": "a56d5de6-0f65-4526-a66f-e60f578487ee",
        "colab": {
          "base_uri": "https://localhost:8080/",
          "height": 317
        }
      },
      "cell_type": "code",
      "source": [
        "model_reports.sort_values('accuracy', ascending=False).reset_index(drop=True)"
      ],
      "execution_count": 0,
      "outputs": [
        {
          "output_type": "execute_result",
          "data": {
            "text/html": [
              "<div>\n",
              "<style scoped>\n",
              "    .dataframe tbody tr th:only-of-type {\n",
              "        vertical-align: middle;\n",
              "    }\n",
              "\n",
              "    .dataframe tbody tr th {\n",
              "        vertical-align: top;\n",
              "    }\n",
              "\n",
              "    .dataframe thead th {\n",
              "        text-align: right;\n",
              "    }\n",
              "</style>\n",
              "<table border=\"1\" class=\"dataframe\">\n",
              "  <thead>\n",
              "    <tr style=\"text-align: right;\">\n",
              "      <th></th>\n",
              "      <th>model_name</th>\n",
              "      <th>accuracy</th>\n",
              "      <th>avg_precision</th>\n",
              "      <th>avg_recall</th>\n",
              "      <th>avg_f1-score</th>\n",
              "      <th>time_fit</th>\n",
              "      <th>time_predict</th>\n",
              "      <th>classifier</th>\n",
              "    </tr>\n",
              "  </thead>\n",
              "  <tbody>\n",
              "    <tr>\n",
              "      <th>0</th>\n",
              "      <td>MyMultinomialNB</td>\n",
              "      <td>0.983974</td>\n",
              "      <td>0.984102</td>\n",
              "      <td>0.983974</td>\n",
              "      <td>0.983967</td>\n",
              "      <td>0.631206</td>\n",
              "      <td>0.375335</td>\n",
              "      <td>MyMultinomialNB(_alpha=0.05, _lemmatize=True, ...</td>\n",
              "    </tr>\n",
              "    <tr>\n",
              "      <th>1</th>\n",
              "      <td>MyEnsembleClassifier</td>\n",
              "      <td>0.980769</td>\n",
              "      <td>0.981036</td>\n",
              "      <td>0.980769</td>\n",
              "      <td>0.980781</td>\n",
              "      <td>9.540673</td>\n",
              "      <td>1.555614</td>\n",
              "      <td>MyEnsembleClassifier(_ensemble=[MyMultinomialN...</td>\n",
              "    </tr>\n",
              "    <tr>\n",
              "      <th>2</th>\n",
              "      <td>MySVM</td>\n",
              "      <td>0.977564</td>\n",
              "      <td>0.977637</td>\n",
              "      <td>0.977564</td>\n",
              "      <td>0.977480</td>\n",
              "      <td>0.786366</td>\n",
              "      <td>0.417509</td>\n",
              "      <td>MySVM(_lemmatize=False, _noun_tokens=False, _r...</td>\n",
              "    </tr>\n",
              "    <tr>\n",
              "      <th>3</th>\n",
              "      <td>MySimpleDenseNN</td>\n",
              "      <td>0.977564</td>\n",
              "      <td>0.977723</td>\n",
              "      <td>0.977564</td>\n",
              "      <td>0.977568</td>\n",
              "      <td>11.543472</td>\n",
              "      <td>0.446343</td>\n",
              "      <td>MySimpleDenseNN(_lemmatize=False, _noun_tokens...</td>\n",
              "    </tr>\n",
              "    <tr>\n",
              "      <th>4</th>\n",
              "      <td>MyLogisticRegression</td>\n",
              "      <td>0.974359</td>\n",
              "      <td>0.974379</td>\n",
              "      <td>0.974359</td>\n",
              "      <td>0.974282</td>\n",
              "      <td>1.646502</td>\n",
              "      <td>0.310867</td>\n",
              "      <td>MyLogisticRegression(_lemmatize=True, _noun_to...</td>\n",
              "    </tr>\n",
              "    <tr>\n",
              "      <th>5</th>\n",
              "      <td>MyKNN</td>\n",
              "      <td>0.919872</td>\n",
              "      <td>0.925959</td>\n",
              "      <td>0.919872</td>\n",
              "      <td>0.920130</td>\n",
              "      <td>1.941661</td>\n",
              "      <td>34.651924</td>\n",
              "      <td>MyKNN(_k=9, _lemmatize=False, _noun_tokens=Fal...</td>\n",
              "    </tr>\n",
              "    <tr>\n",
              "      <th>6</th>\n",
              "      <td>MyExtraTreesClassifier</td>\n",
              "      <td>0.916667</td>\n",
              "      <td>0.918317</td>\n",
              "      <td>0.916667</td>\n",
              "      <td>0.915731</td>\n",
              "      <td>0.686574</td>\n",
              "      <td>0.244627</td>\n",
              "      <td>MyExtraTreesClassifier(_lemmatize=True, _noun_...</td>\n",
              "    </tr>\n",
              "    <tr>\n",
              "      <th>7</th>\n",
              "      <td>MyRandomForestClassifier</td>\n",
              "      <td>0.910256</td>\n",
              "      <td>0.911643</td>\n",
              "      <td>0.910256</td>\n",
              "      <td>0.909417</td>\n",
              "      <td>0.569096</td>\n",
              "      <td>0.214311</td>\n",
              "      <td>MyRandomForestClassifier(_lemmatize=False, _no...</td>\n",
              "    </tr>\n",
              "    <tr>\n",
              "      <th>8</th>\n",
              "      <td>MyDecisionTreeClassifier</td>\n",
              "      <td>0.778846</td>\n",
              "      <td>0.778705</td>\n",
              "      <td>0.778846</td>\n",
              "      <td>0.777279</td>\n",
              "      <td>0.822264</td>\n",
              "      <td>0.170454</td>\n",
              "      <td>MyDecisionTreeClassifier(_lemmatize=False, _no...</td>\n",
              "    </tr>\n",
              "  </tbody>\n",
              "</table>\n",
              "</div>"
            ],
            "text/plain": [
              "                 model_name  accuracy  avg_precision  avg_recall  \\\n",
              "0           MyMultinomialNB  0.983974       0.984102    0.983974   \n",
              "1      MyEnsembleClassifier  0.980769       0.981036    0.980769   \n",
              "2                     MySVM  0.977564       0.977637    0.977564   \n",
              "3           MySimpleDenseNN  0.977564       0.977723    0.977564   \n",
              "4      MyLogisticRegression  0.974359       0.974379    0.974359   \n",
              "5                     MyKNN  0.919872       0.925959    0.919872   \n",
              "6    MyExtraTreesClassifier  0.916667       0.918317    0.916667   \n",
              "7  MyRandomForestClassifier  0.910256       0.911643    0.910256   \n",
              "8  MyDecisionTreeClassifier  0.778846       0.778705    0.778846   \n",
              "\n",
              "   avg_f1-score   time_fit  time_predict  \\\n",
              "0      0.983967   0.631206      0.375335   \n",
              "1      0.980781   9.540673      1.555614   \n",
              "2      0.977480   0.786366      0.417509   \n",
              "3      0.977568  11.543472      0.446343   \n",
              "4      0.974282   1.646502      0.310867   \n",
              "5      0.920130   1.941661     34.651924   \n",
              "6      0.915731   0.686574      0.244627   \n",
              "7      0.909417   0.569096      0.214311   \n",
              "8      0.777279   0.822264      0.170454   \n",
              "\n",
              "                                          classifier  \n",
              "0  MyMultinomialNB(_alpha=0.05, _lemmatize=True, ...  \n",
              "1  MyEnsembleClassifier(_ensemble=[MyMultinomialN...  \n",
              "2  MySVM(_lemmatize=False, _noun_tokens=False, _r...  \n",
              "3  MySimpleDenseNN(_lemmatize=False, _noun_tokens...  \n",
              "4  MyLogisticRegression(_lemmatize=True, _noun_to...  \n",
              "5  MyKNN(_k=9, _lemmatize=False, _noun_tokens=Fal...  \n",
              "6  MyExtraTreesClassifier(_lemmatize=True, _noun_...  \n",
              "7  MyRandomForestClassifier(_lemmatize=False, _no...  \n",
              "8  MyDecisionTreeClassifier(_lemmatize=False, _no...  "
            ]
          },
          "metadata": {
            "tags": []
          },
          "execution_count": 97
        }
      ]
    },
    {
      "metadata": {
        "id": "wXPKfZzO5FL9",
        "colab_type": "text"
      },
      "cell_type": "markdown",
      "source": [
        " ***Comparison of Models***\n",
        "All models performed reasonable well with many scoring ~95% accuracy when tested with unseen data. KNN and the NN The models are while high in accuracy are infeasible to train on larger data sets, as they take so long to both train and predict on. \n",
        "\n",
        "Our ensemble while not performing as well as the best model. Ensembles are able to account for real world variances and the models are trained on randomised class distributions. this makes them more robust(they give a more pessimistic prediction which is realistic and more reliable)."
      ]
    },
    {
      "metadata": {
        "id": "CWMCCMJf_V-4",
        "colab_type": "text"
      },
      "cell_type": "markdown",
      "source": [
        "## 7.3 Final predictions\n",
        "\n",
        "Bagging consists of running multiple different models here we take a majority vote on between all used classifers to come up with the best decision. This is useful when you want to decrease the variance while keeping the bias same. It works this way because bagging is kind of an averaging technique.Bagging helps when it is applied to an over fitted model (low bias high variance). It does not help much with models which have high bias.  Using an ensemble of the \n",
        "above models may not guarantee a higher accuracy that the top model, however it means our classifier in theory will be more robust."
      ]
    },
    {
      "metadata": {
        "id": "EDA1lnmhDsIY",
        "colab_type": "code",
        "colab": {}
      },
      "cell_type": "code",
      "source": [
        "def get_preprocessed_final():\n",
        "  # load\n",
        "  print('Loading preprocessed data...', end='')\n",
        "  time_start = time.time()\n",
        "  processed_df = load_preprocessed_prod()\n",
        "  X_processed = processed_df['content']\n",
        "  print('done.',f_time(time.time()-time_start))\n",
        "  return X_processed"
      ],
      "execution_count": 0,
      "outputs": []
    },
    {
      "metadata": {
        "id": "W-5nNFRl_u6_",
        "colab_type": "code",
        "outputId": "9a57123d-f9e1-4681-a6ee-05765b3e54e9",
        "colab": {
          "base_uri": "https://localhost:8080/",
          "height": 52
        }
      },
      "cell_type": "code",
      "source": [
        "final_test = get_preprocessed_final()\n",
        "final_vote_prediction = ensemble_clf.predict(final_test)\n",
        "final_test_output = load_raw_prod()"
      ],
      "execution_count": 0,
      "outputs": [
        {
          "output_type": "stream",
          "text": [
            "Loading preprocessed data...done. (0.44s)\n",
            "Predicting...done. (1.27s)\n"
          ],
          "name": "stdout"
        }
      ]
    },
    {
      "metadata": {
        "id": "3E57hrRsLrk4",
        "colab_type": "code",
        "colab": {}
      },
      "cell_type": "code",
      "source": [
        "del final_test_output['index']\n",
        "final_test_output['category'] = final_vote_prediction"
      ],
      "execution_count": 0,
      "outputs": []
    },
    {
      "metadata": {
        "id": "S45F88eLvHT4",
        "colab_type": "code",
        "outputId": "58cc8150-062c-4a18-82c2-f0da9554ea5c",
        "colab": {
          "base_uri": "https://localhost:8080/",
          "height": 197
        }
      },
      "cell_type": "code",
      "source": [
        "final_test_output.head()"
      ],
      "execution_count": 0,
      "outputs": [
        {
          "output_type": "execute_result",
          "data": {
            "text/html": [
              "<div>\n",
              "<style scoped>\n",
              "    .dataframe tbody tr th:only-of-type {\n",
              "        vertical-align: middle;\n",
              "    }\n",
              "\n",
              "    .dataframe tbody tr th {\n",
              "        vertical-align: top;\n",
              "    }\n",
              "\n",
              "    .dataframe thead th {\n",
              "        text-align: right;\n",
              "    }\n",
              "</style>\n",
              "<table border=\"1\" class=\"dataframe\">\n",
              "  <thead>\n",
              "    <tr style=\"text-align: right;\">\n",
              "      <th></th>\n",
              "      <th>content</th>\n",
              "      <th>category</th>\n",
              "    </tr>\n",
              "  </thead>\n",
              "  <tbody>\n",
              "    <tr>\n",
              "      <th>0</th>\n",
              "      <td>Eminem secret gig venue revealed Rapper Eminem...</td>\n",
              "      <td>entertainment</td>\n",
              "    </tr>\n",
              "    <tr>\n",
              "      <th>1</th>\n",
              "      <td>Munster Cup tie switched to Spain Munster's He...</td>\n",
              "      <td>sport</td>\n",
              "    </tr>\n",
              "    <tr>\n",
              "      <th>2</th>\n",
              "      <td>Eastwood's Baby scoops top Oscars Clint Eastwo...</td>\n",
              "      <td>entertainment</td>\n",
              "    </tr>\n",
              "    <tr>\n",
              "      <th>3</th>\n",
              "      <td>Spears seeks aborted tour payment Singer Britn...</td>\n",
              "      <td>entertainment</td>\n",
              "    </tr>\n",
              "    <tr>\n",
              "      <th>4</th>\n",
              "      <td>Gadget show heralds MP3 Christmas Partners of ...</td>\n",
              "      <td>tech</td>\n",
              "    </tr>\n",
              "  </tbody>\n",
              "</table>\n",
              "</div>"
            ],
            "text/plain": [
              "                                             content       category\n",
              "0  Eminem secret gig venue revealed Rapper Eminem...  entertainment\n",
              "1  Munster Cup tie switched to Spain Munster's He...          sport\n",
              "2  Eastwood's Baby scoops top Oscars Clint Eastwo...  entertainment\n",
              "3  Spears seeks aborted tour payment Singer Britn...  entertainment\n",
              "4  Gadget show heralds MP3 Christmas Partners of ...           tech"
            ]
          },
          "metadata": {
            "tags": []
          },
          "execution_count": 92
        }
      ]
    },
    {
      "metadata": {
        "id": "ZQ5QWA9bu8JA",
        "colab_type": "code",
        "colab": {}
      },
      "cell_type": "code",
      "source": [
        "final_test_output.to_csv('final_test_output.csv', index=False)"
      ],
      "execution_count": 0,
      "outputs": []
    },
    {
      "metadata": {
        "id": "YQH4D7844eZc",
        "colab_type": "code",
        "colab": {}
      },
      "cell_type": "code",
      "source": [
        ""
      ],
      "execution_count": 0,
      "outputs": []
    }
  ]
}